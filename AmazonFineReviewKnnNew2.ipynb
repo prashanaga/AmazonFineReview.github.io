{
 "cells": [
  {
   "cell_type": "code",
   "execution_count": 1,
   "metadata": {
    "colab": {
     "base_uri": "https://localhost:8080/",
     "height": 323
    },
    "colab_type": "code",
    "id": "1AxUIRRe6pKz",
    "outputId": "cf58ab54-3e68-4384-b61e-229adc518f50"
   },
   "outputs": [
    {
     "name": "stdout",
     "output_type": "stream",
     "text": [
      "Requirement already satisfied: dask in /usr/local/lib/python3.6/dist-packages (0.20.2)\n",
      "Requirement already satisfied: graphviz in /usr/local/lib/python3.6/dist-packages (0.10.1)\n",
      "Requirement already satisfied: folium in /usr/local/lib/python3.6/dist-packages (0.2.1)\n",
      "Requirement already satisfied: Jinja2 in /usr/local/lib/python3.6/dist-packages (from folium) (2.10)\n",
      "Requirement already satisfied: MarkupSafe>=0.23 in /usr/local/lib/python3.6/dist-packages (from Jinja2->folium) (1.1.0)\n",
      "Collecting gpxpy\n",
      "\u001b[?25l  Downloading https://files.pythonhosted.org/packages/b9/a5/ee53011f9c78bc7858b9bcd9bf0a52222a0cf47e13050fc8ca1800af957a/gpxpy-1.3.4.tar.gz (105kB)\n",
      "\u001b[K    100% |████████████████████████████████| 112kB 4.7MB/s \n",
      "\u001b[?25hBuilding wheels for collected packages: gpxpy\n",
      "  Running setup.py bdist_wheel for gpxpy ... \u001b[?25l-\b \bdone\n",
      "\u001b[?25h  Stored in directory: /root/.cache/pip/wheels/7c/81/7f/effefbec600ee0ba7f29a29e38754a6e4e1e956538929fdbfd\n",
      "Successfully built gpxpy\n",
      "Installing collected packages: gpxpy\n",
      "Successfully installed gpxpy-1.3.4\n",
      "Requirement already satisfied: sklearn in /usr/local/lib/python3.6/dist-packages (0.0)\n",
      "Requirement already satisfied: scikit-learn in /usr/local/lib/python3.6/dist-packages (from sklearn) (0.20.1)\n",
      "Requirement already satisfied: scipy>=0.13.3 in /usr/local/lib/python3.6/dist-packages (from scikit-learn->sklearn) (1.1.0)\n",
      "Requirement already satisfied: numpy>=1.8.2 in /usr/local/lib/python3.6/dist-packages (from scikit-learn->sklearn) (1.14.6)\n"
     ]
    }
   ],
   "source": [
    "!pip3 install dask\n",
    "!pip install graphviz\n",
    "!pip install folium\n",
    "!pip install gpxpy\n",
    "!pip install sklearn"
   ]
  },
  {
   "cell_type": "code",
   "execution_count": 2,
   "metadata": {
    "colab": {
     "base_uri": "https://localhost:8080/",
     "height": 513
    },
    "colab_type": "code",
    "id": "0d_L_Ypw6sLZ",
    "outputId": "0f1465f5-e77f-4263-b3a2-aa248e558538"
   },
   "outputs": [
    {
     "name": "stdout",
     "output_type": "stream",
     "text": [
      "Requirement already satisfied: dask[complete] in /usr/local/lib/python3.6/dist-packages (0.20.2)\n",
      "Requirement already satisfied: toolz>=0.7.3; extra == \"complete\" in /usr/local/lib/python3.6/dist-packages (from dask[complete]) (0.9.0)\n",
      "Requirement already satisfied: numpy>=1.11.0; extra == \"complete\" in /usr/local/lib/python3.6/dist-packages (from dask[complete]) (1.14.6)\n",
      "Requirement already satisfied: cloudpickle>=0.2.1; extra == \"complete\" in /usr/local/lib/python3.6/dist-packages (from dask[complete]) (0.6.1)\n",
      "Collecting partd>=0.3.8; extra == \"complete\" (from dask[complete])\n",
      "  Downloading https://files.pythonhosted.org/packages/e2/bc/4dfd1e62e04a26d7ee56ade63af15e3249aeb3ed05d70ac590da2ca7c44d/partd-0.3.9-py2.py3-none-any.whl\n",
      "Requirement already satisfied: pandas>=0.19.0; extra == \"complete\" in /usr/local/lib/python3.6/dist-packages (from dask[complete]) (0.22.0)\n",
      "Requirement already satisfied: distributed>=1.22; extra == \"complete\" in /usr/local/lib/python3.6/dist-packages (from dask[complete]) (1.25.0)\n",
      "Collecting locket (from partd>=0.3.8; extra == \"complete\"->dask[complete])\n",
      "  Downloading https://files.pythonhosted.org/packages/d0/22/3c0f97614e0be8386542facb3a7dcfc2584f7b83608c02333bced641281c/locket-0.2.0.tar.gz\n",
      "Requirement already satisfied: python-dateutil>=2 in /usr/local/lib/python3.6/dist-packages (from pandas>=0.19.0; extra == \"complete\"->dask[complete]) (2.5.3)\n",
      "Requirement already satisfied: pytz>=2011k in /usr/local/lib/python3.6/dist-packages (from pandas>=0.19.0; extra == \"complete\"->dask[complete]) (2018.7)\n",
      "Requirement already satisfied: zict>=0.1.3 in /usr/local/lib/python3.6/dist-packages (from distributed>=1.22; extra == \"complete\"->dask[complete]) (0.1.3)\n",
      "Requirement already satisfied: tblib in /usr/local/lib/python3.6/dist-packages (from distributed>=1.22; extra == \"complete\"->dask[complete]) (1.3.2)\n",
      "Requirement already satisfied: six in /usr/local/lib/python3.6/dist-packages (from distributed>=1.22; extra == \"complete\"->dask[complete]) (1.11.0)\n",
      "Requirement already satisfied: click>=6.6 in /usr/local/lib/python3.6/dist-packages (from distributed>=1.22; extra == \"complete\"->dask[complete]) (7.0)\n",
      "Requirement already satisfied: sortedcontainers!=2.0.0,!=2.0.1 in /usr/local/lib/python3.6/dist-packages (from distributed>=1.22; extra == \"complete\"->dask[complete]) (2.1.0)\n",
      "Requirement already satisfied: tornado>=4.5.1 in /usr/local/lib/python3.6/dist-packages (from distributed>=1.22; extra == \"complete\"->dask[complete]) (4.5.3)\n",
      "Requirement already satisfied: psutil>=5.0 in /usr/local/lib/python3.6/dist-packages (from distributed>=1.22; extra == \"complete\"->dask[complete]) (5.4.8)\n",
      "Requirement already satisfied: msgpack in /usr/local/lib/python3.6/dist-packages (from distributed>=1.22; extra == \"complete\"->dask[complete]) (0.6.0)\n",
      "Requirement already satisfied: pyyaml in /usr/local/lib/python3.6/dist-packages (from distributed>=1.22; extra == \"complete\"->dask[complete]) (3.13)\n",
      "Requirement already satisfied: heapdict in /usr/local/lib/python3.6/dist-packages (from zict>=0.1.3->distributed>=1.22; extra == \"complete\"->dask[complete]) (1.0.0)\n",
      "Building wheels for collected packages: locket\n",
      "  Running setup.py bdist_wheel for locket ... \u001b[?25l-\b \bdone\n",
      "\u001b[?25h  Stored in directory: /root/.cache/pip/wheels/26/1e/e8/4fa236ec931b1a0cdd61578e20d4934d7bf188858723b84698\n",
      "Successfully built locket\n",
      "Installing collected packages: locket, partd\n",
      "Successfully installed locket-0.2.0 partd-0.3.9\n"
     ]
    }
   ],
   "source": [
    "!pip install dask[complete]"
   ]
  },
  {
   "cell_type": "code",
   "execution_count": 0,
   "metadata": {
    "colab": {},
    "colab_type": "code",
    "id": "m6V2gh_o6xGv"
   },
   "outputs": [],
   "source": [
    "%matplotlib inline\n",
    "import sqlite3\n",
    "import pandas as pd\n",
    "import numpy as np\n",
    "import nltk\n",
    "import string\n",
    "import matplotlib.pyplot as plt\n",
    "import seaborn as sns\n",
    "from sklearn.feature_extraction.text import TfidfTransformer\n",
    "from sklearn.feature_extraction.text import TfidfVectorizer\n",
    "\n",
    "from sklearn import metrics\n",
    "\n",
    "from sklearn.feature_extraction.text import CountVectorizer\n",
    "from sklearn.metrics import confusion_matrix\n",
    "from sklearn import metrics\n",
    "from sklearn.metrics import roc_curve, auc\n",
    "from nltk.stem.porter import PorterStemmer\n",
    "from sklearn.neighbors import KNeighborsClassifier\n",
    "from sklearn.model_selection import train_test_split\n",
    "#from sklearn.cross_validation import cross_val_score\n",
    "from sklearn.metrics import accuracy_score"
   ]
  },
  {
   "cell_type": "code",
   "execution_count": 4,
   "metadata": {
    "colab": {
     "base_uri": "https://localhost:8080/",
     "height": 122
    },
    "colab_type": "code",
    "id": "LovcRGar6i8p",
    "outputId": "34b5c3eb-03ff-41f6-851d-44553ae403d7"
   },
   "outputs": [
    {
     "name": "stdout",
     "output_type": "stream",
     "text": [
      "Go to this URL in a browser: https://accounts.google.com/o/oauth2/auth?client_id=947318989803-6bn6qk8qdgf4n4g3pfee6491hc0brc4i.apps.googleusercontent.com&redirect_uri=urn%3Aietf%3Awg%3Aoauth%3A2.0%3Aoob&scope=email%20https%3A%2F%2Fwww.googleapis.com%2Fauth%2Fdocs.test%20https%3A%2F%2Fwww.googleapis.com%2Fauth%2Fdrive%20https%3A%2F%2Fwww.googleapis.com%2Fauth%2Fdrive.photos.readonly%20https%3A%2F%2Fwww.googleapis.com%2Fauth%2Fpeopleapi.readonly&response_type=code\n",
      "\n",
      "Enter your authorization code:\n",
      "··········\n",
      "Mounted at /content/drive\n"
     ]
    }
   ],
   "source": [
    "from google.colab import drive\n",
    "drive.mount('/content/drive')\n"
   ]
  },
  {
   "cell_type": "code",
   "execution_count": 0,
   "metadata": {
    "colab": {},
    "colab_type": "code",
    "id": "7bHmKKGh69RV"
   },
   "outputs": [],
   "source": [
    "con = sqlite3.connect(r'/content/drive/My Drive/database.sqlite') "
   ]
  },
  {
   "cell_type": "code",
   "execution_count": 12,
   "metadata": {
    "colab": {
     "base_uri": "https://localhost:8080/",
     "height": 357
    },
    "colab_type": "code",
    "id": "GkIga8n07DDk",
    "outputId": "e2f85c39-4424-4f46-8cfa-9de55c8051fb"
   },
   "outputs": [
    {
     "name": "stdout",
     "output_type": "stream",
     "text": [
      "   Id   ProductId          UserId                      ProfileName  \\\n",
      "0   1  B001E4KFG0  A3SGXH7AUHU8GW                       delmartian   \n",
      "1   2  B00813GRG4  A1D87F6ZCVE5NK                           dll pa   \n",
      "2   3  B000LQOCH0   ABXLMWJIXXAIN  Natalia Corres \"Natalia Corres\"   \n",
      "3   4  B000UA0QIQ  A395BORC6FGVXV                             Karl   \n",
      "4   5  B006K2ZZ7K  A1UQRSCLF8GW1T    Michael D. Bigham \"M. Wassir\"   \n",
      "\n",
      "   HelpfulnessNumerator  HelpfulnessDenominator     Score        Time  \\\n",
      "0                     1                       1  positive  1303862400   \n",
      "1                     0                       0  negative  1346976000   \n",
      "2                     1                       1  positive  1219017600   \n",
      "3                     3                       3  negative  1307923200   \n",
      "4                     0                       0  positive  1350777600   \n",
      "\n",
      "                 Summary                                               Text  \n",
      "0  Good Quality Dog Food  I have bought several of the Vitality canned d...  \n",
      "1      Not as Advertised  Product arrived labeled as Jumbo Salted Peanut...  \n",
      "2  \"Delight\" says it all  This is a confection that has been around a fe...  \n",
      "3         Cough Medicine  If you are looking for the secret ingredient i...  \n",
      "4            Great taffy  Great taffy at a great price.  There was a wid...  \n"
     ]
    }
   ],
   "source": [
    "filteredData = pd.read_sql_query(\"\"\"\n",
    "SELECT *\n",
    "FROM Reviews\n",
    "WHERE Score != 3\n",
    "\"\"\", con)\n",
    "#filteredData=filteredData.iloc[0:3000,:]\n",
    "#filteredData.shape               \n",
    "dfScore=filteredData['Score']\n",
    "\n",
    "def convertPositiveNegative(x):\n",
    "    if x < 3:\n",
    "        return 'negative'\n",
    "    return 'positive'\n",
    "dfPositiveNegative=dfScore.map(convertPositiveNegative)\n",
    "\n",
    "\n",
    "filteredData['Score']=dfPositiveNegative\n",
    "print(filteredData.head(5))"
   ]
  },
  {
   "cell_type": "code",
   "execution_count": 0,
   "metadata": {
    "colab": {},
    "colab_type": "code",
    "id": "dcAd1Epf6i81"
   },
   "outputs": [],
   "source": [
    "sorted_data=filteredData.sort_values('ProductId', axis=0, ascending=True, inplace=False, kind='quicksort', na_position='last')"
   ]
  },
  {
   "cell_type": "code",
   "execution_count": 0,
   "metadata": {
    "colab": {},
    "colab_type": "code",
    "id": "uO35LatV6i8-"
   },
   "outputs": [],
   "source": [
    "final=sorted_data.drop_duplicates(subset={\"UserId\",\"ProfileName\",\"Time\",\"Text\"}, keep='first', inplace=False)"
   ]
  },
  {
   "cell_type": "code",
   "execution_count": 15,
   "metadata": {
    "colab": {
     "base_uri": "https://localhost:8080/",
     "height": 34
    },
    "colab_type": "code",
    "id": "92clLeX56i9F",
    "outputId": "b8951ce2-8864-4ebd-cc1a-b94b4a2d3060"
   },
   "outputs": [
    {
     "data": {
      "text/plain": [
       "69.25890143662969"
      ]
     },
     "execution_count": 15,
     "metadata": {
      "tags": []
     },
     "output_type": "execute_result"
    }
   ],
   "source": [
    "(final['Id'].size*1.0)/(filteredData['Id'].size*1.0)*100"
   ]
  },
  {
   "cell_type": "code",
   "execution_count": 0,
   "metadata": {
    "colab": {},
    "colab_type": "code",
    "id": "Do5a2GZ96i9O"
   },
   "outputs": [],
   "source": [
    "final=final[final.HelpfulnessNumerator<=final.HelpfulnessDenominator]"
   ]
  },
  {
   "cell_type": "code",
   "execution_count": 17,
   "metadata": {
    "colab": {
     "base_uri": "https://localhost:8080/",
     "height": 51
    },
    "colab_type": "code",
    "id": "9dBM7-cu6i9X",
    "outputId": "725a9145-13ff-45f2-dfc8-3830e52fc5a5"
   },
   "outputs": [
    {
     "name": "stdout",
     "output_type": "stream",
     "text": [
      "[nltk_data] Downloading package stopwords to /root/nltk_data...\n",
      "[nltk_data]   Unzipping corpora/stopwords.zip.\n"
     ]
    }
   ],
   "source": [
    "import re\n",
    "# Tutorial about Python regular expressions: https://pymotw.com/2/re/\n",
    "import nltk\n",
    "nltk.download('stopwords')\n",
    "import string\n",
    "from nltk.corpus import stopwords\n",
    "from nltk.stem import PorterStemmer\n",
    "from nltk.stem.wordnet import WordNetLemmatizer\n",
    "\n",
    "stop = set(stopwords.words('english')) #set of stopwords\n",
    "sno = nltk.stem.SnowballStemmer('english') #initialising the snowball stemmer\n",
    "\n",
    "def cleanhtml(sentence): #function to clean the word of any html-tags\n",
    "    cleanr = re.compile('<.*?>')\n",
    "    cleantext = re.sub(cleanr, ' ', sentence)\n",
    "    return cleantext\n",
    "def cleanpunc(sentence): #function to clean the word of any punctuation or special characters\n",
    "    cleaned = re.sub(r'[?|!|\\'|\"|#]',r'',sentence)\n",
    "    cleaned = re.sub(r'[.|,|)|(|\\|/]',r' ',cleaned)\n",
    "    return  cleaned"
   ]
  },
  {
   "cell_type": "code",
   "execution_count": 0,
   "metadata": {
    "colab": {},
    "colab_type": "code",
    "id": "zl1Hw9i96i9k"
   },
   "outputs": [],
   "source": [
    "i=0\n",
    "str1=' '\n",
    "final_string=[]\n",
    "all_positive_words=[] # store words from +ve reviews here\n",
    "all_negative_words=[] # store words from -ve reviews here.\n",
    "s=''\n",
    "for sent in final['Text'].values:\n",
    "    filtered_sentence=[]\n",
    "    #print(sent);\n",
    "    sent=cleanhtml(sent) \n",
    "    for w in sent.split():\n",
    "        for cleaned_words in cleanpunc(w).split():\n",
    "            if((cleaned_words.isalpha()) & (len(cleaned_words)>2)):    \n",
    "                if(cleaned_words.lower() not in stop):\n",
    "                    s=(sno.stem(cleaned_words.lower())).encode('utf8')\n",
    "                    filtered_sentence.append(s)\n",
    "                    if (final['Score'].values)[i] == 'positive': \n",
    "                        all_positive_words.append(s) #list of all words used to describe positive reviews\n",
    "                    if(final['Score'].values)[i] == 'negative':\n",
    "                        all_negative_words.append(s) #list of all words used to describe negative reviews reviews\n",
    "                else:\n",
    "                    continue\n",
    "            else:\n",
    "                continue \n",
    "    #print(filtered_sentence)\n",
    "    str1 = b\" \".join(filtered_sentence) #final string of cleaned words\n",
    "    #print(\"***********************************************************************\")\n",
    "    \n",
    "    final_string.append(str1)\n",
    "    i+=1"
   ]
  },
  {
   "cell_type": "code",
   "execution_count": 0,
   "metadata": {
    "colab": {},
    "colab_type": "code",
    "id": "ys8IIO626i9t"
   },
   "outputs": [],
   "source": [
    "final['CleanedText']=final_string"
   ]
  },
  {
   "cell_type": "code",
   "execution_count": 0,
   "metadata": {
    "colab": {},
    "colab_type": "code",
    "id": "W2uf63VW6i9_"
   },
   "outputs": [],
   "source": [
    "final.head(3) #below the processed review can be seen in the CleanedText Column \n",
    "# store final table into an SQlLite table for future.\n",
    "conn = sqlite3.connect('final.sqlite')\n",
    "c=conn.cursor()\n",
    "conn.text_factory = str\n",
    "final.to_sql('Reviews', conn, flavor=None, schema=None, if_exists='replace', index=True, index_label=None, chunksize=None, dtype=None)"
   ]
  },
  {
   "cell_type": "code",
   "execution_count": 0,
   "metadata": {
    "colab": {},
    "colab_type": "code",
    "id": "f2IKBOA-6i-L"
   },
   "outputs": [],
   "source": [
    "final=final.sort_values(by='Time')"
   ]
  },
  {
   "cell_type": "code",
   "execution_count": 0,
   "metadata": {
    "colab": {},
    "colab_type": "code",
    "id": "O1CHg3pG6i-R"
   },
   "outputs": [],
   "source": [
    "final['Score_num']=final.Score.map({'positive':1, 'negative':0})\n",
    "Y=final['Score_num']"
   ]
  },
  {
   "cell_type": "code",
   "execution_count": 0,
   "metadata": {
    "colab": {},
    "colab_type": "code",
    "id": "4NyVPvKy6i-Y"
   },
   "outputs": [],
   "source": [
    "final=final.sort_values(by='Time')"
   ]
  },
  {
   "cell_type": "code",
   "execution_count": 0,
   "metadata": {
    "colab": {},
    "colab_type": "code",
    "id": "2GiZDSH76i-g"
   },
   "outputs": [],
   "source": [
    "X_train=final.iloc[0:40000]\n",
    "Y_train=final['Score_num'].iloc[0:40000]"
   ]
  },
  {
   "cell_type": "code",
   "execution_count": 0,
   "metadata": {
    "colab": {},
    "colab_type": "code",
    "id": "X78rPBRH6i-p"
   },
   "outputs": [],
   "source": [
    "X_cv=final.iloc[40001:50000]\n",
    "Y_cv=final['Score_num'].iloc[40001:50000]\n"
   ]
  },
  {
   "cell_type": "code",
   "execution_count": 0,
   "metadata": {
    "colab": {},
    "colab_type": "code",
    "id": "uHcgrugr6i-v"
   },
   "outputs": [],
   "source": [
    "X_test=final.iloc[50001:60000]\n",
    "Y_test=final['Score_num'].iloc[50001:60000]"
   ]
  },
  {
   "cell_type": "markdown",
   "metadata": {
    "colab_type": "text",
    "id": "Tp7AgQlB6i-z"
   },
   "source": [
    "# tfidf"
   ]
  },
  {
   "cell_type": "code",
   "execution_count": 0,
   "metadata": {
    "colab": {},
    "colab_type": "code",
    "id": "JQ7rzfIW6i-0"
   },
   "outputs": [],
   "source": [
    "count_vect = TfidfVectorizer() #in scikit-learn\n",
    "X_train_vect = count_vect.fit_transform(X_train['CleanedText'].values)\n",
    "X_cv_vect=count_vect.transform(X_cv['CleanedText'].values)\n",
    "X_test_vect=count_vect.transform(X_test['CleanedText'].values)"
   ]
  },
  {
   "cell_type": "code",
   "execution_count": 0,
   "metadata": {
    "colab": {},
    "colab_type": "code",
    "id": "_G-VPGsu6i-6"
   },
   "outputs": [],
   "source": [
    "    from sklearn.preprocessing import Normalizer"
   ]
  },
  {
   "cell_type": "code",
   "execution_count": 0,
   "metadata": {
    "colab": {},
    "colab_type": "code",
    "id": "V77NRKJN6i_B"
   },
   "outputs": [],
   "source": [
    "#column normalization\n",
    "transformer_tfidf = Normalizer().fit(X_train_vect)\n",
    "X_train_vect_norm_tfidf=transformer_tfidf.transform(X_train_vect)\n",
    "X_cv_vect_norm_tfidf=transformer_tfidf.transform(X_cv_vect)\n",
    "X_test_vect_norm_tfidf=transformer_tfidf.transform(X_test_vect)"
   ]
  },
  {
   "cell_type": "code",
   "execution_count": 29,
   "metadata": {
    "colab": {
     "base_uri": "https://localhost:8080/",
     "height": 68
    },
    "colab_type": "code",
    "id": "-EYHavt16i_K",
    "outputId": "a6c590e7-2367-45a1-8f11-46a9bbe4c484"
   },
   "outputs": [
    {
     "name": "stdout",
     "output_type": "stream",
     "text": [
      "(9999, 24421)\n",
      "(9999, 24421)\n",
      "(40000, 24421)\n"
     ]
    }
   ],
   "source": [
    "print(X_test_vect_norm_tfidf.shape)\n",
    "print(X_cv_vect_norm_tfidf.shape)\n",
    "print(X_train_vect_norm_tfidf.shape)"
   ]
  },
  {
   "cell_type": "code",
   "execution_count": 0,
   "metadata": {
    "colab": {},
    "colab_type": "code",
    "id": "N58HyU1E6i_m"
   },
   "outputs": [],
   "source": [
    "from sklearn.neighbors import KNeighborsClassifier\n",
    "#from sklearn.cross_validation import cross_val_score\n",
    "from sklearn.metrics import accuracy_score\n"
   ]
  },
  {
   "cell_type": "code",
   "execution_count": 41,
   "metadata": {
    "colab": {
     "base_uri": "https://localhost:8080/",
     "height": 561
    },
    "colab_type": "code",
    "id": "95ims4WO6i_u",
    "outputId": "220c8973-023a-4321-9237-2d526f10c9e8"
   },
   "outputs": [
    {
     "name": "stdout",
     "output_type": "stream",
     "text": [
      "\n",
      "CV accuracy for k = 1 is 85%\n",
      "\n",
      " AUC  for k = 1 is 0.590919\n",
      "\n",
      "CV accuracy for k = 3 is 88%\n",
      "\n",
      " AUC  for k = 3 is 0.571843\n",
      "\n",
      "CV accuracy for k = 5 is 88%\n",
      "\n",
      " AUC  for k = 5 is 0.560477\n",
      "\n",
      "CV accuracy for k = 7 is 88%\n",
      "\n",
      " AUC  for k = 7 is 0.554587\n",
      "\n",
      "CV accuracy for k = 9 is 88%\n",
      "\n",
      " AUC  for k = 9 is 0.549675\n",
      "\n",
      "CV accuracy for k = 11 is 88%\n",
      "\n",
      " AUC  for k = 11 is 0.541766\n",
      "\n",
      "CV accuracy for k = 13 is 88%\n",
      "\n",
      " AUC  for k = 13 is 0.542506\n",
      "\n",
      "CV accuracy for k = 15 is 88%\n",
      "\n",
      " AUC  for k = 15 is 0.539509\n"
     ]
    }
   ],
   "source": [
    "for i in range(1,16,2):\n",
    "   \n",
    "    knn = KNeighborsClassifier(n_neighbors=i,algorithm='brute')\n",
    "\n",
    "    knn.fit(X_train_vect_norm_tfidf, Y_train)\n",
    "    pred = []\n",
    "    for j in range(X_cv_vect_norm_tfidf.shape[0]):\n",
    "        pred.append(knn.predict(X_cv_vect_norm_tfidf[j]))\n",
    "\n",
    "    acc = accuracy_score(Y_cv, pred, normalize=True) * float(100)\n",
    "    print('\\nCV accuracy for k = %d is %d%%' % (i, acc))\n",
    "    fpr, tpr, thresholds = metrics.roc_curve(Y_cv,pred)\n",
    "    print('\\n AUC  for k = %d is %f' % (i, metrics.auc(fpr, tpr)))\n",
    "    \n",
    "    \n"
   ]
  },
  {
   "cell_type": "code",
   "execution_count": 40,
   "metadata": {
    "colab": {
     "base_uri": "https://localhost:8080/",
     "height": 34
    },
    "colab_type": "code",
    "id": "nZD9hz1rZhc9",
    "outputId": "22ce81be-2aa0-438f-bd70-c3ad8f267702"
   },
   "outputs": [
    {
     "name": "stdout",
     "output_type": "stream",
     "text": [
      "0.5395087102753964\n"
     ]
    }
   ],
   "source": [
    "print(metrics.auc(fpr, tpr))"
   ]
  },
  {
   "cell_type": "code",
   "execution_count": 0,
   "metadata": {
    "colab": {},
    "colab_type": "code",
    "id": "gfdXFfvG6i_8"
   },
   "outputs": [],
   "source": [
    "knn = KNeighborsClassifier(n_neighbors=3,algorithm='brute')\n",
    "knn.fit(X_train_vect_norm_tfidf,Y_train)\n",
    "pred_y = []\n",
    "for j in range(X_test_vect_norm_tfidf.shape[0]):\n",
    "        pred_y.append(knn.predict(X_test_vect_norm_tfidf[j]))\n",
    "acc_y = accuracy_score(Y_test, pred_y, normalize=True) * float(100)"
   ]
  },
  {
   "cell_type": "code",
   "execution_count": 0,
   "metadata": {
    "colab": {},
    "colab_type": "code",
    "id": "ry4UXt3A0pqy"
   },
   "outputs": [],
   "source": [
    "fpr, tpr, thresholds = metrics.roc_curve(Y_test, pred_y)"
   ]
  },
  {
   "cell_type": "code",
   "execution_count": 44,
   "metadata": {
    "colab": {
     "base_uri": "https://localhost:8080/",
     "height": 34
    },
    "colab_type": "code",
    "id": "9tKOupMc0rBU",
    "outputId": "d269068a-3f78-4199-f965-b491ca339332"
   },
   "outputs": [
    {
     "data": {
      "text/plain": [
       "0.5658048037282668"
      ]
     },
     "execution_count": 44,
     "metadata": {
      "tags": []
     },
     "output_type": "execute_result"
    }
   ],
   "source": [
    "metrics.auc(fpr, tpr)"
   ]
  },
  {
   "cell_type": "code",
   "execution_count": 0,
   "metadata": {
    "colab": {},
    "colab_type": "code",
    "id": "JuipGtYJ6jAC"
   },
   "outputs": [],
   "source": [
    "def plot_confusion_matrix(test_y, predict_y):\n",
    "    C = confusion_matrix(test_y, predict_y)\n",
    "    \n",
    "    A =(((C.T)/(C.sum(axis=1))).T)\n",
    "    \n",
    "    B =(C/C.sum(axis=0))\n",
    "    labels = [1,2]\n",
    "    print(\"-\"*20, \"Confusion matrix\", \"-\"*20)\n",
    "    plt.figure(figsize=(20,7))\n",
    "    sns.heatmap(C, annot=True, cmap=\"YlGnBu\", fmt=\".3f\", xticklabels=labels, yticklabels=labels)\n",
    "    plt.xlabel('Predicted Class')\n",
    "    plt.ylabel('Original Class')\n",
    "    plt.show()\n",
    "    \n",
    "    print(\"-\"*20, \"Precision matrix (Columm Sum=1)\", \"-\"*20)\n",
    "    plt.figure(figsize=(20,7))\n",
    "    sns.heatmap(B, annot=True, cmap=\"YlGnBu\", fmt=\".3f\", xticklabels=labels, yticklabels=labels)\n",
    "    plt.xlabel('Predicted Class')\n",
    "    plt.ylabel('Original Class')\n",
    "    plt.show()\n",
    "    \n",
    "    # representing B in heatmap format\n",
    "    print(\"-\"*20, \"Recall matrix (Row sum=1)\", \"-\"*20)\n",
    "    plt.figure(figsize=(20,7))\n",
    "    sns.heatmap(A, annot=True, cmap=\"YlGnBu\", fmt=\".3f\", xticklabels=labels, yticklabels=labels)\n",
    "    plt.xlabel('Predicted Class')\n",
    "    plt.ylabel('Original Class')\n",
    "    plt.show()"
   ]
  },
  {
   "cell_type": "code",
   "execution_count": 46,
   "metadata": {
    "colab": {
     "base_uri": "https://localhost:8080/",
     "height": 1343
    },
    "colab_type": "code",
    "id": "cr1zq3Ga6jAJ",
    "outputId": "984d4b4c-f1c9-4978-ff03-d6931c070a42"
   },
   "outputs": [
    {
     "name": "stdout",
     "output_type": "stream",
     "text": [
      "-------------------- Confusion matrix --------------------\n"
     ]
    },
    {
     "data": {
      "image/png": "[encoded data removed]",
      "text/plain": [
       "<matplotlib.figure.Figure at 0x7fd3803765f8>"
      ]
     },
     "metadata": {
      "tags": []
     },
     "output_type": "display_data"
    },
    {
     "name": "stdout",
     "output_type": "stream",
     "text": [
      "-------------------- Precision matrix (Columm Sum=1) --------------------\n"
     ]
    },
    {
     "data": {
      "image/png": "[encoded data removed]",
      "text/plain": [
       "<matplotlib.figure.Figure at 0x7fd3935c30b8>"
      ]
     },
     "metadata": {
      "tags": []
     },
     "output_type": "display_data"
    },
    {
     "name": "stdout",
     "output_type": "stream",
     "text": [
      "-------------------- Recall matrix (Row sum=1) --------------------\n"
     ]
    },
    {
     "data": {
      "image/png": "[encoded data removed]",
      "text/plain": [
       "<matplotlib.figure.Figure at 0x7fd393a98be0>"
      ]
     },
     "metadata": {
      "tags": []
     },
     "output_type": "display_data"
    }
   ],
   "source": [
    "plot_confusion_matrix(Y_test,pred_y)"
   ]
  },
  {
   "cell_type": "markdown",
   "metadata": {
    "colab_type": "text",
    "id": "nbl7aWrS6jAR"
   },
   "source": [
    "# TFIDF Knn using Kd tree"
   ]
  },
  {
   "cell_type": "code",
   "execution_count": 0,
   "metadata": {
    "colab": {},
    "colab_type": "code",
    "id": "hffq9Kbd6jAU"
   },
   "outputs": [],
   "source": [
    "from sklearn.decomposition import TruncatedSVD\n",
    "svd = TruncatedSVD(n_components=100)\n",
    "X_train_vect_svd =svd.fit_transform(X_train_vect_norm_tfidf)\n",
    "X_cv_vect_svd =svd.transform(X_cv_vect_norm_tfidf)\n",
    "X_test_vect_svd =svd.transform(X_test_vect_norm_tfidf)"
   ]
  },
  {
   "cell_type": "code",
   "execution_count": 49,
   "metadata": {
    "colab": {
     "base_uri": "https://localhost:8080/",
     "height": 493
    },
    "colab_type": "code",
    "id": "rqkXXlTo6jAb",
    "outputId": "9c25ab41-d8a4-4b0c-e956-9ce21fb1083b"
   },
   "outputs": [
    {
     "name": "stdout",
     "output_type": "stream",
     "text": [
      "\n",
      "CV accuracy for k = 1 is 79%\n",
      "\n",
      " AUC  for k = 1 is 0.585751\n",
      "\n",
      "CV accuracy for k = 3 is 84%\n",
      "\n",
      " AUC  for k = 3 is 0.589352\n",
      "\n",
      "CV accuracy for k = 5 is 86%\n",
      "\n",
      " AUC  for k = 5 is 0.585225\n",
      "\n",
      "CV accuracy for k = 7 is 86%\n",
      "\n",
      " AUC  for k = 7 is 0.576217\n",
      "\n",
      "CV accuracy for k = 9 is 87%\n",
      "\n",
      " AUC  for k = 9 is 0.575487\n",
      "\n",
      "CV accuracy for k = 11 is 87%\n",
      "\n",
      " AUC  for k = 11 is 0.565819\n",
      "\n",
      "CV accuracy for k = 13 is 87%\n",
      "\n",
      " AUC  for k = 13 is 0.562712\n"
     ]
    }
   ],
   "source": [
    "from sklearn import metrics\n",
    "for i in range(1,15,2):\n",
    "   \n",
    "    knn = KNeighborsClassifier(n_neighbors=i,algorithm='kd_tree')\n",
    "\n",
    "    knn.fit(X_train_vect_svd, Y_train)\n",
    "    pred = []\n",
    "    for j in range(X_cv_vect_svd.shape[0]):\n",
    "        pred.append(knn.predict([X_cv_vect_svd[j]]))\n",
    "\n",
    "    acc = accuracy_score(Y_cv, pred, normalize=True) * float(100)\n",
    "    #fpr, tpr, thresholds = metrics.roc_curve(Y_cv, pred, pos_label=2)\n",
    "    print('\\nCV accuracy for k = %d is %d%%' % (i, acc))\n",
    "    fpr, tpr, thresholds = metrics.roc_curve(Y_cv,pred)\n",
    "    print('\\n AUC  for k = %d is %f' % (i, metrics.auc(fpr, tpr)))\n",
    "    #print('\\nCV AUC for k = %d is %d%%' % (i, metrics.auc(fpr, tpr)))"
   ]
  },
  {
   "cell_type": "code",
   "execution_count": 0,
   "metadata": {
    "colab": {},
    "colab_type": "code",
    "id": "kYoktU-j6jAn"
   },
   "outputs": [],
   "source": [
    "knn = KNeighborsClassifier(5,algorithm='kd_tree')\n",
    "knn.fit(X_train_vect_svd,Y_train)\n",
    "pred = knn.predict(X_test_vect_svd)\n",
    "acc = accuracy_score(Y_test, pred, normalize=True) * float(100)"
   ]
  },
  {
   "cell_type": "code",
   "execution_count": 0,
   "metadata": {
    "colab": {},
    "colab_type": "code",
    "id": "2QYjzDhV7eQz"
   },
   "outputs": [],
   "source": [
    "fpr, tpr, thresholds = metrics.roc_curve(Y_test, pred)"
   ]
  },
  {
   "cell_type": "code",
   "execution_count": 52,
   "metadata": {
    "colab": {
     "base_uri": "https://localhost:8080/",
     "height": 34
    },
    "colab_type": "code",
    "id": "A-0ZS_C67lIa",
    "outputId": "f88897bb-6bb4-4dbe-8c28-c6c8d451a5dd"
   },
   "outputs": [
    {
     "data": {
      "text/plain": [
       "0.5807675699457381"
      ]
     },
     "execution_count": 52,
     "metadata": {
      "tags": []
     },
     "output_type": "execute_result"
    }
   ],
   "source": [
    "metrics.auc(fpr, tpr)"
   ]
  },
  {
   "cell_type": "code",
   "execution_count": 53,
   "metadata": {
    "colab": {
     "base_uri": "https://localhost:8080/",
     "height": 1343
    },
    "colab_type": "code",
    "id": "00MajsvQ6jAt",
    "outputId": "204243d4-c6cd-45e7-e20f-1212333d35fc"
   },
   "outputs": [
    {
     "name": "stdout",
     "output_type": "stream",
     "text": [
      "-------------------- Confusion matrix --------------------\n"
     ]
    },
    {
     "data": {
      "image/png": "[encoded data removed]",
      "text/plain": [
       "<matplotlib.figure.Figure at 0x7fd395120cf8>"
      ]
     },
     "metadata": {
      "tags": []
     },
     "output_type": "display_data"
    },
    {
     "name": "stdout",
     "output_type": "stream",
     "text": [
      "-------------------- Precision matrix (Columm Sum=1) --------------------\n"
     ]
    },
    {
     "data": {
      "image/png": "[encoded data removed]",
      "text/plain": [
       "<matplotlib.figure.Figure at 0x7fd392bd9b00>"
      ]
     },
     "metadata": {
      "tags": []
     },
     "output_type": "display_data"
    },
    {
     "name": "stdout",
     "output_type": "stream",
     "text": [
      "-------------------- Recall matrix (Row sum=1) --------------------\n"
     ]
    },
    {
     "data": {
      "image/png": "[encoded data removed]",
      "text/plain": [
       "<matplotlib.figure.Figure at 0x7fd38f83ae10>"
      ]
     },
     "metadata": {
      "tags": []
     },
     "output_type": "display_data"
    }
   ],
   "source": [
    "plot_confusion_matrix(Y_test,pred)"
   ]
  },
  {
   "cell_type": "markdown",
   "metadata": {
    "colab_type": "text",
    "id": "IfsEXrFU6jA1"
   },
   "source": [
    "# BOW"
   ]
  },
  {
   "cell_type": "code",
   "execution_count": 0,
   "metadata": {
    "colab": {},
    "colab_type": "code",
    "id": "eg9gmfyg6jA4"
   },
   "outputs": [],
   "source": [
    "count_vect_bow=CountVectorizer() #in scikit-learn\n",
    "X_train_vect_bow = count_vect_bow.fit_transform(X_train['CleanedText'].values)\n",
    "X_cv_vect_bow = count_vect_bow.transform(X_cv['CleanedText'].values)\n"
   ]
  },
  {
   "cell_type": "code",
   "execution_count": 0,
   "metadata": {
    "colab": {},
    "colab_type": "code",
    "id": "_p6V3jEm6jA9"
   },
   "outputs": [],
   "source": [
    "X_test_vect_bow=count_vect_bow.transform(X_test['CleanedText'].values)"
   ]
  },
  {
   "cell_type": "code",
   "execution_count": 56,
   "metadata": {
    "colab": {
     "base_uri": "https://localhost:8080/",
     "height": 34
    },
    "colab_type": "code",
    "id": "WpWe6Jec6jBN",
    "outputId": "922fc884-a5bd-4f39-ec6f-95cf7738ae4c"
   },
   "outputs": [
    {
     "name": "stdout",
     "output_type": "stream",
     "text": [
      "Normalizer(copy=True, norm='l2')\n"
     ]
    }
   ],
   "source": [
    "from sklearn.preprocessing import Normalizer\n",
    "transformer_bow = Normalizer().fit(X_train_vect_bow)\n",
    "print(transformer_bow)\n",
    "X_train_vect_norm_bow=transformer_bow.transform(X_train_vect_bow)\n",
    "X_cv_vect_norm_bow=transformer_bow.transform(X_cv_vect_bow)"
   ]
  },
  {
   "cell_type": "code",
   "execution_count": 0,
   "metadata": {
    "colab": {},
    "colab_type": "code",
    "id": "BsPlB5bk6jBV"
   },
   "outputs": [],
   "source": [
    "X_test_vect_norm_bow=transformer_bow.transform(X_test_vect_bow)"
   ]
  },
  {
   "cell_type": "code",
   "execution_count": 58,
   "metadata": {
    "colab": {
     "base_uri": "https://localhost:8080/",
     "height": 68
    },
    "colab_type": "code",
    "id": "F1ZlRSPj6jBZ",
    "outputId": "f6e6fd93-7017-4f65-c93f-ae153be064c3"
   },
   "outputs": [
    {
     "name": "stdout",
     "output_type": "stream",
     "text": [
      "(40000, 24421)\n",
      "(9999, 24421)\n",
      "(9999, 24421)\n"
     ]
    }
   ],
   "source": [
    "print(X_train_vect_norm_bow.shape)\n",
    "print(X_test_vect_norm_bow.shape)\n",
    "print(X_cv_vect_norm_bow.shape)"
   ]
  },
  {
   "cell_type": "code",
   "execution_count": 59,
   "metadata": {
    "colab": {
     "base_uri": "https://localhost:8080/",
     "height": 561
    },
    "colab_type": "code",
    "id": "1OTZjXVi6jBu",
    "outputId": "70683285-43ca-4c5b-ef4b-7899d3c06bb1"
   },
   "outputs": [
    {
     "name": "stdout",
     "output_type": "stream",
     "text": [
      "\n",
      "CV accuracy for k = 1 is 85%\n",
      "\n",
      " AUC  for k = 1 is 0.589546\n",
      "\n",
      "CV accuracy for k = 3 is 87%\n",
      "\n",
      " AUC  for k = 3 is 0.564741\n",
      "\n",
      "CV accuracy for k = 5 is 88%\n",
      "\n",
      " AUC  for k = 5 is 0.556500\n",
      "\n",
      "CV accuracy for k = 7 is 88%\n",
      "\n",
      " AUC  for k = 7 is 0.545014\n",
      "\n",
      "CV accuracy for k = 9 is 88%\n",
      "\n",
      " AUC  for k = 9 is 0.539435\n",
      "\n",
      "CV accuracy for k = 11 is 88%\n",
      "\n",
      " AUC  for k = 11 is 0.536113\n",
      "\n",
      "CV accuracy for k = 13 is 88%\n",
      "\n",
      " AUC  for k = 13 is 0.531697\n",
      "\n",
      "CV accuracy for k = 15 is 88%\n",
      "\n",
      " AUC  for k = 15 is 0.528034\n"
     ]
    }
   ],
   "source": [
    "for i in range(1,16,2):\n",
    "   \n",
    "    knn = KNeighborsClassifier(n_neighbors=i,algorithm='brute')\n",
    "\n",
    "    knn.fit(X_train_vect_norm_bow, Y_train)\n",
    "    pred = []\n",
    "    for j in range(X_cv_vect_norm_bow.shape[0]):\n",
    "        pred.append(knn.predict(X_cv_vect_norm_bow[j]))\n",
    "\n",
    "    acc = accuracy_score(Y_cv, pred, normalize=True) * float(100)\n",
    "    print('\\nCV accuracy for k = %d is %d%%' % (i, acc))\n",
    "    fpr, tpr, thresholds = metrics.roc_curve(Y_cv,pred)\n",
    "    print('\\n AUC  for k = %d is %f' % (i, metrics.auc(fpr, tpr)))\n",
    "    \n",
    "    \n"
   ]
  },
  {
   "cell_type": "code",
   "execution_count": 0,
   "metadata": {
    "colab": {},
    "colab_type": "code",
    "id": "ARAPwaJfE01u"
   },
   "outputs": [],
   "source": []
  },
  {
   "cell_type": "code",
   "execution_count": 0,
   "metadata": {
    "colab": {},
    "colab_type": "code",
    "id": "hlFrJPRTFFVF"
   },
   "outputs": [],
   "source": []
  },
  {
   "cell_type": "code",
   "execution_count": 0,
   "metadata": {
    "colab": {},
    "colab_type": "code",
    "id": "LXbhk2O_6jB5"
   },
   "outputs": [],
   "source": [
    "knn_optimal = KNeighborsClassifier(n_neighbors=5,algorithm='brute')\n",
    "\n",
    "# fitting the model\n",
    "knn_optimal.fit(X_train_vect_norm_bow, Y_train)\n",
    "\n",
    "# predict the response\n",
    "#pred = knn_optimal.predict(X_test_vect_norm_tfidf)\n",
    "pred = []\n",
    "for j in range(X_test_vect_norm_bow.shape[0]):\n",
    "        pred.append(knn_optimal.predict(X_test_vect_norm_bow[j]))\n",
    "\n",
    "# evaluate accuracy\n",
    "#acc = accuracy_score(Y_test, pred) * 100\n",
    "#print('\\nThe accuracy of the knn classifier for k = %d is %f%%' % (optimal_k, acc))"
   ]
  },
  {
   "cell_type": "code",
   "execution_count": 0,
   "metadata": {
    "colab": {},
    "colab_type": "code",
    "id": "k8AIOIJ_FrBU"
   },
   "outputs": [],
   "source": [
    "fpr, tpr, thresholds = metrics.roc_curve(Y_test, pred)"
   ]
  },
  {
   "cell_type": "code",
   "execution_count": 62,
   "metadata": {
    "colab": {
     "base_uri": "https://localhost:8080/",
     "height": 34
    },
    "colab_type": "code",
    "id": "kub_6uo2FsDl",
    "outputId": "0fb67aea-ab9f-49f7-a0ad-50afb70b3e1b"
   },
   "outputs": [
    {
     "data": {
      "text/plain": [
       "0.5548948777069855"
      ]
     },
     "execution_count": 62,
     "metadata": {
      "tags": []
     },
     "output_type": "execute_result"
    }
   ],
   "source": [
    "metrics.auc(fpr, tpr)"
   ]
  },
  {
   "cell_type": "markdown",
   "metadata": {
    "colab_type": "text",
    "id": "NHbcTtvZ6jB-"
   },
   "source": [
    "# BOW Knn using Kd tree"
   ]
  },
  {
   "cell_type": "code",
   "execution_count": 0,
   "metadata": {
    "colab": {},
    "colab_type": "code",
    "id": "y8YALZH26jCA"
   },
   "outputs": [],
   "source": [
    "from sklearn.decomposition import TruncatedSVD\n",
    "svd = TruncatedSVD(n_components=100)\n",
    "\n",
    "X_train_vect_svd_bow =svd.fit_transform(X_train_vect_norm_bow)\n",
    "X_cv_vect_svd_bow =svd.transform(X_cv_vect_norm_bow)\n",
    "X_test_vect_svd_bow =svd.transform(X_test_vect_norm_bow)"
   ]
  },
  {
   "cell_type": "code",
   "execution_count": 64,
   "metadata": {
    "colab": {
     "base_uri": "https://localhost:8080/",
     "height": 493
    },
    "colab_type": "code",
    "id": "nbUM8ZW96jCJ",
    "outputId": "54399e46-4ec3-4c22-e0b4-27e761b4155c"
   },
   "outputs": [
    {
     "name": "stdout",
     "output_type": "stream",
     "text": [
      "\n",
      "CV accuracy for k = 1 is 78%\n",
      "\n",
      " AUC  for k = 1 is 0.580458\n",
      "\n",
      "CV accuracy for k = 3 is 83%\n",
      "\n",
      " AUC  for k = 3 is 0.577078\n",
      "\n",
      "CV accuracy for k = 5 is 85%\n",
      "\n",
      " AUC  for k = 5 is 0.579564\n",
      "\n",
      "CV accuracy for k = 7 is 86%\n",
      "\n",
      " AUC  for k = 7 is 0.572133\n",
      "\n",
      "CV accuracy for k = 9 is 86%\n",
      "\n",
      " AUC  for k = 9 is 0.572269\n",
      "\n",
      "CV accuracy for k = 11 is 87%\n",
      "\n",
      " AUC  for k = 11 is 0.566493\n",
      "\n",
      "CV accuracy for k = 13 is 87%\n",
      "\n",
      " AUC  for k = 13 is 0.569255\n"
     ]
    }
   ],
   "source": [
    "from sklearn import metrics\n",
    "for i in range(1,15,2):\n",
    "   \n",
    "    knn = KNeighborsClassifier(n_neighbors=i,algorithm='kd_tree')\n",
    "\n",
    "    knn.fit(X_train_vect_svd_bow, Y_train)\n",
    "    pred = []\n",
    "    for j in range(X_cv_vect_svd_bow.shape[0]):\n",
    "        pred.append(knn.predict([X_cv_vect_svd_bow[j]]))\n",
    "\n",
    "    acc = accuracy_score(Y_cv, pred, normalize=True) * float(100)\n",
    "    #fpr, tpr, thresholds = metrics.roc_curve(Y_cv, pred, pos_label=2)\n",
    "    print('\\nCV accuracy for k = %d is %d%%' % (i, acc))\n",
    "    fpr, tpr, thresholds = metrics.roc_curve(Y_cv,pred)\n",
    "    print('\\n AUC  for k = %d is %f' % (i, metrics.auc(fpr, tpr)))\n",
    "    #print('\\nCV AUC for k = %d is %d%%' % (i, metrics.auc(fpr, tpr)))"
   ]
  },
  {
   "cell_type": "code",
   "execution_count": 65,
   "metadata": {
    "colab": {
     "base_uri": "https://localhost:8080/",
     "height": 51
    },
    "colab_type": "code",
    "id": "9v4vx6Ns6jCQ",
    "outputId": "f29f3b30-c0d7-453a-ce7d-ff27d13e03ea"
   },
   "outputs": [
    {
     "name": "stdout",
     "output_type": "stream",
     "text": [
      "\n",
      "The accuracy of the knn classifier for k = 11 is 86.668667%\n"
     ]
    }
   ],
   "source": [
    "knn_optimal = KNeighborsClassifier(n_neighbors=11,algorithm='kd_tree')\n",
    "\n",
    "# fitting the model\n",
    "knn_optimal.fit(X_train_vect_svd_bow, Y_train)\n",
    "\n",
    "# predict the response\n",
    "#pred = knn_optimal.predict(X_test_vect_norm_tfidf)\n",
    "pred = []\n",
    "for j in range(X_test_vect_svd_bow.shape[0]):\n",
    "        pred.append(knn_optimal.predict([X_test_vect_svd_bow[j]]))\n",
    "\n",
    "# evaluate accuracy\n",
    "acc = accuracy_score(Y_test, pred) * 100\n",
    "print('\\nThe accuracy of the knn classifier for k = %d is %f%%' % (11, acc))"
   ]
  },
  {
   "cell_type": "code",
   "execution_count": 0,
   "metadata": {
    "colab": {},
    "colab_type": "code",
    "id": "7LivcIYHOpww"
   },
   "outputs": [],
   "source": [
    "fpr, tpr, thresholds = metrics.roc_curve(Y_test, pred)"
   ]
  },
  {
   "cell_type": "code",
   "execution_count": 67,
   "metadata": {
    "colab": {
     "base_uri": "https://localhost:8080/",
     "height": 34
    },
    "colab_type": "code",
    "id": "vRV4u0TBOv7B",
    "outputId": "9787dcf4-c238-474f-be71-51132104727c"
   },
   "outputs": [
    {
     "data": {
      "text/plain": [
       "0.5608628745783701"
      ]
     },
     "execution_count": 67,
     "metadata": {
      "tags": []
     },
     "output_type": "execute_result"
    }
   ],
   "source": [
    "metrics.auc(fpr, tpr)"
   ]
  },
  {
   "cell_type": "code",
   "execution_count": 68,
   "metadata": {
    "colab": {
     "base_uri": "https://localhost:8080/",
     "height": 1343
    },
    "colab_type": "code",
    "id": "3bCzjDqP6jCe",
    "outputId": "b82980b0-55c3-4d34-cc08-ef81776e97dc"
   },
   "outputs": [
    {
     "name": "stdout",
     "output_type": "stream",
     "text": [
      "-------------------- Confusion matrix --------------------\n"
     ]
    },
    {
     "data": {
      "image/png": "[encoded data removed]",
      "text/plain": [
       "<matplotlib.figure.Figure at 0x7fd381d73208>"
      ]
     },
     "metadata": {
      "tags": []
     },
     "output_type": "display_data"
    },
    {
     "name": "stdout",
     "output_type": "stream",
     "text": [
      "-------------------- Precision matrix (Columm Sum=1) --------------------\n"
     ]
    },
    {
     "data": {
      "image/png": "[encoded data removed]",
      "text/plain": [
       "<matplotlib.figure.Figure at 0x7fd383788f98>"
      ]
     },
     "metadata": {
      "tags": []
     },
     "output_type": "display_data"
    },
    {
     "name": "stdout",
     "output_type": "stream",
     "text": [
      "-------------------- Recall matrix (Row sum=1) --------------------\n"
     ]
    },
    {
     "data": {
      "image/png": "[encoded data removed]",
      "text/plain": [
       "<matplotlib.figure.Figure at 0x7fd381ff2eb8>"
      ]
     },
     "metadata": {
      "tags": []
     },
     "output_type": "display_data"
    }
   ],
   "source": [
    "plot_confusion_matrix(Y_test,pred)"
   ]
  },
  {
   "cell_type": "markdown",
   "metadata": {
    "colab_type": "text",
    "id": "WUYvTy616jCj"
   },
   "source": [
    "# Avg WORD2VEC"
   ]
  },
  {
   "cell_type": "code",
   "execution_count": 0,
   "metadata": {
    "colab": {},
    "colab_type": "code",
    "id": "gbF2-1R06jCk"
   },
   "outputs": [],
   "source": [
    "import warnings\n",
    "warnings.filterwarnings(action='ignore', category=UserWarning, module='gensim')\n",
    "from gensim.models import Word2Vec\n",
    "from gensim.models import KeyedVectors\n",
    "import pickle"
   ]
  },
  {
   "cell_type": "code",
   "execution_count": 0,
   "metadata": {
    "colab": {},
    "colab_type": "code",
    "id": "DpzzEQpd6jCo"
   },
   "outputs": [],
   "source": [
    "final['CleanedText']=final['CleanedText'].str.decode(\"utf-8\")"
   ]
  },
  {
   "cell_type": "code",
   "execution_count": 0,
   "metadata": {
    "colab": {},
    "colab_type": "code",
    "id": "avzF4vI06jCw"
   },
   "outputs": [],
   "source": [
    "X_train_word2vec=final.iloc[0:40000]\n",
    "Y_train_word2vec=final['Score_num'].iloc[0:40000]\n",
    "\n",
    "X_cv_word2vec=final.iloc[40001:50000]\n",
    "Y_cv_word2vec=final['Score_num'].iloc[40001:50000]\n",
    "\n",
    "X_test_word2vec=final.iloc[50001:60000]\n",
    "Y_test_word2vec=final['Score_num'].iloc[50001:60000]"
   ]
  },
  {
   "cell_type": "code",
   "execution_count": 0,
   "metadata": {
    "colab": {},
    "colab_type": "code",
    "id": "jjUPMv7a6jC2"
   },
   "outputs": [],
   "source": [
    "list_of_sent_X_train_word2vec=[]\n",
    "list_of_sent_X_cv_word2vec=[]\n",
    "list_of_sent_X_test_word2vec=[]\n",
    "\n",
    "for sent in X_train_word2vec['CleanedText'].values:\n",
    "    list_of_sent_X_train_word2vec.append(sent.split())\n",
    "    \n",
    "for sent in X_cv_word2vec['CleanedText'].values:\n",
    "    list_of_sent_X_cv_word2vec.append(sent.split())\n",
    "\n",
    "for sent in X_test_word2vec['CleanedText'].values:\n",
    "    list_of_sent_X_test_word2vec.append(sent.split())"
   ]
  },
  {
   "cell_type": "code",
   "execution_count": 0,
   "metadata": {
    "colab": {},
    "colab_type": "code",
    "id": "E1WUxtAU6jDA"
   },
   "outputs": [],
   "source": [
    "w2v_model=Word2Vec(list_of_sent_X_train_word2vec,min_count=5,size=50, workers=4)"
   ]
  },
  {
   "cell_type": "code",
   "execution_count": 0,
   "metadata": {
    "colab": {},
    "colab_type": "code",
    "id": "Bej1t0ox6jDE"
   },
   "outputs": [],
   "source": [
    "sent_vectors_train = []; # the avg-w2v for each sentence/review is stored in this list\n",
    "for sent in list_of_sent_X_train_word2vec: # for each review/sentence\n",
    "    sent_vec = np.zeros(50) # as word vectors are of zero length\n",
    "    cnt_words =0; # num of words with a valid vector in the sentence/review\n",
    "    for word in sent: # for each word in a review/sentence\n",
    "        try:\n",
    "            vec = w2v_model.wv[word]\n",
    "            sent_vec += vec\n",
    "            cnt_words += 1\n",
    "        except:\n",
    "            pass\n",
    "    \n",
    "    sent_vec /= cnt_words\n",
    "    sent_vectors_train.append(sent_vec)"
   ]
  },
  {
   "cell_type": "code",
   "execution_count": 0,
   "metadata": {
    "colab": {},
    "colab_type": "code",
    "id": "K4LvIr066jDO"
   },
   "outputs": [],
   "source": [
    "sent_vectors_cv = []; # the avg-w2v for each sentence/review is stored in this list\n",
    "for sent in list_of_sent_X_cv_word2vec: # for each review/sentence\n",
    "    sent_vec = np.zeros(50) # as word vectors are of zero length\n",
    "    cnt_words =0; # num of words with a valid vector in the sentence/review\n",
    "    for word in sent: # for each word in a review/sentence\n",
    "        try:\n",
    "            vec = w2v_model.wv[word]\n",
    "            sent_vec += vec\n",
    "            cnt_words += 1\n",
    "        except:\n",
    "            pass\n",
    "    sent_vec /= cnt_words\n",
    "    sent_vectors_cv.append(sent_vec)"
   ]
  },
  {
   "cell_type": "code",
   "execution_count": 0,
   "metadata": {
    "colab": {},
    "colab_type": "code",
    "id": "l-k9E4dt6jDT"
   },
   "outputs": [],
   "source": [
    "sent_vectors_test = []; # the avg-w2v for each sentence/review is stored in this list\n",
    "for sent in list_of_sent_X_test_word2vec: # for each review/sentence\n",
    "    sent_vec = np.zeros(50) # as word vectors are of zero length\n",
    "    cnt_words =0; # num of words with a valid vector in the sentence/review\n",
    "    for word in sent: # for each word in a review/sentence\n",
    "        try:\n",
    "            vec = w2v_model.wv[word]\n",
    "            sent_vec += vec\n",
    "            cnt_words += 1\n",
    "        except:\n",
    "            pass\n",
    "    sent_vec /= cnt_words\n",
    "    sent_vectors_test.append(sent_vec)"
   ]
  },
  {
   "cell_type": "code",
   "execution_count": 0,
   "metadata": {
    "colab": {},
    "colab_type": "code",
    "id": "ns-evf-Q6jDZ"
   },
   "outputs": [],
   "source": []
  },
  {
   "cell_type": "code",
   "execution_count": 0,
   "metadata": {
    "colab": {},
    "colab_type": "code",
    "id": "fwHp8g2Y6jDj"
   },
   "outputs": [],
   "source": [
    "from sklearn.preprocessing import Normalizer\n",
    "transformer_word2vec = Normalizer().fit(sent_vectors_train)\n",
    "X_train_vect_norm_word2vec=transformer_word2vec.transform(sent_vectors_train)\n",
    "X_cv_vect_norm_word2vec=transformer_word2vec.transform(sent_vectors_cv)"
   ]
  },
  {
   "cell_type": "code",
   "execution_count": 0,
   "metadata": {
    "colab": {},
    "colab_type": "code",
    "id": "TeC6voCN6jDo"
   },
   "outputs": [],
   "source": [
    "X_test_vect_norm_word2vec=transformer_word2vec.transform(sent_vectors_test)"
   ]
  },
  {
   "cell_type": "code",
   "execution_count": 79,
   "metadata": {
    "colab": {
     "base_uri": "https://localhost:8080/",
     "height": 85
    },
    "colab_type": "code",
    "id": "vNL2LhcH6jDs",
    "outputId": "2acc5f14-edbe-4fed-e1e9-4aab944b18e7"
   },
   "outputs": [
    {
     "name": "stdout",
     "output_type": "stream",
     "text": [
      "(40000, 50)\n",
      "(9999, 50)\n",
      "(9999, 50)\n",
      "(40000,)\n"
     ]
    }
   ],
   "source": [
    "print(X_train_vect_norm_word2vec.shape)\n",
    "print(X_cv_vect_norm_word2vec.shape)\n",
    "print(X_test_vect_norm_word2vec.shape)\n",
    "print(Y_train_word2vec.shape)"
   ]
  },
  {
   "cell_type": "code",
   "execution_count": 80,
   "metadata": {
    "colab": {
     "base_uri": "https://localhost:8080/",
     "height": 561
    },
    "colab_type": "code",
    "id": "Myff-vcW6jDz",
    "outputId": "8ac093ce-df6c-4455-cfc7-996cfacf37c4"
   },
   "outputs": [
    {
     "name": "stdout",
     "output_type": "stream",
     "text": [
      "\n",
      "CV accuracy for k = 1 is 85%\n",
      "\n",
      " AUC  for k = 1 is 0.611696\n",
      "\n",
      "CV accuracy for k = 3 is 88%\n",
      "\n",
      " AUC  for k = 3 is 0.607270\n",
      "\n",
      "CV accuracy for k = 5 is 88%\n",
      "\n",
      " AUC  for k = 5 is 0.601470\n",
      "\n",
      "CV accuracy for k = 7 is 88%\n",
      "\n",
      " AUC  for k = 7 is 0.587698\n",
      "\n",
      "CV accuracy for k = 9 is 89%\n",
      "\n",
      " AUC  for k = 9 is 0.588879\n",
      "\n",
      "CV accuracy for k = 11 is 89%\n",
      "\n",
      " AUC  for k = 11 is 0.583569\n",
      "\n",
      "CV accuracy for k = 13 is 89%\n",
      "\n",
      " AUC  for k = 13 is 0.585189\n",
      "\n",
      "CV accuracy for k = 15 is 89%\n",
      "\n",
      " AUC  for k = 15 is 0.581198\n"
     ]
    }
   ],
   "source": [
    "for i in range(1,16,2):\n",
    "   \n",
    "    knn = KNeighborsClassifier(n_neighbors=i,algorithm='brute')\n",
    "\n",
    "    knn.fit(X_train_vect_norm_word2vec, Y_train_word2vec)\n",
    "    pred = []\n",
    "    for j in range(X_cv_vect_norm_word2vec.shape[0]):\n",
    "        pred.append(knn.predict([X_cv_vect_norm_word2vec[j]]))\n",
    "\n",
    "    acc = accuracy_score(Y_cv, pred, normalize=True) * float(100)\n",
    "    print('\\nCV accuracy for k = %d is %d%%' % (i, acc))\n",
    "    fpr, tpr, thresholds = metrics.roc_curve(Y_cv,pred)\n",
    "    print('\\n AUC  for k = %d is %f' % (i, metrics.auc(fpr, tpr)))"
   ]
  },
  {
   "cell_type": "code",
   "execution_count": 81,
   "metadata": {
    "colab": {
     "base_uri": "https://localhost:8080/",
     "height": 51
    },
    "colab_type": "code",
    "id": "bhQk_7p36jD5",
    "outputId": "50fcba98-c89b-42b1-a412-5d89db078559"
   },
   "outputs": [
    {
     "name": "stdout",
     "output_type": "stream",
     "text": [
      "\n",
      "The accuracy of the knn classifier for k = 9 is 88.788879%\n"
     ]
    }
   ],
   "source": [
    "knn_optimal = KNeighborsClassifier(n_neighbors=9,algorithm='brute')\n",
    "\n",
    "# fitting the model\n",
    "knn_optimal.fit(X_train_vect_norm_word2vec, Y_train_word2vec)\n",
    "\n",
    "# predict the response\n",
    "#pred = knn_optimal.predict(X_test_vect_norm_tfidf)\n",
    "\n",
    "pred = []\n",
    "\n",
    "for j in range(X_test_vect_norm_word2vec.shape[0]):\n",
    "        pred.append(knn_optimal.predict([X_test_vect_norm_word2vec[j]]))\n",
    "\n",
    "# evaluate accuracy\n",
    "acc = accuracy_score(Y_test_word2vec, pred) * 100\n",
    "print('\\nThe accuracy of the knn classifier for k = %d is %f%%' % (9, acc))"
   ]
  },
  {
   "cell_type": "code",
   "execution_count": 0,
   "metadata": {
    "colab": {},
    "colab_type": "code",
    "id": "lGsxB3n4Sqq3"
   },
   "outputs": [],
   "source": [
    "fpr, tpr, thresholds = metrics.roc_curve(Y_test, pred)"
   ]
  },
  {
   "cell_type": "code",
   "execution_count": 83,
   "metadata": {
    "colab": {
     "base_uri": "https://localhost:8080/",
     "height": 34
    },
    "colab_type": "code",
    "id": "-o1_CgkZS9cM",
    "outputId": "14b3f7c4-9fa0-4f71-9fc7-0ced34d52139"
   },
   "outputs": [
    {
     "data": {
      "text/plain": [
       "0.5862085295507503"
      ]
     },
     "execution_count": 83,
     "metadata": {
      "tags": []
     },
     "output_type": "execute_result"
    }
   ],
   "source": [
    "metrics.auc(fpr, tpr)"
   ]
  },
  {
   "cell_type": "code",
   "execution_count": 84,
   "metadata": {
    "colab": {
     "base_uri": "https://localhost:8080/",
     "height": 1343
    },
    "colab_type": "code",
    "id": "bU8Fcn2ETFpk",
    "outputId": "6f36eaca-89f0-4883-81df-c113eed4a456"
   },
   "outputs": [
    {
     "name": "stdout",
     "output_type": "stream",
     "text": [
      "-------------------- Confusion matrix --------------------\n"
     ]
    },
    {
     "data": {
      "image/png": "[encoded data removed]",
      "text/plain": [
       "<matplotlib.figure.Figure at 0x7fd3957b74e0>"
      ]
     },
     "metadata": {
      "tags": []
     },
     "output_type": "display_data"
    },
    {
     "name": "stdout",
     "output_type": "stream",
     "text": [
      "-------------------- Precision matrix (Columm Sum=1) --------------------\n"
     ]
    },
    {
     "data": {
      "image/png": "[encoded data removed]",
      "text/plain": [
       "<matplotlib.figure.Figure at 0x7fd3921d8470>"
      ]
     },
     "metadata": {
      "tags": []
     },
     "output_type": "display_data"
    },
    {
     "name": "stdout",
     "output_type": "stream",
     "text": [
      "-------------------- Recall matrix (Row sum=1) --------------------\n"
     ]
    },
    {
     "data": {
      "image/png": "[encoded data removed]",
      "text/plain": [
       "<matplotlib.figure.Figure at 0x7fd38136a6d8>"
      ]
     },
     "metadata": {
      "tags": []
     },
     "output_type": "display_data"
    }
   ],
   "source": [
    "plot_confusion_matrix(Y_test,pred)"
   ]
  },
  {
   "cell_type": "markdown",
   "metadata": {
    "colab_type": "text",
    "id": "RqXIKB1i6jEA"
   },
   "source": [
    "# word2vec-KD tree"
   ]
  },
  {
   "cell_type": "code",
   "execution_count": 0,
   "metadata": {
    "colab": {},
    "colab_type": "code",
    "id": "wa_vIdEQ6jEE"
   },
   "outputs": [],
   "source": [
    "from sklearn.decomposition import TruncatedSVD\n",
    "svd = TruncatedSVD(n_components=49)\n",
    "X_train_vect_svd_word2vec =svd.fit_transform(X_train_vect_norm_word2vec)\n",
    "X_cv_vect_svd_word2vec =svd.transform(X_cv_vect_norm_word2vec)\n",
    "X_test_vect_svd_word2vec =svd.transform(X_test_vect_norm_word2vec)"
   ]
  },
  {
   "cell_type": "code",
   "execution_count": 87,
   "metadata": {
    "colab": {
     "base_uri": "https://localhost:8080/",
     "height": 561
    },
    "colab_type": "code",
    "id": "5UawLd7t6jEJ",
    "outputId": "e794ed13-2135-4b07-8070-bc263175622e"
   },
   "outputs": [
    {
     "name": "stdout",
     "output_type": "stream",
     "text": [
      "\n",
      "CV accuracy for k = 1 is 85%\n",
      "\n",
      " AUC  for k = 1 is 0.613642\n",
      "\n",
      "CV accuracy for k = 3 is 88%\n",
      "\n",
      " AUC  for k = 3 is 0.606504\n",
      "\n",
      "CV accuracy for k = 5 is 88%\n",
      "\n",
      " AUC  for k = 5 is 0.600392\n",
      "\n",
      "CV accuracy for k = 7 is 88%\n",
      "\n",
      " AUC  for k = 7 is 0.589643\n",
      "\n",
      "CV accuracy for k = 9 is 89%\n",
      "\n",
      " AUC  for k = 9 is 0.587885\n",
      "\n",
      "CV accuracy for k = 11 is 88%\n",
      "\n",
      " AUC  for k = 11 is 0.582802\n",
      "\n",
      "CV accuracy for k = 13 is 89%\n",
      "\n",
      " AUC  for k = 13 is 0.584365\n",
      "\n",
      "CV accuracy for k = 15 is 89%\n",
      "\n",
      " AUC  for k = 15 is 0.582547\n"
     ]
    }
   ],
   "source": [
    "from sklearn import metrics\n",
    "for i in range(1,17,2):\n",
    "   \n",
    "    knn = KNeighborsClassifier(n_neighbors=i,algorithm='kd_tree')\n",
    "\n",
    "    knn.fit(X_train_vect_svd_word2vec,Y_train_word2vec)\n",
    "    pred = []\n",
    "    for j in range(X_cv_vect_svd_word2vec.shape[0]):\n",
    "        pred.append(knn.predict([X_cv_vect_svd_word2vec[j]]))\n",
    "\n",
    "    acc = accuracy_score(Y_cv_word2vec, pred, normalize=True) * float(100)\n",
    "    #fpr, tpr, thresholds = metrics.roc_curve(Y_cv, pred, pos_label=2)\n",
    "    print('\\nCV accuracy for k = %d is %d%%' % (i, acc))\n",
    "    fpr, tpr, thresholds = metrics.roc_curve(Y_cv,pred)\n",
    "    print('\\n AUC  for k = %d is %f' % (i, metrics.auc(fpr, tpr)))"
   ]
  },
  {
   "cell_type": "code",
   "execution_count": 89,
   "metadata": {
    "colab": {
     "base_uri": "https://localhost:8080/",
     "height": 51
    },
    "colab_type": "code",
    "id": "7GAeNOtk6jEN",
    "outputId": "f932186a-df35-4037-edd9-23d1a1753b63"
   },
   "outputs": [
    {
     "name": "stdout",
     "output_type": "stream",
     "text": [
      "\n",
      "The accuracy of the knn classifier for k = 13 is 88.758876%\n"
     ]
    }
   ],
   "source": [
    "knn_optimal = KNeighborsClassifier(n_neighbors=13,algorithm='kd_tree')\n",
    "\n",
    "# fitting the model\n",
    "knn_optimal.fit(X_train_vect_svd_word2vec,Y_train_word2vec)\n",
    "\n",
    "# predict the response\n",
    "#pred = knn_optimal.predict(X_test_vect_norm_tfidf)\n",
    "pred = []\n",
    "for j in range(X_test_vect_svd_word2vec.shape[0]):\n",
    "        pred.append(knn_optimal.predict([X_test_vect_svd_word2vec[j]]))\n",
    "\n",
    "# evaluate accuracy\n",
    "acc = accuracy_score(Y_test_word2vec, pred) * 100\n",
    "print('\\nThe accuracy of the knn classifier for k = %d is %f%%' % (13, acc))"
   ]
  },
  {
   "cell_type": "code",
   "execution_count": 0,
   "metadata": {
    "colab": {},
    "colab_type": "code",
    "id": "W2ng3nJ8VxLN"
   },
   "outputs": [],
   "source": [
    "fpr, tpr, thresholds = metrics.roc_curve(Y_test_word2vec, pred)"
   ]
  },
  {
   "cell_type": "code",
   "execution_count": 91,
   "metadata": {
    "colab": {
     "base_uri": "https://localhost:8080/",
     "height": 34
    },
    "colab_type": "code",
    "id": "eghwV6TtVx4-",
    "outputId": "ffd1c5d7-9ff0-4351-d507-41869e625328"
   },
   "outputs": [
    {
     "data": {
      "text/plain": [
       "0.5776659429027685"
      ]
     },
     "execution_count": 91,
     "metadata": {
      "tags": []
     },
     "output_type": "execute_result"
    }
   ],
   "source": [
    "metrics.auc(fpr, tpr)"
   ]
  },
  {
   "cell_type": "code",
   "execution_count": 92,
   "metadata": {
    "colab": {
     "base_uri": "https://localhost:8080/",
     "height": 1343
    },
    "colab_type": "code",
    "id": "UX5zjPYXWFE2",
    "outputId": "b28af06d-3614-4445-9490-7623ad85d99a"
   },
   "outputs": [
    {
     "name": "stdout",
     "output_type": "stream",
     "text": [
      "-------------------- Confusion matrix --------------------\n"
     ]
    },
    {
     "data": {
      "image/png": "[encoded data removed]",
      "text/plain": [
       "<matplotlib.figure.Figure at 0x7fd38159cda0>"
      ]
     },
     "metadata": {
      "tags": []
     },
     "output_type": "display_data"
    },
    {
     "name": "stdout",
     "output_type": "stream",
     "text": [
      "-------------------- Precision matrix (Columm Sum=1) --------------------\n"
     ]
    },
    {
     "data": {
      "image/png": "[encoded data removed]",
      "text/plain": [
       "<matplotlib.figure.Figure at 0x7fd3821bccf8>"
      ]
     },
     "metadata": {
      "tags": []
     },
     "output_type": "display_data"
    },
    {
     "name": "stdout",
     "output_type": "stream",
     "text": [
      "-------------------- Recall matrix (Row sum=1) --------------------\n"
     ]
    },
    {
     "data": {
      "image/png": "[encoded data removed]",
      "text/plain": [
       "<matplotlib.figure.Figure at 0x7fd382529ba8>"
      ]
     },
     "metadata": {
      "tags": []
     },
     "output_type": "display_data"
    }
   ],
   "source": [
    "plot_confusion_matrix(Y_test_word2vec,pred)"
   ]
  },
  {
   "cell_type": "markdown",
   "metadata": {
    "colab_type": "text",
    "id": "WDvA7KqC6jER"
   },
   "source": [
    "# tfidf word2vec"
   ]
  },
  {
   "cell_type": "code",
   "execution_count": 0,
   "metadata": {
    "colab": {},
    "colab_type": "code",
    "id": "0KRVlIQr6jES"
   },
   "outputs": [],
   "source": [
    "tfidf_feat = count_vect.get_feature_names() # tfidf words/col-names\n",
    "# final_tf_idf is the sparse matrix with row= sentence, col=word and cell_val = tfidf\n",
    "\n",
    "tfidf_sent_vectors_train = []; # the tfidf-w2v for each sentence/review is stored in this list\n",
    "row=0;\n",
    "for sent in list_of_sent_X_train_word2vec: # for each review/sentence\n",
    "    sent_vec = np.zeros(50) # as word vectors are of zero length\n",
    "    weight_sum =0; # num of words with a valid vector in the sentence/review\n",
    "    for word in sent: # for each word in a review/sentence\n",
    "        try:\n",
    "            vec = w2v_model.wv[word]\n",
    "            # obtain the tf_idfidf of a word in a sentence/review\n",
    "            tf_idf = X_train_vect[row, tfidf_feat.index(word)]\n",
    "            sent_vec += (vec * tf_idf)\n",
    "            weight_sum += tf_idf\n",
    "            \n",
    "        except:\n",
    "            pass\n",
    "    try:    \n",
    "        sent_vec /= weight_sum\n",
    "    except ZeroDivisionError:\n",
    "        sent_vec=0\n",
    "        \n",
    "    tfidf_sent_vectors_train.append(sent_vec)\n",
    "    row += 1"
   ]
  },
  {
   "cell_type": "code",
   "execution_count": 0,
   "metadata": {
    "colab": {},
    "colab_type": "code",
    "id": "I9Yp15SJ6jEY"
   },
   "outputs": [],
   "source": [
    "tfidf_feat = count_vect.get_feature_names() # tfidf words/col-names\n",
    "# final_tf_idf is the sparse matrix with row= sentence, col=word and cell_val = tfidf\n",
    "\n",
    "tfidf_sent_vectors_cv = []; # the tfidf-w2v for each sentence/review is stored in this list\n",
    "row=0;\n",
    "for sent in list_of_sent_X_cv_word2vec: # for each review/sentence\n",
    "    sent_vec = np.zeros(50) # as word vectors are of zero length\n",
    "    weight_sum =0; # num of words with a valid vector in the sentence/review\n",
    "    for word in sent: # for each word in a review/sentence\n",
    "        try:\n",
    "            vec = w2v_model.wv[word]\n",
    "            # obtain the tf_idfidf of a word in a sentence/review\n",
    "            tf_idf = X_cv_vect[row, tfidf_feat.index(word)]\n",
    "            sent_vec += (vec * tf_idf)\n",
    "            weight_sum += tf_idf\n",
    "            \n",
    "        except:\n",
    "            pass\n",
    "    try:    \n",
    "        sent_vec /= weight_sum\n",
    "    except ZeroDivisionError:\n",
    "        sent_vec=0\n",
    "        \n",
    "    tfidf_sent_vectors_cv.append(sent_vec)\n",
    "    row += 1"
   ]
  },
  {
   "cell_type": "code",
   "execution_count": 0,
   "metadata": {
    "colab": {},
    "colab_type": "code",
    "id": "2-u5UMo46jEd"
   },
   "outputs": [],
   "source": [
    "tfidf_feat = count_vect.get_feature_names() # tfidf words/col-names\n",
    "# final_tf_idf is the sparse matrix with row= sentence, col=word and cell_val = tfidf\n",
    "\n",
    "tfidf_sent_vectors_test = []; # the tfidf-w2v for each sentence/review is stored in this list\n",
    "row=0;\n",
    "for sent in list_of_sent_X_test_word2vec: # for each review/sentence\n",
    "    sent_vec = np.zeros(50) # as word vectors are of zero length\n",
    "    weight_sum =0; # num of words with a valid vector in the sentence/review\n",
    "    for word in sent: # for each word in a review/sentence\n",
    "        try:\n",
    "            vec = w2v_model.wv[word]\n",
    "            # obtain the tf_idfidf of a word in a sentence/review\n",
    "            tf_idf = X_test_vect[row, tfidf_feat.index(word)]\n",
    "            sent_vec += (vec * tf_idf)\n",
    "            weight_sum += tf_idf\n",
    "        except:\n",
    "            pass\n",
    "    try:    \n",
    "        sent_vec /= weight_sum\n",
    "    except ZeroDivisionError:\n",
    "        sent_vec=0\n",
    "    #print(sent_vec)\n",
    "    tfidf_sent_vectors_test.append(sent_vec)\n",
    "    row += 1"
   ]
  },
  {
   "cell_type": "code",
   "execution_count": 98,
   "metadata": {
    "colab": {
     "base_uri": "https://localhost:8080/",
     "height": 34
    },
    "colab_type": "code",
    "id": "7K4jMIQt6jEk",
    "outputId": "1afce3f3-c224-4c7b-8e90-7e2a76f2ccae"
   },
   "outputs": [
    {
     "name": "stdout",
     "output_type": "stream",
     "text": [
      "Normalizer(copy=True, norm='l2')\n"
     ]
    }
   ],
   "source": [
    "from sklearn.preprocessing import Normalizer\n",
    "transformer_tfidfword2vec = Normalizer().fit(tfidf_sent_vectors_train)\n",
    "print(transformer_word2vec)\n",
    "tfidf_sent_vectors_train_norm=transformer_tfidfword2vec.transform(tfidf_sent_vectors_train)\n",
    "tfidf_sent_vectors_cv_norm=transformer_tfidfword2vec.transform(tfidf_sent_vectors_cv)"
   ]
  },
  {
   "cell_type": "code",
   "execution_count": 0,
   "metadata": {
    "colab": {},
    "colab_type": "code",
    "id": "5e0vPAhx6jEr"
   },
   "outputs": [],
   "source": [
    "tfidf_sent_vectors_test_norm=transformer_tfidfword2vec.transform(tfidf_sent_vectors_test)"
   ]
  },
  {
   "cell_type": "code",
   "execution_count": 0,
   "metadata": {
    "colab": {},
    "colab_type": "code",
    "id": "1SgNiosjcXIn"
   },
   "outputs": [],
   "source": [
    "from sklearn.model_selection import cross_val_score"
   ]
  },
  {
   "cell_type": "code",
   "execution_count": 0,
   "metadata": {
    "colab": {},
    "colab_type": "code",
    "id": "zw--Xyep6jEz"
   },
   "outputs": [],
   "source": []
  },
  {
   "cell_type": "code",
   "execution_count": 104,
   "metadata": {
    "colab": {
     "base_uri": "https://localhost:8080/",
     "height": 561
    },
    "colab_type": "code",
    "id": "FQH_gbNxcq5X",
    "outputId": "402be32c-c66a-4e20-afb1-57c00e5fe7e1"
   },
   "outputs": [
    {
     "name": "stdout",
     "output_type": "stream",
     "text": [
      "\n",
      "CV accuracy for k = 1 is 84%\n",
      "\n",
      " AUC  for k = 1 is 0.604414\n",
      "\n",
      "CV accuracy for k = 3 is 87%\n",
      "\n",
      " AUC  for k = 3 is 0.589725\n",
      "\n",
      "CV accuracy for k = 5 is 88%\n",
      "\n",
      " AUC  for k = 5 is 0.593487\n",
      "\n",
      "CV accuracy for k = 7 is 88%\n",
      "\n",
      " AUC  for k = 7 is 0.582313\n",
      "\n",
      "CV accuracy for k = 9 is 88%\n",
      "\n",
      " AUC  for k = 9 is 0.573312\n",
      "\n",
      "CV accuracy for k = 11 is 88%\n",
      "\n",
      " AUC  for k = 11 is 0.571524\n",
      "\n",
      "CV accuracy for k = 13 is 88%\n",
      "\n",
      " AUC  for k = 13 is 0.568799\n",
      "\n",
      "CV accuracy for k = 15 is 88%\n",
      "\n",
      " AUC  for k = 15 is 0.568544\n"
     ]
    }
   ],
   "source": [
    "from sklearn import metrics\n",
    "for i in range(1,17,2):\n",
    "   \n",
    "    knn = KNeighborsClassifier(n_neighbors=i,algorithm='brute')\n",
    "\n",
    "    knn.fit(tfidf_sent_vectors_train_norm,Y_train_word2vec)\n",
    "    pred = []\n",
    "    for j in range(tfidf_sent_vectors_cv_norm.shape[0]):\n",
    "        pred.append(knn.predict([tfidf_sent_vectors_cv_norm[j]]))\n",
    "\n",
    "    acc = accuracy_score(Y_cv_word2vec, pred, normalize=True) * float(100)\n",
    "    #fpr, tpr, thresholds = metrics.roc_curve(Y_cv, pred, pos_label=2)\n",
    "    print('\\nCV accuracy for k = %d is %d%%' % (i, acc))\n",
    "    fpr, tpr, thresholds = metrics.roc_curve(Y_cv_word2vec,pred)\n",
    "    print('\\n AUC  for k = %d is %f' % (i, metrics.auc(fpr, tpr)))"
   ]
  },
  {
   "cell_type": "code",
   "execution_count": 105,
   "metadata": {
    "colab": {
     "base_uri": "https://localhost:8080/",
     "height": 51
    },
    "colab_type": "code",
    "id": "a_MGNe6t6jE5",
    "outputId": "1bca774e-80aa-400e-c240-8ae4214e2f31"
   },
   "outputs": [
    {
     "name": "stdout",
     "output_type": "stream",
     "text": [
      "\n",
      "The accuracy of the knn classifier for k = 5 is 88.008801%\n"
     ]
    }
   ],
   "source": [
    "knn_optimal = KNeighborsClassifier(n_neighbors=5,algorithm='brute')\n",
    "\n",
    "# fitting the model\n",
    "knn_optimal.fit(tfidf_sent_vectors_train_norm, Y_train)\n",
    "\n",
    "# predict the response\n",
    "#pred = knn_optimal.predict(X_test_vect_norm_tfidf)\n",
    "\n",
    "pred = []\n",
    "\n",
    "for j in range(tfidf_sent_vectors_test_norm.shape[0]):\n",
    "        pred.append(knn_optimal.predict([tfidf_sent_vectors_test_norm[j]]))\n",
    "\n",
    "# evaluate accuracy\n",
    "acc = accuracy_score(Y_test, pred) * 100\n",
    "print('\\nThe accuracy of the knn classifier for k = %d is %f%%' % (5, acc))"
   ]
  },
  {
   "cell_type": "code",
   "execution_count": 0,
   "metadata": {
    "colab": {},
    "colab_type": "code",
    "id": "h0EYb3Y4fVAt"
   },
   "outputs": [],
   "source": [
    "fpr, tpr, thresholds = metrics.roc_curve(Y_test_word2vec, pred)"
   ]
  },
  {
   "cell_type": "code",
   "execution_count": 107,
   "metadata": {
    "colab": {
     "base_uri": "https://localhost:8080/",
     "height": 34
    },
    "colab_type": "code",
    "id": "3XADUeFufZPX",
    "outputId": "b8f4471e-01c5-44f2-ed02-fcf5e836b42e"
   },
   "outputs": [
    {
     "data": {
      "text/plain": [
       "0.5838529021167038"
      ]
     },
     "execution_count": 107,
     "metadata": {
      "tags": []
     },
     "output_type": "execute_result"
    }
   ],
   "source": [
    "metrics.auc(fpr, tpr)"
   ]
  },
  {
   "cell_type": "code",
   "execution_count": 108,
   "metadata": {
    "colab": {
     "base_uri": "https://localhost:8080/",
     "height": 1343
    },
    "colab_type": "code",
    "id": "RMPMuYRlfcMW",
    "outputId": "8be71405-cf8a-44ad-c358-1ede8598c917"
   },
   "outputs": [
    {
     "name": "stdout",
     "output_type": "stream",
     "text": [
      "-------------------- Confusion matrix --------------------\n"
     ]
    },
    {
     "data": {
      "image/png": "[encoded data removed]",
      "text/plain": [
       "<matplotlib.figure.Figure at 0x7fd383aab7b8>"
      ]
     },
     "metadata": {
      "tags": []
     },
     "output_type": "display_data"
    },
    {
     "name": "stdout",
     "output_type": "stream",
     "text": [
      "-------------------- Precision matrix (Columm Sum=1) --------------------\n"
     ]
    },
    {
     "data": {
      "image/png": "[encoded data removed]",
      "text/plain": [
       "<matplotlib.figure.Figure at 0x7fd38ab20080>"
      ]
     },
     "metadata": {
      "tags": []
     },
     "output_type": "display_data"
    },
    {
     "name": "stdout",
     "output_type": "stream",
     "text": [
      "-------------------- Recall matrix (Row sum=1) --------------------\n"
     ]
    },
    {
     "data": {
      "image/png": "[encoded data removed]",
      "text/plain": [
       "<matplotlib.figure.Figure at 0x7fd389861dd8>"
      ]
     },
     "metadata": {
      "tags": []
     },
     "output_type": "display_data"
    }
   ],
   "source": [
    "plot_confusion_matrix(Y_test_word2vec,pred)"
   ]
  },
  {
   "cell_type": "markdown",
   "metadata": {
    "colab_type": "text",
    "id": "_0AFmLaY6jE_"
   },
   "source": [
    "# tfidf word2vec Knn using Kd tree"
   ]
  },
  {
   "cell_type": "code",
   "execution_count": 109,
   "metadata": {
    "colab": {
     "base_uri": "https://localhost:8080/",
     "height": 561
    },
    "colab_type": "code",
    "id": "wD2hhkMr6jFA",
    "outputId": "78cb0138-eed4-40d0-f9ce-aa585a1c7b38"
   },
   "outputs": [
    {
     "name": "stdout",
     "output_type": "stream",
     "text": [
      "\n",
      "CV accuracy for k = 1 is 84%\n",
      "\n",
      " AUC  for k = 1 is 0.604414\n",
      "\n",
      "CV accuracy for k = 3 is 87%\n",
      "\n",
      " AUC  for k = 3 is 0.589725\n",
      "\n",
      "CV accuracy for k = 5 is 88%\n",
      "\n",
      " AUC  for k = 5 is 0.593487\n",
      "\n",
      "CV accuracy for k = 7 is 88%\n",
      "\n",
      " AUC  for k = 7 is 0.582313\n",
      "\n",
      "CV accuracy for k = 9 is 88%\n",
      "\n",
      " AUC  for k = 9 is 0.573312\n",
      "\n",
      "CV accuracy for k = 11 is 88%\n",
      "\n",
      " AUC  for k = 11 is 0.571524\n",
      "\n",
      "CV accuracy for k = 13 is 88%\n",
      "\n",
      " AUC  for k = 13 is 0.568799\n",
      "\n",
      "CV accuracy for k = 15 is 88%\n",
      "\n",
      " AUC  for k = 15 is 0.568544\n"
     ]
    }
   ],
   "source": [
    "from sklearn import metrics\n",
    "for i in range(1,17,2):\n",
    "   \n",
    "    knn = KNeighborsClassifier(n_neighbors=i,algorithm='kd_tree')\n",
    "\n",
    "    knn.fit(tfidf_sent_vectors_train_norm,Y_train_word2vec)\n",
    "    pred = []\n",
    "    for j in range(tfidf_sent_vectors_cv_norm.shape[0]):\n",
    "        pred.append(knn.predict([tfidf_sent_vectors_cv_norm[j]]))\n",
    "\n",
    "    acc = accuracy_score(Y_cv_word2vec, pred, normalize=True) * float(100)\n",
    "    #fpr, tpr, thresholds = metrics.roc_curve(Y_cv, pred, pos_label=2)\n",
    "    print('\\nCV accuracy for k = %d is %d%%' % (i, acc))\n",
    "    fpr, tpr, thresholds = metrics.roc_curve(Y_cv_word2vec,pred)\n",
    "    print('\\n AUC  for k = %d is %f' % (i, metrics.auc(fpr, tpr)))"
   ]
  },
  {
   "cell_type": "code",
   "execution_count": 114,
   "metadata": {
    "colab": {
     "base_uri": "https://localhost:8080/",
     "height": 51
    },
    "colab_type": "code",
    "id": "q4D0GBcO6jFG",
    "outputId": "defec6a7-eaa1-4f20-ed58-6d490ae6b8b4"
   },
   "outputs": [
    {
     "name": "stdout",
     "output_type": "stream",
     "text": [
      "\n",
      "The accuracy of the knn classifier for k = 5 is 88.008801%\n"
     ]
    }
   ],
   "source": [
    "knn_optimal = KNeighborsClassifier(n_neighbors=5,algorithm='kd_tree')\n",
    "\n",
    "# fitting the model\n",
    "knn_optimal.fit(tfidf_sent_vectors_train_norm, Y_train)\n",
    "\n",
    "# predict the response\n",
    "#pred = knn_optimal.predict(X_test_vect_norm_tfidf)\n",
    "pred = []\n",
    "for j in range(tfidf_sent_vectors_test_norm.shape[0]):\n",
    "        pred.append(knn_optimal.predict([tfidf_sent_vectors_test_norm[j]]))\n",
    "\n",
    "# evaluate accuracy\n",
    "acc = accuracy_score(Y_test, pred) * 100\n",
    "print('\\nThe accuracy of the knn classifier for k = %d is %f%%' % (5, acc))"
   ]
  },
  {
   "cell_type": "code",
   "execution_count": 0,
   "metadata": {
    "colab": {},
    "colab_type": "code",
    "id": "zdks8fj0g0RP"
   },
   "outputs": [],
   "source": [
    "fpr, tpr, thresholds = metrics.roc_curve(Y_test_word2vec, pred)"
   ]
  },
  {
   "cell_type": "code",
   "execution_count": 121,
   "metadata": {
    "colab": {
     "base_uri": "https://localhost:8080/",
     "height": 34
    },
    "colab_type": "code",
    "id": "VkvC9BJVg4vT",
    "outputId": "eba4d000-6a60-417f-de94-39524eeda329"
   },
   "outputs": [
    {
     "data": {
      "text/plain": [
       "0.5838529021167038"
      ]
     },
     "execution_count": 121,
     "metadata": {
      "tags": []
     },
     "output_type": "execute_result"
    }
   ],
   "source": [
    "metrics.auc(fpr, tpr)"
   ]
  },
  {
   "cell_type": "code",
   "execution_count": 117,
   "metadata": {
    "colab": {
     "base_uri": "https://localhost:8080/",
     "height": 1343
    },
    "colab_type": "code",
    "id": "wV5kY75hg7gE",
    "outputId": "68f426e3-d666-4f1d-95c5-70652327ddf6"
   },
   "outputs": [
    {
     "name": "stdout",
     "output_type": "stream",
     "text": [
      "-------------------- Confusion matrix --------------------\n"
     ]
    },
    {
     "data": {
      "image/png": "[encoded data removed]",
      "text/plain": [
       "<matplotlib.figure.Figure at 0x7fd38d336f98>"
      ]
     },
     "metadata": {
      "tags": []
     },
     "output_type": "display_data"
    },
    {
     "name": "stdout",
     "output_type": "stream",
     "text": [
      "-------------------- Precision matrix (Columm Sum=1) --------------------\n"
     ]
    },
    {
     "data": {
      "image/png": "[encoded data removed]",
      "text/plain": [
       "<matplotlib.figure.Figure at 0x7fd38d630a58>"
      ]
     },
     "metadata": {
      "tags": []
     },
     "output_type": "display_data"
    },
    {
     "name": "stdout",
     "output_type": "stream",
     "text": [
      "-------------------- Recall matrix (Row sum=1) --------------------\n"
     ]
    },
    {
     "data": {
      "image/png": "[encoded data removed]",
      "text/plain": [
       "<matplotlib.figure.Figure at 0x7fd394b584e0>"
      ]
     },
     "metadata": {
      "tags": []
     },
     "output_type": "display_data"
    }
   ],
   "source": [
    "plot_confusion_matrix(Y_test_word2vec,pred)"
   ]
  },
  {
   "cell_type": "markdown",
   "metadata": {
    "colab_type": "text",
    "id": "1Sban4f56jFP"
   },
   "source": [
    "# Conclusion"
   ]
  },
  {
   "cell_type": "code",
   "execution_count": 0,
   "metadata": {
    "colab": {},
    "colab_type": "code",
    "id": "0iMo2zUA6jFU"
   },
   "outputs": [],
   "source": [
    "from prettytable import PrettyTable\n",
    "x = PrettyTable()"
   ]
  },
  {
   "cell_type": "code",
   "execution_count": 0,
   "metadata": {
    "colab": {},
    "colab_type": "code",
    "id": "xkJ9jO4m6jFa"
   },
   "outputs": [],
   "source": [
    "x.field_names = [\"Type of vectorizer\", \"Brute force optimized k \", \"Kd Tree optimized k\"]"
   ]
  },
  {
   "cell_type": "code",
   "execution_count": 0,
   "metadata": {
    "colab": {},
    "colab_type": "code",
    "id": "Fm7S1HHS6jFf"
   },
   "outputs": [],
   "source": [
    "x.add_row([\"TFIDF\",\"K=11 and acc=0.565\",\"k =5 and 0.58\"])\n",
    "x.add_row([\"BOW\",\"k = 5 and 0.554\",\"k = 11 and 0.5608\"])\n",
    "x.add_row([\"Avg WORD2VEC\",\"k = 9 and 0.586\",\"k = 13 and 0.577\"])\n",
    "x.add_row([\"tfidf word2vec\",\"k = 5 and 0.583\",\"k = 5 and 0.583\"])"
   ]
  },
  {
   "cell_type": "code",
   "execution_count": 131,
   "metadata": {
    "colab": {
     "base_uri": "https://localhost:8080/",
     "height": 153
    },
    "colab_type": "code",
    "id": "PXrCqoF76jFl",
    "outputId": "2a7390c4-3ac7-4b71-ab6a-782f7aea8906"
   },
   "outputs": [
    {
     "name": "stdout",
     "output_type": "stream",
     "text": [
      "+--------------------+--------------------------+---------------------+\n",
      "| Type of vectorizer | Brute force optimized k  | Kd Tree optimized k |\n",
      "+--------------------+--------------------------+---------------------+\n",
      "|       TFIDF        |    K=11 and acc=0.565    |    k =5 and 0.58    |\n",
      "|        BOW         |     k = 5 and 0.554      |  k = 11 and 0.5608  |\n",
      "|    Avg WORD2VEC    |     k = 9 and 0.586      |   k = 13 and 0.577  |\n",
      "|   tfidf word2vec   |     k = 5 and 0.583      |   k = 5 and 0.583   |\n",
      "+--------------------+--------------------------+---------------------+\n"
     ]
    }
   ],
   "source": [
    "print(x)"
   ]
  },
  {
   "cell_type": "code",
   "execution_count": 0,
   "metadata": {
    "colab": {},
    "colab_type": "code",
    "id": "saTGtwJM6jFq"
   },
   "outputs": [],
   "source": []
  }
 ],
 "metadata": {
  "accelerator": "GPU",
  "colab": {
   "collapsed_sections": [],
   "name": "AmazonFineReviewKnnNew2.ipynb",
   "provenance": [],
   "version": "0.3.2"
  },
  "kernelspec": {
   "display_name": "Python 3",
   "language": "python",
   "name": "python3"
  },
  "language_info": {
   "codemirror_mode": {
    "name": "ipython",
    "version": 3
   },
   "file_extension": ".py",
   "mimetype": "text/x-python",
   "name": "python",
   "nbconvert_exporter": "python",
   "pygments_lexer": "ipython3",
   "version": "3.6.4"
  }
 },
 "nbformat": 4,
 "nbformat_minor": 1
}
