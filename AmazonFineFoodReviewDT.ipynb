{
 "cells": [
  {
   "cell_type": "code",
   "execution_count": 1,
   "metadata": {
    "colab": {
     "base_uri": "https://localhost:8080/",
     "height": 666
    },
    "colab_type": "code",
    "id": "mhNmb-Ys2sd-",
    "outputId": "6225e4ff-62ff-4c92-ae7a-89ad5a13c237"
   },
   "outputs": [
    {
     "name": "stdout",
     "output_type": "stream",
     "text": [
      "Requirement already satisfied: dask in /usr/local/lib/python3.6/dist-packages (0.20.2)\n",
      "Requirement already satisfied: graphviz in /usr/local/lib/python3.6/dist-packages (0.10.1)\n",
      "Requirement already satisfied: folium in /usr/local/lib/python3.6/dist-packages (0.2.1)\n",
      "Requirement already satisfied: Jinja2 in /usr/local/lib/python3.6/dist-packages (from folium) (2.10)\n",
      "Requirement already satisfied: MarkupSafe>=0.23 in /usr/local/lib/python3.6/dist-packages (from Jinja2->folium) (1.1.0)\n",
      "Collecting gpxpy\n",
      "\u001b[?25l  Downloading https://files.pythonhosted.org/packages/b9/a5/ee53011f9c78bc7858b9bcd9bf0a52222a0cf47e13050fc8ca1800af957a/gpxpy-1.3.4.tar.gz (105kB)\n",
      "\u001b[K    100% |████████████████████████████████| 112kB 2.7MB/s \n",
      "\u001b[?25hBuilding wheels for collected packages: gpxpy\n",
      "  Building wheel for gpxpy (setup.py) ... \u001b[?25ldone\n",
      "\u001b[?25h  Stored in directory: /root/.cache/pip/wheels/7c/81/7f/effefbec600ee0ba7f29a29e38754a6e4e1e956538929fdbfd\n",
      "Successfully built gpxpy\n",
      "Installing collected packages: gpxpy\n",
      "Successfully installed gpxpy-1.3.4\n",
      "Requirement already satisfied: gensim in /usr/local/lib/python3.6/dist-packages (3.6.0)\n",
      "Requirement already satisfied: smart-open>=1.2.1 in /usr/local/lib/python3.6/dist-packages (from gensim) (1.8.0)\n",
      "Requirement already satisfied: scipy>=0.18.1 in /usr/local/lib/python3.6/dist-packages (from gensim) (1.1.0)\n",
      "Requirement already satisfied: numpy>=1.11.3 in /usr/local/lib/python3.6/dist-packages (from gensim) (1.14.6)\n",
      "Requirement already satisfied: six>=1.5.0 in /usr/local/lib/python3.6/dist-packages (from gensim) (1.11.0)\n",
      "Requirement already satisfied: boto>=2.32 in /usr/local/lib/python3.6/dist-packages (from smart-open>=1.2.1->gensim) (2.49.0)\n",
      "Requirement already satisfied: bz2file in /usr/local/lib/python3.6/dist-packages (from smart-open>=1.2.1->gensim) (0.98)\n",
      "Requirement already satisfied: requests in /usr/local/lib/python3.6/dist-packages (from smart-open>=1.2.1->gensim) (2.18.4)\n",
      "Requirement already satisfied: boto3 in /usr/local/lib/python3.6/dist-packages (from smart-open>=1.2.1->gensim) (1.9.86)\n",
      "Requirement already satisfied: chardet<3.1.0,>=3.0.2 in /usr/local/lib/python3.6/dist-packages (from requests->smart-open>=1.2.1->gensim) (3.0.4)\n",
      "Requirement already satisfied: urllib3<1.23,>=1.21.1 in /usr/local/lib/python3.6/dist-packages (from requests->smart-open>=1.2.1->gensim) (1.22)\n",
      "Requirement already satisfied: certifi>=2017.4.17 in /usr/local/lib/python3.6/dist-packages (from requests->smart-open>=1.2.1->gensim) (2018.11.29)\n",
      "Requirement already satisfied: idna<2.7,>=2.5 in /usr/local/lib/python3.6/dist-packages (from requests->smart-open>=1.2.1->gensim) (2.6)\n",
      "Requirement already satisfied: s3transfer<0.2.0,>=0.1.10 in /usr/local/lib/python3.6/dist-packages (from boto3->smart-open>=1.2.1->gensim) (0.1.13)\n",
      "Requirement already satisfied: jmespath<1.0.0,>=0.7.1 in /usr/local/lib/python3.6/dist-packages (from boto3->smart-open>=1.2.1->gensim) (0.9.3)\n",
      "Requirement already satisfied: botocore<1.13.0,>=1.12.86 in /usr/local/lib/python3.6/dist-packages (from boto3->smart-open>=1.2.1->gensim) (1.12.86)\n",
      "Requirement already satisfied: docutils>=0.10 in /usr/local/lib/python3.6/dist-packages (from botocore<1.13.0,>=1.12.86->boto3->smart-open>=1.2.1->gensim) (0.14)\n",
      "Requirement already satisfied: python-dateutil<3.0.0,>=2.1; python_version >= \"2.7\" in /usr/local/lib/python3.6/dist-packages (from botocore<1.13.0,>=1.12.86->boto3->smart-open>=1.2.1->gensim) (2.5.3)\n",
      "Requirement already satisfied: prettytable in /usr/local/lib/python3.6/dist-packages (0.7.2)\n",
      "Requirement already satisfied: sklearn in /usr/local/lib/python3.6/dist-packages (0.0)\n",
      "Requirement already satisfied: scikit-learn in /usr/local/lib/python3.6/dist-packages (from sklearn) (0.20.2)\n",
      "Requirement already satisfied: numpy>=1.8.2 in /usr/local/lib/python3.6/dist-packages (from scikit-learn->sklearn) (1.14.6)\n",
      "Requirement already satisfied: scipy>=0.13.3 in /usr/local/lib/python3.6/dist-packages (from scikit-learn->sklearn) (1.1.0)\n"
     ]
    }
   ],
   "source": [
    "!pip3 install dask\n",
    "!pip install graphviz\n",
    "!pip install folium\n",
    "!pip install gpxpy\n",
    "!pip install gensim\n",
    "!pip install prettytable\n",
    "!pip install sklearn"
   ]
  },
  {
   "cell_type": "code",
   "execution_count": 2,
   "metadata": {
    "colab": {
     "base_uri": "https://localhost:8080/",
     "height": 513
    },
    "colab_type": "code",
    "id": "4zXpRo6p2seR",
    "outputId": "a2716b55-91d5-44c8-e059-96b4dd21aa73"
   },
   "outputs": [
    {
     "name": "stdout",
     "output_type": "stream",
     "text": [
      "Requirement already satisfied: dask[complete] in /usr/local/lib/python3.6/dist-packages (0.20.2)\n",
      "Collecting partd>=0.3.8; extra == \"complete\" (from dask[complete])\n",
      "  Downloading https://files.pythonhosted.org/packages/e2/bc/4dfd1e62e04a26d7ee56ade63af15e3249aeb3ed05d70ac590da2ca7c44d/partd-0.3.9-py2.py3-none-any.whl\n",
      "Requirement already satisfied: numpy>=1.11.0; extra == \"complete\" in /usr/local/lib/python3.6/dist-packages (from dask[complete]) (1.14.6)\n",
      "Requirement already satisfied: distributed>=1.22; extra == \"complete\" in /usr/local/lib/python3.6/dist-packages (from dask[complete]) (1.25.3)\n",
      "Requirement already satisfied: pandas>=0.19.0; extra == \"complete\" in /usr/local/lib/python3.6/dist-packages (from dask[complete]) (0.22.0)\n",
      "Requirement already satisfied: cloudpickle>=0.2.1; extra == \"complete\" in /usr/local/lib/python3.6/dist-packages (from dask[complete]) (0.6.1)\n",
      "Requirement already satisfied: toolz>=0.7.3; extra == \"complete\" in /usr/local/lib/python3.6/dist-packages (from dask[complete]) (0.9.0)\n",
      "Collecting locket (from partd>=0.3.8; extra == \"complete\"->dask[complete])\n",
      "  Downloading https://files.pythonhosted.org/packages/d0/22/3c0f97614e0be8386542facb3a7dcfc2584f7b83608c02333bced641281c/locket-0.2.0.tar.gz\n",
      "Requirement already satisfied: pyyaml in /usr/local/lib/python3.6/dist-packages (from distributed>=1.22; extra == \"complete\"->dask[complete]) (3.13)\n",
      "Requirement already satisfied: tornado>=4.5.1 in /usr/local/lib/python3.6/dist-packages (from distributed>=1.22; extra == \"complete\"->dask[complete]) (4.5.3)\n",
      "Requirement already satisfied: psutil>=5.0 in /usr/local/lib/python3.6/dist-packages (from distributed>=1.22; extra == \"complete\"->dask[complete]) (5.4.8)\n",
      "Requirement already satisfied: click>=6.6 in /usr/local/lib/python3.6/dist-packages (from distributed>=1.22; extra == \"complete\"->dask[complete]) (7.0)\n",
      "Requirement already satisfied: tblib in /usr/local/lib/python3.6/dist-packages (from distributed>=1.22; extra == \"complete\"->dask[complete]) (1.3.2)\n",
      "Requirement already satisfied: six in /usr/local/lib/python3.6/dist-packages (from distributed>=1.22; extra == \"complete\"->dask[complete]) (1.11.0)\n",
      "Requirement already satisfied: sortedcontainers!=2.0.0,!=2.0.1 in /usr/local/lib/python3.6/dist-packages (from distributed>=1.22; extra == \"complete\"->dask[complete]) (2.1.0)\n",
      "Requirement already satisfied: zict>=0.1.3 in /usr/local/lib/python3.6/dist-packages (from distributed>=1.22; extra == \"complete\"->dask[complete]) (0.1.3)\n",
      "Requirement already satisfied: msgpack in /usr/local/lib/python3.6/dist-packages (from distributed>=1.22; extra == \"complete\"->dask[complete]) (0.5.6)\n",
      "Requirement already satisfied: pytz>=2011k in /usr/local/lib/python3.6/dist-packages (from pandas>=0.19.0; extra == \"complete\"->dask[complete]) (2018.9)\n",
      "Requirement already satisfied: python-dateutil>=2 in /usr/local/lib/python3.6/dist-packages (from pandas>=0.19.0; extra == \"complete\"->dask[complete]) (2.5.3)\n",
      "Requirement already satisfied: heapdict in /usr/local/lib/python3.6/dist-packages (from zict>=0.1.3->distributed>=1.22; extra == \"complete\"->dask[complete]) (1.0.0)\n",
      "Building wheels for collected packages: locket\n",
      "  Building wheel for locket (setup.py) ... \u001b[?25ldone\n",
      "\u001b[?25h  Stored in directory: /root/.cache/pip/wheels/26/1e/e8/4fa236ec931b1a0cdd61578e20d4934d7bf188858723b84698\n",
      "Successfully built locket\n",
      "Installing collected packages: locket, partd\n",
      "Successfully installed locket-0.2.0 partd-0.3.9\n"
     ]
    }
   ],
   "source": [
    "!pip install dask[complete]"
   ]
  },
  {
   "cell_type": "code",
   "execution_count": 0,
   "metadata": {
    "colab": {},
    "colab_type": "code",
    "id": "il6mV47j2sek"
   },
   "outputs": [],
   "source": [
    "%matplotlib inline\n",
    "\n",
    "import sqlite3\n",
    "import pandas as pd\n",
    "import numpy as np\n",
    "import nltk\n",
    "import string\n",
    "import matplotlib.pyplot as plt\n",
    "import seaborn as sns\n",
    "from sklearn.feature_extraction.text import TfidfTransformer\n",
    "from sklearn.feature_extraction.text import TfidfVectorizer\n",
    "\n",
    "from sklearn.feature_extraction.text import CountVectorizer\n",
    "from sklearn.metrics import confusion_matrix\n",
    "from sklearn import metrics\n",
    "from sklearn.metrics import roc_curve, auc\n",
    "from nltk.stem.porter import PorterStemmer\n",
    "from sklearn.naive_bayes import GaussianNB\n",
    "from gensim.models import Word2Vec\n",
    "from gensim.models import KeyedVectors\n",
    "import pickle\n",
    "from sklearn.linear_model import SGDClassifier"
   ]
  },
  {
   "cell_type": "code",
   "execution_count": 4,
   "metadata": {
    "colab": {
     "base_uri": "https://localhost:8080/",
     "height": 122
    },
    "colab_type": "code",
    "id": "GQyngyYi2sev",
    "outputId": "2fdc91e0-aab7-4d09-c85d-ba66d27867c7"
   },
   "outputs": [
    {
     "name": "stdout",
     "output_type": "stream",
     "text": [
      "Go to this URL in a browser: https://accounts.google.com/o/oauth2/auth?client_id=947318989803-6bn6qk8qdgf4n4g3pfee6491hc0brc4i.apps.googleusercontent.com&redirect_uri=urn%3Aietf%3Awg%3Aoauth%3A2.0%3Aoob&scope=email%20https%3A%2F%2Fwww.googleapis.com%2Fauth%2Fdocs.test%20https%3A%2F%2Fwww.googleapis.com%2Fauth%2Fdrive%20https%3A%2F%2Fwww.googleapis.com%2Fauth%2Fdrive.photos.readonly%20https%3A%2F%2Fwww.googleapis.com%2Fauth%2Fpeopleapi.readonly&response_type=code\n",
      "\n",
      "Enter your authorization code:\n",
      "··········\n",
      "Mounted at /content/drive\n"
     ]
    }
   ],
   "source": [
    "from google.colab import drive\n",
    "drive.mount('/content/drive')"
   ]
  },
  {
   "cell_type": "code",
   "execution_count": 0,
   "metadata": {
    "colab": {},
    "colab_type": "code",
    "id": "L87Hi7MD2se7"
   },
   "outputs": [],
   "source": [
    "con = sqlite3.connect(r'/content/drive/My Drive/database.sqlite') "
   ]
  },
  {
   "cell_type": "code",
   "execution_count": 6,
   "metadata": {
    "colab": {
     "base_uri": "https://localhost:8080/",
     "height": 357
    },
    "colab_type": "code",
    "id": "hzO8dk-d2sfG",
    "outputId": "ba6fe193-5cde-4788-886f-8b5442fe4fd0"
   },
   "outputs": [
    {
     "name": "stdout",
     "output_type": "stream",
     "text": [
      "   Id   ProductId          UserId                      ProfileName  \\\n",
      "0   1  B001E4KFG0  A3SGXH7AUHU8GW                       delmartian   \n",
      "1   2  B00813GRG4  A1D87F6ZCVE5NK                           dll pa   \n",
      "2   3  B000LQOCH0   ABXLMWJIXXAIN  Natalia Corres \"Natalia Corres\"   \n",
      "3   4  B000UA0QIQ  A395BORC6FGVXV                             Karl   \n",
      "4   5  B006K2ZZ7K  A1UQRSCLF8GW1T    Michael D. Bigham \"M. Wassir\"   \n",
      "\n",
      "   HelpfulnessNumerator  HelpfulnessDenominator     Score        Time  \\\n",
      "0                     1                       1  positive  1303862400   \n",
      "1                     0                       0  negative  1346976000   \n",
      "2                     1                       1  positive  1219017600   \n",
      "3                     3                       3  negative  1307923200   \n",
      "4                     0                       0  positive  1350777600   \n",
      "\n",
      "                 Summary                                               Text  \n",
      "0  Good Quality Dog Food  I have bought several of the Vitality canned d...  \n",
      "1      Not as Advertised  Product arrived labeled as Jumbo Salted Peanut...  \n",
      "2  \"Delight\" says it all  This is a confection that has been around a fe...  \n",
      "3         Cough Medicine  If you are looking for the secret ingredient i...  \n",
      "4            Great taffy  Great taffy at a great price.  There was a wid...  \n"
     ]
    }
   ],
   "source": [
    "filteredData = pd.read_sql_query(\"\"\"\n",
    "SELECT *\n",
    "FROM Reviews\n",
    "WHERE Score != 3\n",
    "\"\"\", con)\n",
    "#filteredData=filteredData.iloc[0:3000,:]\n",
    "#filteredData.shape               \n",
    "dfScore=filteredData['Score']\n",
    "\n",
    "def convertPositiveNegative(x):\n",
    "    if x < 3:\n",
    "        return 'negative'\n",
    "    return 'positive'\n",
    "dfPositiveNegative=dfScore.map(convertPositiveNegative)\n",
    "\n",
    "\n",
    "filteredData['Score']=dfPositiveNegative\n",
    "print(filteredData.head(5))"
   ]
  },
  {
   "cell_type": "code",
   "execution_count": 0,
   "metadata": {
    "colab": {},
    "colab_type": "code",
    "id": "SZWa2k5t2sfP"
   },
   "outputs": [],
   "source": [
    "sorted_data=filteredData.sort_values('ProductId', axis=0, ascending=True, inplace=False, kind='quicksort', na_position='last')"
   ]
  },
  {
   "cell_type": "code",
   "execution_count": 0,
   "metadata": {
    "colab": {},
    "colab_type": "code",
    "id": "RZM-DPBv2sfZ"
   },
   "outputs": [],
   "source": [
    "final=sorted_data.drop_duplicates(subset={\"UserId\",\"ProfileName\",\"Time\",\"Text\"}, keep='first', inplace=False)"
   ]
  },
  {
   "cell_type": "code",
   "execution_count": 9,
   "metadata": {
    "colab": {
     "base_uri": "https://localhost:8080/",
     "height": 34
    },
    "colab_type": "code",
    "id": "3-ErXJC72sfw",
    "outputId": "4deb9621-0e3c-4f1e-a105-c6b7f6209122"
   },
   "outputs": [
    {
     "data": {
      "text/plain": [
       "69.25890143662969"
      ]
     },
     "execution_count": 9,
     "metadata": {
      "tags": []
     },
     "output_type": "execute_result"
    }
   ],
   "source": [
    "(final['Id'].size*1.0)/(filteredData['Id'].size*1.0)*100"
   ]
  },
  {
   "cell_type": "code",
   "execution_count": 10,
   "metadata": {
    "colab": {
     "base_uri": "https://localhost:8080/",
     "height": 476
    },
    "colab_type": "code",
    "id": "xJBHNeG92sgA",
    "outputId": "c980e48c-4570-40fc-eb95-260af7e6728e"
   },
   "outputs": [
    {
     "name": "stdout",
     "output_type": "stream",
     "text": [
      "            Id   ProductId          UserId                  ProfileName  \\\n",
      "138706  150524  0006641040   ACITT7DI6IDDL              shari zychinski   \n",
      "138688  150506  0006641040  A2IW4PEEKO2R0U                        Tracy   \n",
      "138689  150507  0006641040  A1S4A3IQ2MU7V4        sally sue \"sally sue\"   \n",
      "138690  150508  0006641040     AZGXZ2UUK6X  Catherine Hallberg \"(Kate)\"   \n",
      "138691  150509  0006641040  A3CMRKGE0P909G                       Teresa   \n",
      "\n",
      "        HelpfulnessNumerator  HelpfulnessDenominator     Score        Time  \\\n",
      "138706                     0                       0  positive   939340800   \n",
      "138688                     1                       1  positive  1194739200   \n",
      "138689                     1                       1  positive  1191456000   \n",
      "138690                     1                       1  positive  1076025600   \n",
      "138691                     3                       4  positive  1018396800   \n",
      "\n",
      "                                           Summary  \\\n",
      "138706                   EVERY book is educational   \n",
      "138688  Love the book, miss the hard cover version   \n",
      "138689               chicken soup with rice months   \n",
      "138690      a good swingy rhythm for reading aloud   \n",
      "138691             A great way to learn the months   \n",
      "\n",
      "                                                     Text  \n",
      "138706  this witty little book makes my son laugh at l...  \n",
      "138688  I grew up reading these Sendak books, and watc...  \n",
      "138689  This is a fun way for children to learn their ...  \n",
      "138690  This is a great little book to read aloud- it ...  \n",
      "138691  This is a book of poetry about the months of t...  \n"
     ]
    }
   ],
   "source": [
    "final=final[final.HelpfulnessNumerator<=final.HelpfulnessDenominator]\n",
    "final.shape\n",
    "print(final.head(5))"
   ]
  },
  {
   "cell_type": "code",
   "execution_count": 11,
   "metadata": {
    "colab": {
     "base_uri": "https://localhost:8080/",
     "height": 51
    },
    "colab_type": "code",
    "id": "pSJIdCSr2sgJ",
    "outputId": "4075bc2a-4c1b-4659-a408-e3d9bf0914da"
   },
   "outputs": [
    {
     "name": "stdout",
     "output_type": "stream",
     "text": [
      "[nltk_data] Downloading package stopwords to /root/nltk_data...\n",
      "[nltk_data]   Unzipping corpora/stopwords.zip.\n"
     ]
    }
   ],
   "source": [
    "import re\n",
    "# Tutorial about Python regular expressions: https://pymotw.com/2/re/\n",
    "import nltk\n",
    "nltk.download('stopwords')\n",
    "import string\n",
    "from nltk.corpus import stopwords\n",
    "from nltk.stem import PorterStemmer\n",
    "from nltk.stem.wordnet import WordNetLemmatizer\n",
    "\n",
    "stop = set(stopwords.words('english')) #set of stopwords\n",
    "sno = nltk.stem.SnowballStemmer('english') #initialising the snowball stemmer\n",
    "\n",
    "def cleanhtml(sentence): #function to clean the word of any html-tags\n",
    "    cleanr = re.compile('<.*?>')\n",
    "    cleantext = re.sub(cleanr, ' ', sentence)\n",
    "    return cleantext\n",
    "def cleanpunc(sentence): #function to clean the word of any punctuation or special characters\n",
    "    cleaned = re.sub(r'[?|!|\\'|\"|#]',r'',sentence)\n",
    "    cleaned = re.sub(r'[.|,|)|(|\\|/]',r' ',cleaned)\n",
    "    return  cleaned"
   ]
  },
  {
   "cell_type": "code",
   "execution_count": 0,
   "metadata": {
    "colab": {},
    "colab_type": "code",
    "id": "k36w85g22sgd"
   },
   "outputs": [],
   "source": [
    "i=0\n",
    "str1=' '\n",
    "final_string=[]\n",
    "all_positive_words=[] # store words from +ve reviews here\n",
    "all_negative_words=[] # store words from -ve reviews here.\n",
    "s=''\n",
    "\n",
    "for sent in final['Text'].values:\n",
    "    filtered_sentence=[]\n",
    "    #print(sent);\n",
    "    sent=cleanhtml(sent) # remove HTMl tags\n",
    "    for w in sent.split():\n",
    "        for cleaned_words in cleanpunc(w).split():\n",
    "            if((cleaned_words.isalpha()) & (len(cleaned_words)>2)):    \n",
    "                if(cleaned_words.lower() not in stop):\n",
    "                    s=(sno.stem(cleaned_words.lower())).encode('utf8')\n",
    "                    filtered_sentence.append(s)\n",
    "                    if (final['Score'].values)[i] == 'positive': \n",
    "                        all_positive_words.append(s) #list of all words used to describe positive reviews\n",
    "                    if(final['Score'].values)[i] == 'negative':\n",
    "                        all_negative_words.append(s)\n",
    "                else:\n",
    "                    continue\n",
    "            else:\n",
    "                continue\n",
    "                \n",
    "    #print(filtered_sentence)\n",
    "    str1 = b\" \".join(filtered_sentence) #final string of cleaned words\n",
    "    #print(\"***********************************************************************\")\n",
    "    \n",
    "    final_string.append(str1)\n",
    "    i+=1"
   ]
  },
  {
   "cell_type": "code",
   "execution_count": 0,
   "metadata": {
    "colab": {},
    "colab_type": "code",
    "id": "77awCirz2sgm"
   },
   "outputs": [],
   "source": [
    "final['CleanedText']=final_string"
   ]
  },
  {
   "cell_type": "code",
   "execution_count": 0,
   "metadata": {
    "colab": {},
    "colab_type": "code",
    "id": "2Q4_04lH2sgv"
   },
   "outputs": [],
   "source": [
    "final=final.sort_values(by='Time')"
   ]
  },
  {
   "cell_type": "code",
   "execution_count": 15,
   "metadata": {
    "colab": {
     "base_uri": "https://localhost:8080/",
     "height": 34
    },
    "colab_type": "code",
    "id": "wlLCuJhL2sg3",
    "outputId": "a5067a99-1391-4114-f1c6-7cf10e58cb1d"
   },
   "outputs": [
    {
     "data": {
      "text/plain": [
       "(60000, 11)"
      ]
     },
     "execution_count": 15,
     "metadata": {
      "tags": []
     },
     "output_type": "execute_result"
    }
   ],
   "source": [
    "final=final.iloc[0:60000,:]\n",
    "final.shape"
   ]
  },
  {
   "cell_type": "code",
   "execution_count": 0,
   "metadata": {
    "colab": {},
    "colab_type": "code",
    "id": "vdW4w55K2shA"
   },
   "outputs": [],
   "source": [
    "final['Score_num']=final.Score.map({'positive':1, 'negative':0})\n",
    "Y=final['Score_num']"
   ]
  },
  {
   "cell_type": "code",
   "execution_count": 0,
   "metadata": {
    "colab": {},
    "colab_type": "code",
    "id": "0A7j92s6H66Q"
   },
   "outputs": [],
   "source": [
    "lst=[\"negative\",\"positive\"]"
   ]
  },
  {
   "cell_type": "code",
   "execution_count": 0,
   "metadata": {
    "colab": {},
    "colab_type": "code",
    "id": "mb6nWfuW2shI"
   },
   "outputs": [],
   "source": [
    "X_train=final.iloc[0:45000]\n",
    "Y_train=final['Score_num'].iloc[0:45000]"
   ]
  },
  {
   "cell_type": "code",
   "execution_count": 0,
   "metadata": {
    "colab": {},
    "colab_type": "code",
    "id": "mAoMlNw52shU"
   },
   "outputs": [],
   "source": [
    "X_test=final.iloc[45001:60000]\n",
    "Y_test=final['Score_num'].iloc[45001:60000]"
   ]
  },
  {
   "cell_type": "markdown",
   "metadata": {
    "colab_type": "text",
    "id": "3ZQ98wy22vfw"
   },
   "source": [
    "# tfidF"
   ]
  },
  {
   "cell_type": "code",
   "execution_count": 0,
   "metadata": {
    "colab": {},
    "colab_type": "code",
    "id": "-IsMv5hG2shj"
   },
   "outputs": [],
   "source": [
    "count_vect = TfidfVectorizer() #in scikit-learn\n",
    "X_train_vect = count_vect.fit_transform(X_train['CleanedText'].values)"
   ]
  },
  {
   "cell_type": "code",
   "execution_count": 0,
   "metadata": {
    "colab": {},
    "colab_type": "code",
    "id": "gA9IL6Kg22Bg"
   },
   "outputs": [],
   "source": [
    "X_test_vect=count_vect.transform(X_test['CleanedText'].values)"
   ]
  },
  {
   "cell_type": "code",
   "execution_count": 0,
   "metadata": {
    "colab": {},
    "colab_type": "code",
    "id": "ZBZa61DP3Hpy"
   },
   "outputs": [],
   "source": [
    "from sklearn.preprocessing import Normalizer\n",
    "transformer_tfidf = Normalizer().fit(X_train_vect)\n",
    "X_train_vect_norm_tfidf=transformer_tfidf.transform(X_train_vect)"
   ]
  },
  {
   "cell_type": "code",
   "execution_count": 0,
   "metadata": {
    "colab": {},
    "colab_type": "code",
    "id": "19TIRlqa3If6"
   },
   "outputs": [],
   "source": [
    "X_test_vect_norm_tfidf=transformer_tfidf.transform(X_test_vect)"
   ]
  },
  {
   "cell_type": "code",
   "execution_count": 0,
   "metadata": {
    "colab": {},
    "colab_type": "code",
    "id": "Fqx7FNRL3KoA"
   },
   "outputs": [],
   "source": [
    "from sklearn.model_selection import cross_val_score\n",
    "from sklearn.metrics import accuracy_score\n",
    "from sklearn.model_selection import GridSearchCV\n",
    "from sklearn.tree import DecisionTreeClassifier\n",
    "import graphviz\n",
    "from sklearn import tree"
   ]
  },
  {
   "cell_type": "code",
   "execution_count": 25,
   "metadata": {
    "colab": {
     "base_uri": "https://localhost:8080/",
     "height": 204
    },
    "colab_type": "code",
    "id": "zt_1bo0h3RGv",
    "outputId": "17edadda-11de-4791-b1a9-ae836c35bce4"
   },
   "outputs": [
    {
     "data": {
      "text/plain": [
       "GridSearchCV(cv=5, error_score='raise-deprecating',\n",
       "       estimator=DecisionTreeClassifier(class_weight=None, criterion='gini', max_depth=None,\n",
       "            max_features=None, max_leaf_nodes=None,\n",
       "            min_impurity_decrease=0.0, min_impurity_split=None,\n",
       "            min_samples_leaf=1, min_samples_split=2,\n",
       "            min_weight_fraction_leaf=0.0, presort=False, random_state=None,\n",
       "            splitter='best'),\n",
       "       fit_params=None, iid='warn', n_jobs=None,\n",
       "       param_grid=[{'max_depth': [1, 5, 10, 50, 100, 500, 1000], 'min_samples_split': [5, 10, 100, 500]}],\n",
       "       pre_dispatch='2*n_jobs', refit=True, return_train_score='True',\n",
       "       scoring='roc_auc', verbose=0)"
      ]
     },
     "execution_count": 25,
     "metadata": {
      "tags": []
     },
     "output_type": "execute_result"
    }
   ],
   "source": [
    "tuned_parameters = [{'max_depth': [1,5,10,50,100,500,1000],'min_samples_split': [5,10,100,500]}]\n",
    "cv_scores = []\n",
    "clf = DecisionTreeClassifier(criterion='gini', splitter='best')\n",
    "model_auc_tfidf = GridSearchCV(clf,tuned_parameters, cv=5,return_train_score='True',scoring='roc_auc')\n",
    "model_auc_tfidf.fit(X_train_vect_norm_tfidf, Y_train)"
   ]
  },
  {
   "cell_type": "code",
   "execution_count": 26,
   "metadata": {
    "colab": {
     "base_uri": "https://localhost:8080/",
     "height": 153
    },
    "colab_type": "code",
    "id": "quvZuDcJMIhy",
    "outputId": "b54079c9-8ce9-437e-c4b5-f3d1fc66a51a"
   },
   "outputs": [
    {
     "name": "stdout",
     "output_type": "stream",
     "text": [
      "best estimator DecisionTreeClassifier(class_weight=None, criterion='gini', max_depth=50,\n",
      "            max_features=None, max_leaf_nodes=None,\n",
      "            min_impurity_decrease=0.0, min_impurity_split=None,\n",
      "            min_samples_leaf=1, min_samples_split=500,\n",
      "            min_weight_fraction_leaf=0.0, presort=False, random_state=None,\n",
      "            splitter='best')\n",
      "Score 0.7936884616376826\n",
      "{'max_depth': 50, 'min_samples_split': 500}\n"
     ]
    }
   ],
   "source": [
    "print(\"best estimator\",model_auc_tfidf.best_estimator_)\n",
    "print(\"Score\",model_auc_tfidf.score(X_test_vect_norm_tfidf, Y_test))\n",
    "print(model_auc_tfidf.best_params_)"
   ]
  },
  {
   "cell_type": "code",
   "execution_count": 0,
   "metadata": {
    "colab": {},
    "colab_type": "code",
    "id": "qsqcycGv3ild"
   },
   "outputs": [],
   "source": [
    "cv_auc_train = model_auc_tfidf.cv_results_['mean_train_score']\n",
    "cv_auc_cv=model_auc_tfidf.cv_results_['mean_test_score']"
   ]
  },
  {
   "cell_type": "code",
   "execution_count": 28,
   "metadata": {
    "colab": {
     "base_uri": "https://localhost:8080/",
     "height": 187
    },
    "colab_type": "code",
    "id": "Vhqw8dX5E13f",
    "outputId": "376948f9-ca74-45b3-91c1-a360fb33a6bf"
   },
   "outputs": [
    {
     "name": "stdout",
     "output_type": "stream",
     "text": [
      "[0.54496204 0.54496204 0.54496204 0.54496204 0.63675715 0.63668825\n",
      " 0.63597767 0.63434501 0.7305411  0.72986483 0.7242542  0.71953957\n",
      " 0.93795691 0.93484775 0.91624857 0.89204639 0.97888766 0.97699482\n",
      " 0.9618295  0.93895834 0.99971595 0.99867652 0.98854406 0.97333509\n",
      " 0.99971342 0.99864915 0.98853906 0.97329087]\n",
      "[0.54443571 0.54443571 0.54443571 0.54443571 0.6196661  0.61963599\n",
      " 0.620786   0.62213555 0.6857747  0.68900219 0.69859779 0.70385355\n",
      " 0.68619803 0.69670942 0.76611039 0.80093125 0.65704142 0.66683739\n",
      " 0.73550945 0.79333778 0.66390189 0.67667057 0.72056062 0.75348821\n",
      " 0.66420595 0.67911791 0.72247102 0.75409795]\n"
     ]
    }
   ],
   "source": [
    "print(cv_auc_train)\n",
    "print(cv_auc_cv)"
   ]
  },
  {
   "cell_type": "code",
   "execution_count": 0,
   "metadata": {
    "colab": {},
    "colab_type": "code",
    "id": "I6dVM861lM_4"
   },
   "outputs": [],
   "source": [
    "tuned_parameters_dict=tuned_parameters[0]\n",
    "tuned_parameters_list_depth=tuned_parameters_dict['max_depth']\n",
    "\n",
    "tuned_parameters_list_split=tuned_parameters_dict['min_samples_split']\n"
   ]
  },
  {
   "cell_type": "code",
   "execution_count": 0,
   "metadata": {
    "colab": {},
    "colab_type": "code",
    "id": "WKcyvnHxk7bC"
   },
   "outputs": [],
   "source": [
    "max_depth=[]\n",
    "min_samples_split=[]\n",
    "for data in model_auc_tfidf.cv_results_['params'] :\n",
    "  max_depth.append(data['max_depth'])    \n",
    "  min_samples_split.append(data['min_samples_split'])"
   ]
  },
  {
   "cell_type": "code",
   "execution_count": 0,
   "metadata": {
    "colab": {},
    "colab_type": "code",
    "id": "-u1M8RjFvNtF"
   },
   "outputs": [],
   "source": [
    "df_train_tfidf = pd.DataFrame(\n",
    "    {'max_depth': max_depth,\n",
    "     'min_samples_split': min_samples_split,\n",
    "     'cv_auc_train': cv_auc_train\n",
    "    })\n"
   ]
  },
  {
   "cell_type": "code",
   "execution_count": 0,
   "metadata": {
    "colab": {},
    "colab_type": "code",
    "id": "TtjoyWD7vUNw"
   },
   "outputs": [],
   "source": [
    "df_train_tfidf = df_train_tfidf.pivot(\"max_depth\", \"min_samples_split\", \"cv_auc_train\")"
   ]
  },
  {
   "cell_type": "code",
   "execution_count": 98,
   "metadata": {
    "colab": {
     "base_uri": "https://localhost:8080/",
     "height": 269
    },
    "colab_type": "code",
    "id": "U3Jn_dCyvVII",
    "outputId": "b365ccac-d1d0-492b-d0cf-c92fe66e3919"
   },
   "outputs": [
    {
     "data": {
      "image/png": "[encoded data removed]",
      "text/plain": [
       "<Figure size 432x288 with 2 Axes>"
      ]
     },
     "metadata": {
      "tags": []
     },
     "output_type": "display_data"
    }
   ],
   "source": [
    "ax = sns.heatmap(df_train_tfidf,annot=True)"
   ]
  },
  {
   "cell_type": "code",
   "execution_count": 0,
   "metadata": {
    "colab": {},
    "colab_type": "code",
    "id": "DFAyERFAv-0o"
   },
   "outputs": [],
   "source": [
    "df_cv_tfidf = pd.DataFrame(\n",
    "    {'max_depth': max_depth,\n",
    "     'min_samples_split': min_samples_split,\n",
    "     'cv_auc_cv': cv_auc_cv\n",
    "    })\n",
    "df_cv_tfidf = df_cv_tfidf.pivot(\"max_depth\", \"min_samples_split\", \"cv_auc_cv\")"
   ]
  },
  {
   "cell_type": "code",
   "execution_count": 100,
   "metadata": {
    "colab": {
     "base_uri": "https://localhost:8080/",
     "height": 283
    },
    "colab_type": "code",
    "id": "sZ-_rPtiwAKC",
    "outputId": "e8c2f6a3-a5d3-4591-8776-f0851cd913a8"
   },
   "outputs": [
    {
     "data": {
      "image/png": "[encoded data removed]",
      "text/plain": [
       "<Figure size 432x288 with 2 Axes>"
      ]
     },
     "metadata": {
      "tags": []
     },
     "output_type": "display_data"
    }
   ],
   "source": [
    "ax = sns.heatmap(df_cv_tfidf,annot=True)"
   ]
  },
  {
   "cell_type": "code",
   "execution_count": 0,
   "metadata": {
    "colab": {},
    "colab_type": "code",
    "id": "qnt3POSvH-gg"
   },
   "outputs": [],
   "source": [
    "clf_model_tfidf = DecisionTreeClassifier(criterion='gini', splitter='best',max_depth=50,min_samples_split=500)\n",
    "\n",
    "clf_model_tfidf.fit(X_train_vect_norm_tfidf, Y_train)\n",
    "\n",
    "Y_predict_tfidf=clf_model_tfidf.predict(X_test_vect_norm_tfidf)\n",
    "\n",
    "Y_prob_tfidf=clf_model_tfidf.predict_proba(X_test_vect_norm_tfidf)\n"
   ]
  },
  {
   "cell_type": "code",
   "execution_count": 0,
   "metadata": {
    "colab": {},
    "colab_type": "code",
    "id": "svVc5xFULj_x"
   },
   "outputs": [],
   "source": [
    "feature_weights_tfidf=clf_model_tfidf.feature_importances_\n"
   ]
  },
  {
   "cell_type": "code",
   "execution_count": 0,
   "metadata": {
    "colab": {},
    "colab_type": "code",
    "id": "38i5zAq3jGyn"
   },
   "outputs": [],
   "source": [
    "indices_tfidf = np.argsort(feature_weights_tfidf)[::-1][:20]"
   ]
  },
  {
   "cell_type": "code",
   "execution_count": 0,
   "metadata": {
    "colab": {},
    "colab_type": "code",
    "id": "w4boIUbom_GF"
   },
   "outputs": [],
   "source": [
    "tfidf_features = count_vect.get_feature_names()"
   ]
  },
  {
   "cell_type": "code",
   "execution_count": 42,
   "metadata": {
    "colab": {
     "base_uri": "https://localhost:8080/",
     "height": 620
    },
    "colab_type": "code",
    "id": "KvQlRUTXpDd_",
    "outputId": "e4f84e3d-1535-464a-f205-038176a0bb4e"
   },
   "outputs": [
    {
     "data": {
      "image/png": "[encoded data removed]",
      "text/plain": [
       "<Figure size 1440x720 with 1 Axes>"
      ]
     },
     "metadata": {
      "tags": []
     },
     "output_type": "display_data"
    }
   ],
   "source": [
    "plt.figure(figsize=(20,10))\n",
    "#plt.figure()\n",
    "plt.title(\"Feature Importance\")\n",
    "plt.bar(range(20), feature_weights_tfidf[indices_tfidf])\n",
    "\n",
    "# Add feature names as x-axis labels\n",
    "tfidf_features = np.array(tfidf_features)\n",
    "plt.xticks(range(20), tfidf_features[indices_tfidf])\n",
    "plt.xlabel('Feature names')\n",
    "plt.ylabel('weights')\n",
    "# Show plot\n",
    "plt.show()\n",
    "# uni_gram.get_feature_names()\n",
    "    "
   ]
  },
  {
   "cell_type": "code",
   "execution_count": 43,
   "metadata": {
    "colab": {
     "base_uri": "https://localhost:8080/",
     "height": 1032
    },
    "colab_type": "code",
    "id": "g20xMZkvAMwO",
    "outputId": "80805053-5958-42f8-c4a0-607eb0acefbb"
   },
   "outputs": [
    {
     "data": {
      "image/svg+xml": [
       "<?xml version=\"1.0\" encoding=\"UTF-8\" standalone=\"no\"?>\n",
       "<!DOCTYPE svg PUBLIC \"-//W3C//DTD SVG 1.1//EN\"\n",
       " \"http://www.w3.org/Graphics/SVG/1.1/DTD/svg11.dtd\">\n",
       "<!-- Generated by graphviz version 2.40.1 (20161225.0304)\n",
       " -->\n",
       "<!-- Title: Tree Pages: 1 -->\n",
       "<svg width=\"840pt\" height=\"758pt\"\n",
       " viewBox=\"0.00 0.00 840.00 758.00\" xmlns=\"http://www.w3.org/2000/svg\" xmlns:xlink=\"http://www.w3.org/1999/xlink\">\n",
       "<g id=\"graph0\" class=\"graph\" transform=\"scale(1 1) rotate(0) translate(4 754)\">\n",
       "<title>Tree</title>\n",
       "<polygon fill=\"#ffffff\" stroke=\"transparent\" points=\"-4,4 -4,-754 836,-754 836,4 -4,4\"/>\n",
       "<!-- 0 -->\n",
       "<g id=\"node1\" class=\"node\">\n",
       "<title>0</title>\n",
       "<polygon fill=\"none\" stroke=\"#000000\" points=\"636,-750 489,-750 489,-667 636,-667 636,-750\"/>\n",
       "<text text-anchor=\"middle\" x=\"562.5\" y=\"-734.8\" font-family=\"Times,serif\" font-size=\"14.00\" fill=\"#000000\">disappoint &lt;= 0.05</text>\n",
       "<text text-anchor=\"middle\" x=\"562.5\" y=\"-719.8\" font-family=\"Times,serif\" font-size=\"14.00\" fill=\"#000000\">gini = 0.196</text>\n",
       "<text text-anchor=\"middle\" x=\"562.5\" y=\"-704.8\" font-family=\"Times,serif\" font-size=\"14.00\" fill=\"#000000\">samples = 45000</text>\n",
       "<text text-anchor=\"middle\" x=\"562.5\" y=\"-689.8\" font-family=\"Times,serif\" font-size=\"14.00\" fill=\"#000000\">value = [4967, 40033]</text>\n",
       "<text text-anchor=\"middle\" x=\"562.5\" y=\"-674.8\" font-family=\"Times,serif\" font-size=\"14.00\" fill=\"#000000\">class = positive</text>\n",
       "</g>\n",
       "<!-- 1 -->\n",
       "<g id=\"node2\" class=\"node\">\n",
       "<title>1</title>\n",
       "<polygon fill=\"none\" stroke=\"#000000\" points=\"559,-631 412,-631 412,-548 559,-548 559,-631\"/>\n",
       "<text text-anchor=\"middle\" x=\"485.5\" y=\"-615.8\" font-family=\"Times,serif\" font-size=\"14.00\" fill=\"#000000\">worst &lt;= 0.054</text>\n",
       "<text text-anchor=\"middle\" x=\"485.5\" y=\"-600.8\" font-family=\"Times,serif\" font-size=\"14.00\" fill=\"#000000\">gini = 0.182</text>\n",
       "<text text-anchor=\"middle\" x=\"485.5\" y=\"-585.8\" font-family=\"Times,serif\" font-size=\"14.00\" fill=\"#000000\">samples = 43780</text>\n",
       "<text text-anchor=\"middle\" x=\"485.5\" y=\"-570.8\" font-family=\"Times,serif\" font-size=\"14.00\" fill=\"#000000\">value = [4438, 39342]</text>\n",
       "<text text-anchor=\"middle\" x=\"485.5\" y=\"-555.8\" font-family=\"Times,serif\" font-size=\"14.00\" fill=\"#000000\">class = positive</text>\n",
       "</g>\n",
       "<!-- 0&#45;&gt;1 -->\n",
       "<g id=\"edge1\" class=\"edge\">\n",
       "<title>0&#45;&gt;1</title>\n",
       "<path fill=\"none\" stroke=\"#000000\" d=\"M535.5691,-666.8796C529.9163,-658.1434 523.8967,-648.8404 518.0634,-639.8253\"/>\n",
       "<polygon fill=\"#000000\" stroke=\"#000000\" points=\"520.9169,-637.7924 512.5458,-631.2981 515.0399,-641.5952 520.9169,-637.7924\"/>\n",
       "<text text-anchor=\"middle\" x=\"507.3076\" y=\"-652.0431\" font-family=\"Times,serif\" font-size=\"14.00\" fill=\"#000000\">True</text>\n",
       "</g>\n",
       "<!-- 696 -->\n",
       "<g id=\"node13\" class=\"node\">\n",
       "<title>696</title>\n",
       "<polygon fill=\"none\" stroke=\"#000000\" points=\"702,-631 577,-631 577,-548 702,-548 702,-631\"/>\n",
       "<text text-anchor=\"middle\" x=\"639.5\" y=\"-615.8\" font-family=\"Times,serif\" font-size=\"14.00\" fill=\"#000000\">best &lt;= 0.009</text>\n",
       "<text text-anchor=\"middle\" x=\"639.5\" y=\"-600.8\" font-family=\"Times,serif\" font-size=\"14.00\" fill=\"#000000\">gini = 0.491</text>\n",
       "<text text-anchor=\"middle\" x=\"639.5\" y=\"-585.8\" font-family=\"Times,serif\" font-size=\"14.00\" fill=\"#000000\">samples = 1220</text>\n",
       "<text text-anchor=\"middle\" x=\"639.5\" y=\"-570.8\" font-family=\"Times,serif\" font-size=\"14.00\" fill=\"#000000\">value = [529, 691]</text>\n",
       "<text text-anchor=\"middle\" x=\"639.5\" y=\"-555.8\" font-family=\"Times,serif\" font-size=\"14.00\" fill=\"#000000\">class = positive</text>\n",
       "</g>\n",
       "<!-- 0&#45;&gt;696 -->\n",
       "<g id=\"edge12\" class=\"edge\">\n",
       "<title>0&#45;&gt;696</title>\n",
       "<path fill=\"none\" stroke=\"#000000\" d=\"M589.4309,-666.8796C595.0837,-658.1434 601.1033,-648.8404 606.9366,-639.8253\"/>\n",
       "<polygon fill=\"#000000\" stroke=\"#000000\" points=\"609.9601,-641.5952 612.4542,-631.2981 604.0831,-637.7924 609.9601,-641.5952\"/>\n",
       "<text text-anchor=\"middle\" x=\"617.6924\" y=\"-652.0431\" font-family=\"Times,serif\" font-size=\"14.00\" fill=\"#000000\">False</text>\n",
       "</g>\n",
       "<!-- 2 -->\n",
       "<g id=\"node3\" class=\"node\">\n",
       "<title>2</title>\n",
       "<polygon fill=\"none\" stroke=\"#000000\" points=\"415,-512 268,-512 268,-429 415,-429 415,-512\"/>\n",
       "<text text-anchor=\"middle\" x=\"341.5\" y=\"-496.8\" font-family=\"Times,serif\" font-size=\"14.00\" fill=\"#000000\">return &lt;= 0.078</text>\n",
       "<text text-anchor=\"middle\" x=\"341.5\" y=\"-481.8\" font-family=\"Times,serif\" font-size=\"14.00\" fill=\"#000000\">gini = 0.178</text>\n",
       "<text text-anchor=\"middle\" x=\"341.5\" y=\"-466.8\" font-family=\"Times,serif\" font-size=\"14.00\" fill=\"#000000\">samples = 43594</text>\n",
       "<text text-anchor=\"middle\" x=\"341.5\" y=\"-451.8\" font-family=\"Times,serif\" font-size=\"14.00\" fill=\"#000000\">value = [4301, 39293]</text>\n",
       "<text text-anchor=\"middle\" x=\"341.5\" y=\"-436.8\" font-family=\"Times,serif\" font-size=\"14.00\" fill=\"#000000\">class = positive</text>\n",
       "</g>\n",
       "<!-- 1&#45;&gt;2 -->\n",
       "<g id=\"edge2\" class=\"edge\">\n",
       "<title>1&#45;&gt;2</title>\n",
       "<path fill=\"none\" stroke=\"#000000\" d=\"M435.1358,-547.8796C423.8015,-538.513 411.6785,-528.4948 400.0419,-518.8784\"/>\n",
       "<polygon fill=\"#000000\" stroke=\"#000000\" points=\"402.0173,-515.9703 392.0792,-512.2981 397.5581,-521.3663 402.0173,-515.9703\"/>\n",
       "</g>\n",
       "<!-- 695 -->\n",
       "<g id=\"node12\" class=\"node\">\n",
       "<title>695</title>\n",
       "<polygon fill=\"none\" stroke=\"#000000\" points=\"550,-504.5 433,-504.5 433,-436.5 550,-436.5 550,-504.5\"/>\n",
       "<text text-anchor=\"middle\" x=\"491.5\" y=\"-489.3\" font-family=\"Times,serif\" font-size=\"14.00\" fill=\"#000000\">gini = 0.388</text>\n",
       "<text text-anchor=\"middle\" x=\"491.5\" y=\"-474.3\" font-family=\"Times,serif\" font-size=\"14.00\" fill=\"#000000\">samples = 186</text>\n",
       "<text text-anchor=\"middle\" x=\"491.5\" y=\"-459.3\" font-family=\"Times,serif\" font-size=\"14.00\" fill=\"#000000\">value = [137, 49]</text>\n",
       "<text text-anchor=\"middle\" x=\"491.5\" y=\"-444.3\" font-family=\"Times,serif\" font-size=\"14.00\" fill=\"#000000\">class = negative</text>\n",
       "</g>\n",
       "<!-- 1&#45;&gt;695 -->\n",
       "<g id=\"edge11\" class=\"edge\">\n",
       "<title>1&#45;&gt;695</title>\n",
       "<path fill=\"none\" stroke=\"#000000\" d=\"M487.5985,-547.8796C488.1363,-537.2134 488.7167,-525.7021 489.2613,-514.9015\"/>\n",
       "<polygon fill=\"#000000\" stroke=\"#000000\" points=\"492.7617,-514.9785 489.7698,-504.8149 485.7706,-514.626 492.7617,-514.9785\"/>\n",
       "</g>\n",
       "<!-- 3 -->\n",
       "<g id=\"node4\" class=\"node\">\n",
       "<title>3</title>\n",
       "<polygon fill=\"none\" stroke=\"#000000\" points=\"321,-393 174,-393 174,-310 321,-310 321,-393\"/>\n",
       "<text text-anchor=\"middle\" x=\"247.5\" y=\"-377.8\" font-family=\"Times,serif\" font-size=\"14.00\" fill=\"#000000\">terribl &lt;= 0.115</text>\n",
       "<text text-anchor=\"middle\" x=\"247.5\" y=\"-362.8\" font-family=\"Times,serif\" font-size=\"14.00\" fill=\"#000000\">gini = 0.173</text>\n",
       "<text text-anchor=\"middle\" x=\"247.5\" y=\"-347.8\" font-family=\"Times,serif\" font-size=\"14.00\" fill=\"#000000\">samples = 43265</text>\n",
       "<text text-anchor=\"middle\" x=\"247.5\" y=\"-332.8\" font-family=\"Times,serif\" font-size=\"14.00\" fill=\"#000000\">value = [4128, 39137]</text>\n",
       "<text text-anchor=\"middle\" x=\"247.5\" y=\"-317.8\" font-family=\"Times,serif\" font-size=\"14.00\" fill=\"#000000\">class = positive</text>\n",
       "</g>\n",
       "<!-- 2&#45;&gt;3 -->\n",
       "<g id=\"edge3\" class=\"edge\">\n",
       "<title>2&#45;&gt;3</title>\n",
       "<path fill=\"none\" stroke=\"#000000\" d=\"M308.6234,-428.8796C301.5803,-419.9633 294.0707,-410.4565 286.8126,-401.268\"/>\n",
       "<polygon fill=\"#000000\" stroke=\"#000000\" points=\"289.4621,-398.9757 280.517,-393.2981 283.9691,-403.3147 289.4621,-398.9757\"/>\n",
       "</g>\n",
       "<!-- 694 -->\n",
       "<g id=\"node11\" class=\"node\">\n",
       "<title>694</title>\n",
       "<polygon fill=\"none\" stroke=\"#000000\" points=\"464,-385.5 339,-385.5 339,-317.5 464,-317.5 464,-385.5\"/>\n",
       "<text text-anchor=\"middle\" x=\"401.5\" y=\"-370.3\" font-family=\"Times,serif\" font-size=\"14.00\" fill=\"#000000\">gini = 0.499</text>\n",
       "<text text-anchor=\"middle\" x=\"401.5\" y=\"-355.3\" font-family=\"Times,serif\" font-size=\"14.00\" fill=\"#000000\">samples = 329</text>\n",
       "<text text-anchor=\"middle\" x=\"401.5\" y=\"-340.3\" font-family=\"Times,serif\" font-size=\"14.00\" fill=\"#000000\">value = [173, 156]</text>\n",
       "<text text-anchor=\"middle\" x=\"401.5\" y=\"-325.3\" font-family=\"Times,serif\" font-size=\"14.00\" fill=\"#000000\">class = negative</text>\n",
       "</g>\n",
       "<!-- 2&#45;&gt;694 -->\n",
       "<g id=\"edge10\" class=\"edge\">\n",
       "<title>2&#45;&gt;694</title>\n",
       "<path fill=\"none\" stroke=\"#000000\" d=\"M362.4851,-428.8796C368.0293,-417.8835 374.0264,-405.9893 379.6169,-394.9015\"/>\n",
       "<polygon fill=\"#000000\" stroke=\"#000000\" points=\"382.8214,-396.3199 384.1984,-385.8149 376.5709,-393.1684 382.8214,-396.3199\"/>\n",
       "</g>\n",
       "<!-- 4 -->\n",
       "<g id=\"node5\" class=\"node\">\n",
       "<title>4</title>\n",
       "<polygon fill=\"none\" stroke=\"#000000\" points=\"259,-274 112,-274 112,-191 259,-191 259,-274\"/>\n",
       "<text text-anchor=\"middle\" x=\"185.5\" y=\"-258.8\" font-family=\"Times,serif\" font-size=\"14.00\" fill=\"#000000\">horribl &lt;= 0.085</text>\n",
       "<text text-anchor=\"middle\" x=\"185.5\" y=\"-243.8\" font-family=\"Times,serif\" font-size=\"14.00\" fill=\"#000000\">gini = 0.169</text>\n",
       "<text text-anchor=\"middle\" x=\"185.5\" y=\"-228.8\" font-family=\"Times,serif\" font-size=\"14.00\" fill=\"#000000\">samples = 43060</text>\n",
       "<text text-anchor=\"middle\" x=\"185.5\" y=\"-213.8\" font-family=\"Times,serif\" font-size=\"14.00\" fill=\"#000000\">value = [4001, 39059]</text>\n",
       "<text text-anchor=\"middle\" x=\"185.5\" y=\"-198.8\" font-family=\"Times,serif\" font-size=\"14.00\" fill=\"#000000\">class = positive</text>\n",
       "</g>\n",
       "<!-- 3&#45;&gt;4 -->\n",
       "<g id=\"edge4\" class=\"edge\">\n",
       "<title>3&#45;&gt;4</title>\n",
       "<path fill=\"none\" stroke=\"#000000\" d=\"M225.8154,-309.8796C221.3577,-301.3236 216.6166,-292.2238 212.0106,-283.3833\"/>\n",
       "<polygon fill=\"#000000\" stroke=\"#000000\" points=\"215.0017,-281.5494 207.2771,-274.2981 208.7938,-284.7838 215.0017,-281.5494\"/>\n",
       "</g>\n",
       "<!-- 693 -->\n",
       "<g id=\"node10\" class=\"node\">\n",
       "<title>693</title>\n",
       "<polygon fill=\"none\" stroke=\"#000000\" points=\"394,-266.5 277,-266.5 277,-198.5 394,-198.5 394,-266.5\"/>\n",
       "<text text-anchor=\"middle\" x=\"335.5\" y=\"-251.3\" font-family=\"Times,serif\" font-size=\"14.00\" fill=\"#000000\">gini = 0.471</text>\n",
       "<text text-anchor=\"middle\" x=\"335.5\" y=\"-236.3\" font-family=\"Times,serif\" font-size=\"14.00\" fill=\"#000000\">samples = 205</text>\n",
       "<text text-anchor=\"middle\" x=\"335.5\" y=\"-221.3\" font-family=\"Times,serif\" font-size=\"14.00\" fill=\"#000000\">value = [127, 78]</text>\n",
       "<text text-anchor=\"middle\" x=\"335.5\" y=\"-206.3\" font-family=\"Times,serif\" font-size=\"14.00\" fill=\"#000000\">class = negative</text>\n",
       "</g>\n",
       "<!-- 3&#45;&gt;693 -->\n",
       "<g id=\"edge9\" class=\"edge\">\n",
       "<title>3&#45;&gt;693</title>\n",
       "<path fill=\"none\" stroke=\"#000000\" d=\"M278.2781,-309.8796C286.6536,-298.5536 295.7338,-286.2748 304.1411,-274.9058\"/>\n",
       "<polygon fill=\"#000000\" stroke=\"#000000\" points=\"306.9925,-276.9364 310.1242,-266.8149 301.3643,-272.7743 306.9925,-276.9364\"/>\n",
       "</g>\n",
       "<!-- 5 -->\n",
       "<g id=\"node6\" class=\"node\">\n",
       "<title>5</title>\n",
       "<polygon fill=\"none\" stroke=\"#000000\" points=\"147,-155 0,-155 0,-72 147,-72 147,-155\"/>\n",
       "<text text-anchor=\"middle\" x=\"73.5\" y=\"-139.8\" font-family=\"Times,serif\" font-size=\"14.00\" fill=\"#000000\">great &lt;= 0.018</text>\n",
       "<text text-anchor=\"middle\" x=\"73.5\" y=\"-124.8\" font-family=\"Times,serif\" font-size=\"14.00\" fill=\"#000000\">gini = 0.165</text>\n",
       "<text text-anchor=\"middle\" x=\"73.5\" y=\"-109.8\" font-family=\"Times,serif\" font-size=\"14.00\" fill=\"#000000\">samples = 42861</text>\n",
       "<text text-anchor=\"middle\" x=\"73.5\" y=\"-94.8\" font-family=\"Times,serif\" font-size=\"14.00\" fill=\"#000000\">value = [3877, 38984]</text>\n",
       "<text text-anchor=\"middle\" x=\"73.5\" y=\"-79.8\" font-family=\"Times,serif\" font-size=\"14.00\" fill=\"#000000\">class = positive</text>\n",
       "</g>\n",
       "<!-- 4&#45;&gt;5 -->\n",
       "<g id=\"edge5\" class=\"edge\">\n",
       "<title>4&#45;&gt;5</title>\n",
       "<path fill=\"none\" stroke=\"#000000\" d=\"M146.3278,-190.8796C137.7665,-181.7832 128.6268,-172.0722 119.8168,-162.7116\"/>\n",
       "<polygon fill=\"#000000\" stroke=\"#000000\" points=\"122.2417,-160.1813 112.8394,-155.2981 117.1443,-164.9789 122.2417,-160.1813\"/>\n",
       "</g>\n",
       "<!-- 692 -->\n",
       "<g id=\"node9\" class=\"node\">\n",
       "<title>692</title>\n",
       "<polygon fill=\"none\" stroke=\"#000000\" points=\"282,-147.5 165,-147.5 165,-79.5 282,-79.5 282,-147.5\"/>\n",
       "<text text-anchor=\"middle\" x=\"223.5\" y=\"-132.3\" font-family=\"Times,serif\" font-size=\"14.00\" fill=\"#000000\">gini = 0.47</text>\n",
       "<text text-anchor=\"middle\" x=\"223.5\" y=\"-117.3\" font-family=\"Times,serif\" font-size=\"14.00\" fill=\"#000000\">samples = 199</text>\n",
       "<text text-anchor=\"middle\" x=\"223.5\" y=\"-102.3\" font-family=\"Times,serif\" font-size=\"14.00\" fill=\"#000000\">value = [124, 75]</text>\n",
       "<text text-anchor=\"middle\" x=\"223.5\" y=\"-87.3\" font-family=\"Times,serif\" font-size=\"14.00\" fill=\"#000000\">class = negative</text>\n",
       "</g>\n",
       "<!-- 4&#45;&gt;692 -->\n",
       "<g id=\"edge8\" class=\"edge\">\n",
       "<title>4&#45;&gt;692</title>\n",
       "<path fill=\"none\" stroke=\"#000000\" d=\"M198.7906,-190.8796C202.2317,-180.1034 205.9483,-168.4647 209.4279,-157.5677\"/>\n",
       "<polygon fill=\"#000000\" stroke=\"#000000\" points=\"212.8344,-158.4057 212.5423,-147.8149 206.1661,-156.2763 212.8344,-158.4057\"/>\n",
       "</g>\n",
       "<!-- 6 -->\n",
       "<g id=\"node7\" class=\"node\">\n",
       "<title>6</title>\n",
       "<polygon fill=\"none\" stroke=\"#000000\" points=\"64.5,-36 10.5,-36 10.5,0 64.5,0 64.5,-36\"/>\n",
       "<text text-anchor=\"middle\" x=\"37.5\" y=\"-14.3\" font-family=\"Times,serif\" font-size=\"14.00\" fill=\"#000000\">(...)</text>\n",
       "</g>\n",
       "<!-- 5&#45;&gt;6 -->\n",
       "<g id=\"edge6\" class=\"edge\">\n",
       "<title>5&#45;&gt;6</title>\n",
       "<path fill=\"none\" stroke=\"#000000\" d=\"M57.8146,-71.8901C54.4739,-63.0279 51.025,-53.8788 47.9386,-45.6913\"/>\n",
       "<polygon fill=\"#000000\" stroke=\"#000000\" points=\"51.1877,-44.3878 44.3853,-36.2651 44.6376,-46.8569 51.1877,-44.3878\"/>\n",
       "</g>\n",
       "<!-- 603 -->\n",
       "<g id=\"node8\" class=\"node\">\n",
       "<title>603</title>\n",
       "<polygon fill=\"none\" stroke=\"#000000\" points=\"136.5,-36 82.5,-36 82.5,0 136.5,0 136.5,-36\"/>\n",
       "<text text-anchor=\"middle\" x=\"109.5\" y=\"-14.3\" font-family=\"Times,serif\" font-size=\"14.00\" fill=\"#000000\">(...)</text>\n",
       "</g>\n",
       "<!-- 5&#45;&gt;603 -->\n",
       "<g id=\"edge7\" class=\"edge\">\n",
       "<title>5&#45;&gt;603</title>\n",
       "<path fill=\"none\" stroke=\"#000000\" d=\"M89.1854,-71.8901C92.5261,-63.0279 95.975,-53.8788 99.0614,-45.6913\"/>\n",
       "<polygon fill=\"#000000\" stroke=\"#000000\" points=\"102.3624,-46.8569 102.6147,-36.2651 95.8123,-44.3878 102.3624,-46.8569\"/>\n",
       "</g>\n",
       "<!-- 697 -->\n",
       "<g id=\"node14\" class=\"node\">\n",
       "<title>697</title>\n",
       "<polygon fill=\"none\" stroke=\"#000000\" points=\"697,-512 572,-512 572,-429 697,-429 697,-512\"/>\n",
       "<text text-anchor=\"middle\" x=\"634.5\" y=\"-496.8\" font-family=\"Times,serif\" font-size=\"14.00\" fill=\"#000000\">great &lt;= 0.028</text>\n",
       "<text text-anchor=\"middle\" x=\"634.5\" y=\"-481.8\" font-family=\"Times,serif\" font-size=\"14.00\" fill=\"#000000\">gini = 0.499</text>\n",
       "<text text-anchor=\"middle\" x=\"634.5\" y=\"-466.8\" font-family=\"Times,serif\" font-size=\"14.00\" fill=\"#000000\">samples = 1055</text>\n",
       "<text text-anchor=\"middle\" x=\"634.5\" y=\"-451.8\" font-family=\"Times,serif\" font-size=\"14.00\" fill=\"#000000\">value = [505, 550]</text>\n",
       "<text text-anchor=\"middle\" x=\"634.5\" y=\"-436.8\" font-family=\"Times,serif\" font-size=\"14.00\" fill=\"#000000\">class = positive</text>\n",
       "</g>\n",
       "<!-- 696&#45;&gt;697 -->\n",
       "<g id=\"edge13\" class=\"edge\">\n",
       "<title>696&#45;&gt;697</title>\n",
       "<path fill=\"none\" stroke=\"#000000\" d=\"M637.7512,-547.8796C637.4069,-539.6838 637.0416,-530.9891 636.6849,-522.5013\"/>\n",
       "<polygon fill=\"#000000\" stroke=\"#000000\" points=\"640.173,-522.1423 636.2562,-512.2981 633.1792,-522.4362 640.173,-522.1423\"/>\n",
       "</g>\n",
       "<!-- 718 -->\n",
       "<g id=\"node23\" class=\"node\">\n",
       "<title>718</title>\n",
       "<polygon fill=\"none\" stroke=\"#000000\" points=\"832,-504.5 715,-504.5 715,-436.5 832,-436.5 832,-504.5\"/>\n",
       "<text text-anchor=\"middle\" x=\"773.5\" y=\"-489.3\" font-family=\"Times,serif\" font-size=\"14.00\" fill=\"#000000\">gini = 0.249</text>\n",
       "<text text-anchor=\"middle\" x=\"773.5\" y=\"-474.3\" font-family=\"Times,serif\" font-size=\"14.00\" fill=\"#000000\">samples = 165</text>\n",
       "<text text-anchor=\"middle\" x=\"773.5\" y=\"-459.3\" font-family=\"Times,serif\" font-size=\"14.00\" fill=\"#000000\">value = [24, 141]</text>\n",
       "<text text-anchor=\"middle\" x=\"773.5\" y=\"-444.3\" font-family=\"Times,serif\" font-size=\"14.00\" fill=\"#000000\">class = positive</text>\n",
       "</g>\n",
       "<!-- 696&#45;&gt;718 -->\n",
       "<g id=\"edge22\" class=\"edge\">\n",
       "<title>696&#45;&gt;718</title>\n",
       "<path fill=\"none\" stroke=\"#000000\" d=\"M686.3667,-547.8796C699.6156,-536.1138 714.0224,-523.3197 727.2356,-511.5855\"/>\n",
       "<polygon fill=\"#000000\" stroke=\"#000000\" points=\"729.7065,-514.0722 734.8597,-504.8149 725.0584,-508.8381 729.7065,-514.0722\"/>\n",
       "</g>\n",
       "<!-- 698 -->\n",
       "<g id=\"node15\" class=\"node\">\n",
       "<title>698</title>\n",
       "<polygon fill=\"none\" stroke=\"#000000\" points=\"638,-393 513,-393 513,-310 638,-310 638,-393\"/>\n",
       "<text text-anchor=\"middle\" x=\"575.5\" y=\"-377.8\" font-family=\"Times,serif\" font-size=\"14.00\" fill=\"#000000\">delici &lt;= 0.022</text>\n",
       "<text text-anchor=\"middle\" x=\"575.5\" y=\"-362.8\" font-family=\"Times,serif\" font-size=\"14.00\" fill=\"#000000\">gini = 0.498</text>\n",
       "<text text-anchor=\"middle\" x=\"575.5\" y=\"-347.8\" font-family=\"Times,serif\" font-size=\"14.00\" fill=\"#000000\">samples = 879</text>\n",
       "<text text-anchor=\"middle\" x=\"575.5\" y=\"-332.8\" font-family=\"Times,serif\" font-size=\"14.00\" fill=\"#000000\">value = [466, 413]</text>\n",
       "<text text-anchor=\"middle\" x=\"575.5\" y=\"-317.8\" font-family=\"Times,serif\" font-size=\"14.00\" fill=\"#000000\">class = negative</text>\n",
       "</g>\n",
       "<!-- 697&#45;&gt;698 -->\n",
       "<g id=\"edge14\" class=\"edge\">\n",
       "<title>697&#45;&gt;698</title>\n",
       "<path fill=\"none\" stroke=\"#000000\" d=\"M613.8647,-428.8796C609.6226,-420.3236 605.111,-411.2238 600.7279,-402.3833\"/>\n",
       "<polygon fill=\"#000000\" stroke=\"#000000\" points=\"603.8012,-400.7026 596.2234,-393.2981 597.5297,-403.8121 603.8012,-400.7026\"/>\n",
       "</g>\n",
       "<!-- 717 -->\n",
       "<g id=\"node22\" class=\"node\">\n",
       "<title>717</title>\n",
       "<polygon fill=\"none\" stroke=\"#000000\" points=\"773,-385.5 656,-385.5 656,-317.5 773,-317.5 773,-385.5\"/>\n",
       "<text text-anchor=\"middle\" x=\"714.5\" y=\"-370.3\" font-family=\"Times,serif\" font-size=\"14.00\" fill=\"#000000\">gini = 0.345</text>\n",
       "<text text-anchor=\"middle\" x=\"714.5\" y=\"-355.3\" font-family=\"Times,serif\" font-size=\"14.00\" fill=\"#000000\">samples = 176</text>\n",
       "<text text-anchor=\"middle\" x=\"714.5\" y=\"-340.3\" font-family=\"Times,serif\" font-size=\"14.00\" fill=\"#000000\">value = [39, 137]</text>\n",
       "<text text-anchor=\"middle\" x=\"714.5\" y=\"-325.3\" font-family=\"Times,serif\" font-size=\"14.00\" fill=\"#000000\">class = positive</text>\n",
       "</g>\n",
       "<!-- 697&#45;&gt;717 -->\n",
       "<g id=\"edge21\" class=\"edge\">\n",
       "<title>697&#45;&gt;717</title>\n",
       "<path fill=\"none\" stroke=\"#000000\" d=\"M662.4801,-428.8796C670.0203,-417.6636 678.1887,-405.5131 685.7691,-394.2372\"/>\n",
       "<polygon fill=\"#000000\" stroke=\"#000000\" points=\"688.7566,-396.0667 691.4311,-385.8149 682.9473,-392.1612 688.7566,-396.0667\"/>\n",
       "</g>\n",
       "<!-- 699 -->\n",
       "<g id=\"node16\" class=\"node\">\n",
       "<title>699</title>\n",
       "<polygon fill=\"none\" stroke=\"#000000\" points=\"537,-274 412,-274 412,-191 537,-191 537,-274\"/>\n",
       "<text text-anchor=\"middle\" x=\"474.5\" y=\"-258.8\" font-family=\"Times,serif\" font-size=\"14.00\" fill=\"#000000\">wont &lt;= 0.068</text>\n",
       "<text text-anchor=\"middle\" x=\"474.5\" y=\"-243.8\" font-family=\"Times,serif\" font-size=\"14.00\" fill=\"#000000\">gini = 0.492</text>\n",
       "<text text-anchor=\"middle\" x=\"474.5\" y=\"-228.8\" font-family=\"Times,serif\" font-size=\"14.00\" fill=\"#000000\">samples = 812</text>\n",
       "<text text-anchor=\"middle\" x=\"474.5\" y=\"-213.8\" font-family=\"Times,serif\" font-size=\"14.00\" fill=\"#000000\">value = [457, 355]</text>\n",
       "<text text-anchor=\"middle\" x=\"474.5\" y=\"-198.8\" font-family=\"Times,serif\" font-size=\"14.00\" fill=\"#000000\">class = negative</text>\n",
       "</g>\n",
       "<!-- 698&#45;&gt;699 -->\n",
       "<g id=\"edge15\" class=\"edge\">\n",
       "<title>698&#45;&gt;699</title>\n",
       "<path fill=\"none\" stroke=\"#000000\" d=\"M540.1751,-309.8796C532.5311,-300.8733 524.3757,-291.2644 516.5039,-281.9897\"/>\n",
       "<polygon fill=\"#000000\" stroke=\"#000000\" points=\"519.1151,-279.6574 509.9757,-274.2981 513.7782,-284.1871 519.1151,-279.6574\"/>\n",
       "</g>\n",
       "<!-- 716 -->\n",
       "<g id=\"node21\" class=\"node\">\n",
       "<title>716</title>\n",
       "<polygon fill=\"none\" stroke=\"#000000\" points=\"659.5,-266.5 555.5,-266.5 555.5,-198.5 659.5,-198.5 659.5,-266.5\"/>\n",
       "<text text-anchor=\"middle\" x=\"607.5\" y=\"-251.3\" font-family=\"Times,serif\" font-size=\"14.00\" fill=\"#000000\">gini = 0.233</text>\n",
       "<text text-anchor=\"middle\" x=\"607.5\" y=\"-236.3\" font-family=\"Times,serif\" font-size=\"14.00\" fill=\"#000000\">samples = 67</text>\n",
       "<text text-anchor=\"middle\" x=\"607.5\" y=\"-221.3\" font-family=\"Times,serif\" font-size=\"14.00\" fill=\"#000000\">value = [9, 58]</text>\n",
       "<text text-anchor=\"middle\" x=\"607.5\" y=\"-206.3\" font-family=\"Times,serif\" font-size=\"14.00\" fill=\"#000000\">class = positive</text>\n",
       "</g>\n",
       "<!-- 698&#45;&gt;716 -->\n",
       "<g id=\"edge20\" class=\"edge\">\n",
       "<title>698&#45;&gt;716</title>\n",
       "<path fill=\"none\" stroke=\"#000000\" d=\"M586.692,-309.8796C589.5898,-299.1034 592.7196,-287.4647 595.6499,-276.5677\"/>\n",
       "<polygon fill=\"#000000\" stroke=\"#000000\" points=\"599.0555,-277.3808 598.2725,-266.8149 592.2956,-275.563 599.0555,-277.3808\"/>\n",
       "</g>\n",
       "<!-- 700 -->\n",
       "<g id=\"node17\" class=\"node\">\n",
       "<title>700</title>\n",
       "<polygon fill=\"none\" stroke=\"#000000\" points=\"500,-155 375,-155 375,-72 500,-72 500,-155\"/>\n",
       "<text text-anchor=\"middle\" x=\"437.5\" y=\"-139.8\" font-family=\"Times,serif\" font-size=\"14.00\" fill=\"#000000\">found &lt;= 0.052</text>\n",
       "<text text-anchor=\"middle\" x=\"437.5\" y=\"-124.8\" font-family=\"Times,serif\" font-size=\"14.00\" fill=\"#000000\">gini = 0.481</text>\n",
       "<text text-anchor=\"middle\" x=\"437.5\" y=\"-109.8\" font-family=\"Times,serif\" font-size=\"14.00\" fill=\"#000000\">samples = 726</text>\n",
       "<text text-anchor=\"middle\" x=\"437.5\" y=\"-94.8\" font-family=\"Times,serif\" font-size=\"14.00\" fill=\"#000000\">value = [434, 292]</text>\n",
       "<text text-anchor=\"middle\" x=\"437.5\" y=\"-79.8\" font-family=\"Times,serif\" font-size=\"14.00\" fill=\"#000000\">class = negative</text>\n",
       "</g>\n",
       "<!-- 699&#45;&gt;700 -->\n",
       "<g id=\"edge16\" class=\"edge\">\n",
       "<title>699&#45;&gt;700</title>\n",
       "<path fill=\"none\" stroke=\"#000000\" d=\"M461.5592,-190.8796C458.9549,-182.5037 456.1886,-173.6067 453.4946,-164.942\"/>\n",
       "<polygon fill=\"#000000\" stroke=\"#000000\" points=\"456.8073,-163.808 450.496,-155.2981 450.123,-165.8863 456.8073,-163.808\"/>\n",
       "</g>\n",
       "<!-- 715 -->\n",
       "<g id=\"node20\" class=\"node\">\n",
       "<title>715</title>\n",
       "<polygon fill=\"none\" stroke=\"#000000\" points=\"628.5,-147.5 518.5,-147.5 518.5,-79.5 628.5,-79.5 628.5,-147.5\"/>\n",
       "<text text-anchor=\"middle\" x=\"573.5\" y=\"-132.3\" font-family=\"Times,serif\" font-size=\"14.00\" fill=\"#000000\">gini = 0.392</text>\n",
       "<text text-anchor=\"middle\" x=\"573.5\" y=\"-117.3\" font-family=\"Times,serif\" font-size=\"14.00\" fill=\"#000000\">samples = 86</text>\n",
       "<text text-anchor=\"middle\" x=\"573.5\" y=\"-102.3\" font-family=\"Times,serif\" font-size=\"14.00\" fill=\"#000000\">value = [23, 63]</text>\n",
       "<text text-anchor=\"middle\" x=\"573.5\" y=\"-87.3\" font-family=\"Times,serif\" font-size=\"14.00\" fill=\"#000000\">class = positive</text>\n",
       "</g>\n",
       "<!-- 699&#45;&gt;715 -->\n",
       "<g id=\"edge19\" class=\"edge\">\n",
       "<title>699&#45;&gt;715</title>\n",
       "<path fill=\"none\" stroke=\"#000000\" d=\"M509.1254,-190.8796C518.6393,-179.4436 528.9614,-167.0363 538.4965,-155.575\"/>\n",
       "<polygon fill=\"#000000\" stroke=\"#000000\" points=\"541.2474,-157.7409 544.9523,-147.8149 535.8661,-153.264 541.2474,-157.7409\"/>\n",
       "</g>\n",
       "<!-- 701 -->\n",
       "<g id=\"node18\" class=\"node\">\n",
       "<title>701</title>\n",
       "<polygon fill=\"none\" stroke=\"#000000\" points=\"428.5,-36 374.5,-36 374.5,0 428.5,0 428.5,-36\"/>\n",
       "<text text-anchor=\"middle\" x=\"401.5\" y=\"-14.3\" font-family=\"Times,serif\" font-size=\"14.00\" fill=\"#000000\">(...)</text>\n",
       "</g>\n",
       "<!-- 700&#45;&gt;701 -->\n",
       "<g id=\"edge17\" class=\"edge\">\n",
       "<title>700&#45;&gt;701</title>\n",
       "<path fill=\"none\" stroke=\"#000000\" d=\"M421.8146,-71.8901C418.4739,-63.0279 415.025,-53.8788 411.9386,-45.6913\"/>\n",
       "<polygon fill=\"#000000\" stroke=\"#000000\" points=\"415.1877,-44.3878 408.3853,-36.2651 408.6376,-46.8569 415.1877,-44.3878\"/>\n",
       "</g>\n",
       "<!-- 714 -->\n",
       "<g id=\"node19\" class=\"node\">\n",
       "<title>714</title>\n",
       "<polygon fill=\"none\" stroke=\"#000000\" points=\"500.5,-36 446.5,-36 446.5,0 500.5,0 500.5,-36\"/>\n",
       "<text text-anchor=\"middle\" x=\"473.5\" y=\"-14.3\" font-family=\"Times,serif\" font-size=\"14.00\" fill=\"#000000\">(...)</text>\n",
       "</g>\n",
       "<!-- 700&#45;&gt;714 -->\n",
       "<g id=\"edge18\" class=\"edge\">\n",
       "<title>700&#45;&gt;714</title>\n",
       "<path fill=\"none\" stroke=\"#000000\" d=\"M453.1854,-71.8901C456.5261,-63.0279 459.975,-53.8788 463.0614,-45.6913\"/>\n",
       "<polygon fill=\"#000000\" stroke=\"#000000\" points=\"466.3624,-46.8569 466.6147,-36.2651 459.8123,-44.3878 466.3624,-46.8569\"/>\n",
       "</g>\n",
       "</g>\n",
       "</svg>\n"
      ],
      "text/plain": [
       "<graphviz.files.Source at 0x7fee431f06a0>"
      ]
     },
     "execution_count": 43,
     "metadata": {
      "tags": []
     },
     "output_type": "execute_result"
    }
   ],
   "source": [
    "import graphviz\n",
    "dot_data = tree.export_graphviz(clf_model_tfidf, out_file=None,class_names=lst,max_depth=5,feature_names=tfidf_features)\n",
    "graph = graphviz.Source(dot_data) \n",
    "#graph.render(\"final\")\n",
    "graph"
   ]
  },
  {
   "cell_type": "code",
   "execution_count": 0,
   "metadata": {
    "colab": {},
    "colab_type": "code",
    "id": "CxOSqLJiJ7X-"
   },
   "outputs": [],
   "source": [
    "fpr, tpr, thresholds = metrics.roc_curve(Y_test, Y_prob_tfidf[:,1])"
   ]
  },
  {
   "cell_type": "code",
   "execution_count": 45,
   "metadata": {
    "colab": {
     "base_uri": "https://localhost:8080/",
     "height": 34
    },
    "colab_type": "code",
    "id": "5Np3sSBZKRbA",
    "outputId": "8d572620-cc89-4839-accc-ae784862df8b"
   },
   "outputs": [
    {
     "name": "stdout",
     "output_type": "stream",
     "text": [
      "AUC 0.7933602718647819\n"
     ]
    }
   ],
   "source": [
    "print(\"AUC\",metrics.auc(fpr, tpr))"
   ]
  },
  {
   "cell_type": "code",
   "execution_count": 0,
   "metadata": {
    "colab": {},
    "colab_type": "code",
    "id": "ckQ43okJJoYO"
   },
   "outputs": [],
   "source": [
    "def plot_confusion_matrix(test_y, predict_y):\n",
    "    C = confusion_matrix(test_y, predict_y)\n",
    "    \n",
    "    A =(((C.T)/(C.sum(axis=1))).T)\n",
    "    \n",
    "    B =(C/C.sum(axis=0))\n",
    "    labels = [1,2]\n",
    "    print(\"-\"*20, \"Confusion matrix\", \"-\"*20)\n",
    "    plt.figure(figsize=(20,7))\n",
    "    sns.heatmap(C, annot=True, cmap=\"YlGnBu\", fmt=\".3f\", xticklabels=labels, yticklabels=labels)\n",
    "    plt.xlabel('Predicted Class')\n",
    "    plt.ylabel('Original Class')\n",
    "    plt.show()\n",
    "    \n",
    "    print(\"-\"*20, \"Precision matrix (Columm Sum=1)\", \"-\"*20)\n",
    "    plt.figure(figsize=(20,7))\n",
    "    sns.heatmap(B, annot=True, cmap=\"YlGnBu\", fmt=\".3f\", xticklabels=labels, yticklabels=labels)\n",
    "    plt.xlabel('Predicted Class')\n",
    "    plt.ylabel('Original Class')\n",
    "    plt.show()\n",
    "    \n",
    "    # representing B in heatmap format\n",
    "    print(\"-\"*20, \"Recall matrix (Row sum=1)\", \"-\"*20)\n",
    "    plt.figure(figsize=(20,7))\n",
    "    sns.heatmap(A, annot=True, cmap=\"YlGnBu\", fmt=\".3f\", xticklabels=labels, yticklabels=labels)\n",
    "    plt.xlabel('Predicted Class')\n",
    "    plt.ylabel('Original Class')\n",
    "    plt.show()"
   ]
  },
  {
   "cell_type": "code",
   "execution_count": 49,
   "metadata": {
    "colab": {
     "base_uri": "https://localhost:8080/",
     "height": 1345
    },
    "colab_type": "code",
    "id": "znJEJg4UJqYn",
    "outputId": "ba0993f8-60c8-4fc9-b839-b0c646ebb9b4"
   },
   "outputs": [
    {
     "name": "stdout",
     "output_type": "stream",
     "text": [
      "-------------------- Confusion matrix --------------------\n"
     ]
    },
    {
     "data": {
      "image/png": "[encoded data removed]",
      "text/plain": [
       "<Figure size 1440x504 with 2 Axes>"
      ]
     },
     "metadata": {
      "tags": []
     },
     "output_type": "display_data"
    },
    {
     "name": "stdout",
     "output_type": "stream",
     "text": [
      "-------------------- Precision matrix (Columm Sum=1) --------------------\n"
     ]
    },
    {
     "data": {
      "image/png": "[encoded data removed]",
      "text/plain": [
       "<Figure size 1440x504 with 2 Axes>"
      ]
     },
     "metadata": {
      "tags": []
     },
     "output_type": "display_data"
    },
    {
     "name": "stdout",
     "output_type": "stream",
     "text": [
      "-------------------- Recall matrix (Row sum=1) --------------------\n"
     ]
    },
    {
     "data": {
      "image/png": "[encoded data removed]",
      "text/plain": [
       "<Figure size 1440x504 with 2 Axes>"
      ]
     },
     "metadata": {
      "tags": []
     },
     "output_type": "display_data"
    }
   ],
   "source": [
    "plot_confusion_matrix(Y_test,Y_predict_tfidf)"
   ]
  },
  {
   "cell_type": "markdown",
   "metadata": {
    "colab_type": "text",
    "id": "9ymrTsY-IiLI"
   },
   "source": [
    "#BOW"
   ]
  },
  {
   "cell_type": "code",
   "execution_count": 0,
   "metadata": {
    "colab": {},
    "colab_type": "code",
    "id": "hAE6ybMPIVAa"
   },
   "outputs": [],
   "source": [
    "count_vect_bow=CountVectorizer() #in scikit-learn\n",
    "X_train_vect_bow = count_vect_bow.fit_transform(X_train['CleanedText'].values)"
   ]
  },
  {
   "cell_type": "code",
   "execution_count": 0,
   "metadata": {
    "colab": {},
    "colab_type": "code",
    "id": "SDOXlf_9IoDL"
   },
   "outputs": [],
   "source": [
    "X_test_vect_bow=count_vect_bow.transform(X_test['CleanedText'].values)"
   ]
  },
  {
   "cell_type": "code",
   "execution_count": 52,
   "metadata": {
    "colab": {
     "base_uri": "https://localhost:8080/",
     "height": 34
    },
    "colab_type": "code",
    "id": "CD_ekDZEIri-",
    "outputId": "4e391d8e-8386-4daa-9e17-07e2065042a9"
   },
   "outputs": [
    {
     "name": "stdout",
     "output_type": "stream",
     "text": [
      "Normalizer(copy=True, norm='l2')\n"
     ]
    }
   ],
   "source": [
    "from sklearn.preprocessing import Normalizer\n",
    "transformer_bow = Normalizer().fit(X_train_vect_bow)\n",
    "print(transformer_bow)\n",
    "X_train_vect_norm_bow=transformer_bow.transform(X_train_vect_bow)"
   ]
  },
  {
   "cell_type": "code",
   "execution_count": 0,
   "metadata": {
    "colab": {},
    "colab_type": "code",
    "id": "IybNI2YkIu7m"
   },
   "outputs": [],
   "source": [
    "X_test_vect_norm_bow=transformer_bow.transform(X_test_vect_bow)"
   ]
  },
  {
   "cell_type": "code",
   "execution_count": 54,
   "metadata": {
    "colab": {
     "base_uri": "https://localhost:8080/",
     "height": 204
    },
    "colab_type": "code",
    "id": "rjhfvfHbIyOZ",
    "outputId": "b061826b-68e2-434b-b771-ae5b8a2a19d0"
   },
   "outputs": [
    {
     "data": {
      "text/plain": [
       "GridSearchCV(cv=5, error_score='raise-deprecating',\n",
       "       estimator=DecisionTreeClassifier(class_weight=None, criterion='gini', max_depth=None,\n",
       "            max_features=None, max_leaf_nodes=None,\n",
       "            min_impurity_decrease=0.0, min_impurity_split=None,\n",
       "            min_samples_leaf=1, min_samples_split=2,\n",
       "            min_weight_fraction_leaf=0.0, presort=False, random_state=None,\n",
       "            splitter='best'),\n",
       "       fit_params=None, iid='warn', n_jobs=None,\n",
       "       param_grid=[{'max_depth': [1, 5, 10, 50, 100, 500, 1000], 'min_samples_split': [5, 10, 100, 500]}],\n",
       "       pre_dispatch='2*n_jobs', refit=True, return_train_score='True',\n",
       "       scoring='roc_auc', verbose=0)"
      ]
     },
     "execution_count": 54,
     "metadata": {
      "tags": []
     },
     "output_type": "execute_result"
    }
   ],
   "source": [
    "tuned_parameters = [{'max_depth': [1,5,10,50,100,500,1000],'min_samples_split': [5,10,100,500]}]\n",
    "\n",
    "clf_bow = DecisionTreeClassifier(criterion='gini', splitter='best')\n",
    "\n",
    "model_auc_bow = GridSearchCV(clf_bow,tuned_parameters, cv=5,return_train_score='True',scoring='roc_auc')\n",
    "model_auc_bow.fit(X_train_vect_norm_bow, Y_train)\n"
   ]
  },
  {
   "cell_type": "code",
   "execution_count": 55,
   "metadata": {
    "colab": {
     "base_uri": "https://localhost:8080/",
     "height": 187
    },
    "colab_type": "code",
    "id": "XatNOP2fI726",
    "outputId": "e1daa32b-2758-451e-c722-cebe233ddf83"
   },
   "outputs": [
    {
     "name": "stdout",
     "output_type": "stream",
     "text": [
      "[0.54507425 0.54507425 0.54507425 0.54507425 0.64770542 0.64761415\n",
      " 0.64703457 0.6454297  0.73910831 0.73855932 0.73342667 0.72868335\n",
      " 0.93151334 0.92842708 0.90981963 0.88184245 0.97470794 0.97292175\n",
      " 0.95699138 0.931178   0.99966287 0.99851192 0.98756368 0.9697877\n",
      " 0.99965546 0.99854587 0.98768123 0.96980976]\n",
      "[0.54454816 0.54454816 0.54454816 0.54454816 0.63285438 0.63308837\n",
      " 0.63526965 0.63556157 0.69460392 0.69864474 0.70834323 0.71226872\n",
      " 0.67104575 0.68678805 0.75595646 0.80309049 0.63855481 0.65502022\n",
      " 0.74060089 0.7973141  0.66841527 0.6788329  0.72490272 0.76015629\n",
      " 0.66943067 0.67832006 0.72896568 0.75872682]\n"
     ]
    }
   ],
   "source": [
    "cv_auc_train_bow = model_auc_bow.cv_results_['mean_train_score']\n",
    "cv_auc_cv_bow=model_auc_bow.cv_results_['mean_test_score']\n",
    "print(cv_auc_train_bow)\n",
    "print(cv_auc_cv_bow)"
   ]
  },
  {
   "cell_type": "code",
   "execution_count": 56,
   "metadata": {
    "colab": {
     "base_uri": "https://localhost:8080/",
     "height": 51
    },
    "colab_type": "code",
    "id": "lOTkRXNy2vBg",
    "outputId": "7e8784a3-a3c8-4f2c-fb9a-3d272479d1ce"
   },
   "outputs": [
    {
     "name": "stdout",
     "output_type": "stream",
     "text": [
      "Score 0.7935720293761082\n",
      "Best parameters {'max_depth': 50, 'min_samples_split': 500}\n"
     ]
    }
   ],
   "source": [
    "print(\"Score\",model_auc_bow.score(X_test_vect_norm_bow,Y_test))\n",
    "print(\"Best parameters\",model_auc_bow.best_params_)"
   ]
  },
  {
   "cell_type": "code",
   "execution_count": 0,
   "metadata": {
    "colab": {},
    "colab_type": "code",
    "id": "U_N1bD9TwSd9"
   },
   "outputs": [],
   "source": [
    "df_train_bow = pd.DataFrame(\n",
    "    {'max_depth': max_depth,\n",
    "     'min_samples_split': min_samples_split,\n",
    "     'cv_auc_train_bow': cv_auc_train_bow\n",
    "    })"
   ]
  },
  {
   "cell_type": "code",
   "execution_count": 102,
   "metadata": {
    "colab": {
     "base_uri": "https://localhost:8080/",
     "height": 279
    },
    "colab_type": "code",
    "id": "ABqAlddwwWeR",
    "outputId": "3b629b37-c03c-4b39-e3e1-03df6c59f7f5"
   },
   "outputs": [
    {
     "data": {
      "image/png": "[encoded data removed]",
      "text/plain": [
       "<Figure size 432x288 with 2 Axes>"
      ]
     },
     "metadata": {
      "tags": []
     },
     "output_type": "display_data"
    }
   ],
   "source": [
    "df_train_bow = df_train_bow.pivot(\"max_depth\", \"min_samples_split\", \"cv_auc_train_bow\")\n",
    "\n",
    "ax = sns.heatmap(df_train_bow,annot=True)"
   ]
  },
  {
   "cell_type": "code",
   "execution_count": 0,
   "metadata": {
    "colab": {},
    "colab_type": "code",
    "id": "OY9PDLIswZpW"
   },
   "outputs": [],
   "source": [
    "df_cv_bow = pd.DataFrame(\n",
    "    {'max_depth': max_depth,\n",
    "     'min_samples_split': min_samples_split,\n",
    "     'cv_auc_cv_bow': cv_auc_cv_bow\n",
    "    })\n",
    "df_cv_bow = df_cv_bow.pivot(\"max_depth\", \"min_samples_split\", \"cv_auc_cv_bow\")"
   ]
  },
  {
   "cell_type": "code",
   "execution_count": 104,
   "metadata": {
    "colab": {
     "base_uri": "https://localhost:8080/",
     "height": 281
    },
    "colab_type": "code",
    "id": "EIPLpY3lwc-J",
    "outputId": "70fdb990-9971-44ca-ccc4-9cbc746bf17b"
   },
   "outputs": [
    {
     "data": {
      "image/png": "[encoded data removed]",
      "text/plain": [
       "<Figure size 432x288 with 2 Axes>"
      ]
     },
     "metadata": {
      "tags": []
     },
     "output_type": "display_data"
    }
   ],
   "source": [
    "ax = sns.heatmap(df_cv_bow,annot=True)"
   ]
  },
  {
   "cell_type": "code",
   "execution_count": 0,
   "metadata": {
    "colab": {},
    "colab_type": "code",
    "id": "FPurqv5y5ITo"
   },
   "outputs": [],
   "source": [
    "clf_model_bow = DecisionTreeClassifier(criterion='gini', splitter='best',max_depth=50,min_samples_split=500)\n",
    "\n",
    "clf_model_bow.fit(X_train_vect_norm_bow, Y_train)\n",
    "\n",
    "Y_predict_bow=clf_model_bow.predict(X_test_vect_norm_bow)\n",
    "Y_prob_bow=clf_model_bow.predict_proba(X_test_vect_norm_bow)"
   ]
  },
  {
   "cell_type": "code",
   "execution_count": 58,
   "metadata": {
    "colab": {
     "base_uri": "https://localhost:8080/",
     "height": 34
    },
    "colab_type": "code",
    "id": "TmkHTC4yvEpU",
    "outputId": "89f5e8d0-cb14-4487-b222-252f105edf1e"
   },
   "outputs": [
    {
     "name": "stdout",
     "output_type": "stream",
     "text": [
      "AUC 0.7922252443257922\n"
     ]
    }
   ],
   "source": [
    "\n",
    "fpr, tpr, thresholds = metrics.roc_curve(Y_test, Y_prob_bow[:,1])\n",
    "print(\"AUC\",metrics.auc(fpr, tpr))"
   ]
  },
  {
   "cell_type": "code",
   "execution_count": 0,
   "metadata": {
    "colab": {},
    "colab_type": "code",
    "id": "1lR3NCOY1Qy5"
   },
   "outputs": [],
   "source": [
    "feature_weights_bow=clf_model_bow.feature_importances_\n",
    "bow_features = count_vect_bow.get_feature_names()\n",
    "\n",
    "indices_bow = np.argsort(feature_weights_bow)[::-1][:20]\n"
   ]
  },
  {
   "cell_type": "code",
   "execution_count": 61,
   "metadata": {
    "colab": {
     "base_uri": "https://localhost:8080/",
     "height": 34
    },
    "colab_type": "code",
    "id": "aST8tcI0zVVV",
    "outputId": "e46bb570-84a6-4f78-e03f-47811aa071e5"
   },
   "outputs": [
    {
     "name": "stdout",
     "output_type": "stream",
     "text": [
      "AUC 0.7922252443257922\n"
     ]
    }
   ],
   "source": [
    "fpr, tpr, thresholds = metrics.roc_curve(Y_test, Y_prob_bow[:,1])\n",
    "print(\"AUC\",metrics.auc(fpr, tpr))"
   ]
  },
  {
   "cell_type": "code",
   "execution_count": 62,
   "metadata": {
    "colab": {
     "base_uri": "https://localhost:8080/",
     "height": 620
    },
    "colab_type": "code",
    "id": "ZL_4a8ym3Pyz",
    "outputId": "fedb4c03-d54e-4a3e-e3ec-2e4a62d72283"
   },
   "outputs": [
    {
     "data": {
      "image/png": "[encoded data removed]",
      "text/plain": [
       "<Figure size 1440x720 with 1 Axes>"
      ]
     },
     "metadata": {
      "tags": []
     },
     "output_type": "display_data"
    }
   ],
   "source": [
    "plt.figure(figsize=(20,10))\n",
    "#plt.figure()\n",
    "plt.title(\"Feature Importance\")\n",
    "plt.bar(range(20), feature_weights_bow[indices_bow])\n",
    "\n",
    "# Add feature names as x-axis labels\n",
    "bow_features = np.array(bow_features)\n",
    "plt.xticks(range(20), bow_features[indices_bow])\n",
    "plt.xlabel('Feature names')\n",
    "plt.ylabel('weights')\n",
    "# Show plot\n",
    "plt.show()\n",
    "# uni_gram.get_feature_names()"
   ]
  },
  {
   "cell_type": "code",
   "execution_count": 63,
   "metadata": {
    "colab": {
     "base_uri": "https://localhost:8080/",
     "height": 1052
    },
    "colab_type": "code",
    "id": "32amhPEcI_EC",
    "outputId": "2b475e5c-6b72-42b4-e193-8ce64a347afe"
   },
   "outputs": [
    {
     "data": {
      "image/svg+xml": [
       "<?xml version=\"1.0\" encoding=\"UTF-8\" standalone=\"no\"?>\n",
       "<!DOCTYPE svg PUBLIC \"-//W3C//DTD SVG 1.1//EN\"\n",
       " \"http://www.w3.org/Graphics/SVG/1.1/DTD/svg11.dtd\">\n",
       "<!-- Generated by graphviz version 2.40.1 (20161225.0304)\n",
       " -->\n",
       "<!-- Title: Tree Pages: 1 -->\n",
       "<svg width=\"981pt\" height=\"758pt\"\n",
       " viewBox=\"0.00 0.00 981.00 758.00\" xmlns=\"http://www.w3.org/2000/svg\" xmlns:xlink=\"http://www.w3.org/1999/xlink\">\n",
       "<g id=\"graph0\" class=\"graph\" transform=\"scale(1 1) rotate(0) translate(4 754)\">\n",
       "<title>Tree</title>\n",
       "<polygon fill=\"#ffffff\" stroke=\"transparent\" points=\"-4,4 -4,-754 977,-754 977,4 -4,4\"/>\n",
       "<!-- 0 -->\n",
       "<g id=\"node1\" class=\"node\">\n",
       "<title>0</title>\n",
       "<polygon fill=\"none\" stroke=\"#000000\" points=\"779,-750 632,-750 632,-667 779,-667 779,-750\"/>\n",
       "<text text-anchor=\"middle\" x=\"705.5\" y=\"-734.8\" font-family=\"Times,serif\" font-size=\"14.00\" fill=\"#000000\">disappoint &lt;= 0.053</text>\n",
       "<text text-anchor=\"middle\" x=\"705.5\" y=\"-719.8\" font-family=\"Times,serif\" font-size=\"14.00\" fill=\"#000000\">gini = 0.196</text>\n",
       "<text text-anchor=\"middle\" x=\"705.5\" y=\"-704.8\" font-family=\"Times,serif\" font-size=\"14.00\" fill=\"#000000\">samples = 45000</text>\n",
       "<text text-anchor=\"middle\" x=\"705.5\" y=\"-689.8\" font-family=\"Times,serif\" font-size=\"14.00\" fill=\"#000000\">value = [4967, 40033]</text>\n",
       "<text text-anchor=\"middle\" x=\"705.5\" y=\"-674.8\" font-family=\"Times,serif\" font-size=\"14.00\" fill=\"#000000\">class = positive</text>\n",
       "</g>\n",
       "<!-- 1 -->\n",
       "<g id=\"node2\" class=\"node\">\n",
       "<title>1</title>\n",
       "<polygon fill=\"none\" stroke=\"#000000\" points=\"702,-631 555,-631 555,-548 702,-548 702,-631\"/>\n",
       "<text text-anchor=\"middle\" x=\"628.5\" y=\"-615.8\" font-family=\"Times,serif\" font-size=\"14.00\" fill=\"#000000\">worst &lt;= 0.111</text>\n",
       "<text text-anchor=\"middle\" x=\"628.5\" y=\"-600.8\" font-family=\"Times,serif\" font-size=\"14.00\" fill=\"#000000\">gini = 0.182</text>\n",
       "<text text-anchor=\"middle\" x=\"628.5\" y=\"-585.8\" font-family=\"Times,serif\" font-size=\"14.00\" fill=\"#000000\">samples = 43768</text>\n",
       "<text text-anchor=\"middle\" x=\"628.5\" y=\"-570.8\" font-family=\"Times,serif\" font-size=\"14.00\" fill=\"#000000\">value = [4432, 39336]</text>\n",
       "<text text-anchor=\"middle\" x=\"628.5\" y=\"-555.8\" font-family=\"Times,serif\" font-size=\"14.00\" fill=\"#000000\">class = positive</text>\n",
       "</g>\n",
       "<!-- 0&#45;&gt;1 -->\n",
       "<g id=\"edge1\" class=\"edge\">\n",
       "<title>0&#45;&gt;1</title>\n",
       "<path fill=\"none\" stroke=\"#000000\" d=\"M678.5691,-666.8796C672.9163,-658.1434 666.8967,-648.8404 661.0634,-639.8253\"/>\n",
       "<polygon fill=\"#000000\" stroke=\"#000000\" points=\"663.9169,-637.7924 655.5458,-631.2981 658.0399,-641.5952 663.9169,-637.7924\"/>\n",
       "<text text-anchor=\"middle\" x=\"650.3076\" y=\"-652.0431\" font-family=\"Times,serif\" font-size=\"14.00\" fill=\"#000000\">True</text>\n",
       "</g>\n",
       "<!-- 648 -->\n",
       "<g id=\"node17\" class=\"node\">\n",
       "<title>648</title>\n",
       "<polygon fill=\"none\" stroke=\"#000000\" points=\"845,-631 720,-631 720,-548 845,-548 845,-631\"/>\n",
       "<text text-anchor=\"middle\" x=\"782.5\" y=\"-615.8\" font-family=\"Times,serif\" font-size=\"14.00\" fill=\"#000000\">best &lt;= 0.043</text>\n",
       "<text text-anchor=\"middle\" x=\"782.5\" y=\"-600.8\" font-family=\"Times,serif\" font-size=\"14.00\" fill=\"#000000\">gini = 0.491</text>\n",
       "<text text-anchor=\"middle\" x=\"782.5\" y=\"-585.8\" font-family=\"Times,serif\" font-size=\"14.00\" fill=\"#000000\">samples = 1232</text>\n",
       "<text text-anchor=\"middle\" x=\"782.5\" y=\"-570.8\" font-family=\"Times,serif\" font-size=\"14.00\" fill=\"#000000\">value = [535, 697]</text>\n",
       "<text text-anchor=\"middle\" x=\"782.5\" y=\"-555.8\" font-family=\"Times,serif\" font-size=\"14.00\" fill=\"#000000\">class = positive</text>\n",
       "</g>\n",
       "<!-- 0&#45;&gt;648 -->\n",
       "<g id=\"edge16\" class=\"edge\">\n",
       "<title>0&#45;&gt;648</title>\n",
       "<path fill=\"none\" stroke=\"#000000\" d=\"M732.4309,-666.8796C738.0837,-658.1434 744.1033,-648.8404 749.9366,-639.8253\"/>\n",
       "<polygon fill=\"#000000\" stroke=\"#000000\" points=\"752.9601,-641.5952 755.4542,-631.2981 747.0831,-637.7924 752.9601,-641.5952\"/>\n",
       "<text text-anchor=\"middle\" x=\"760.6924\" y=\"-652.0431\" font-family=\"Times,serif\" font-size=\"14.00\" fill=\"#000000\">False</text>\n",
       "</g>\n",
       "<!-- 2 -->\n",
       "<g id=\"node3\" class=\"node\">\n",
       "<title>2</title>\n",
       "<polygon fill=\"none\" stroke=\"#000000\" points=\"560,-512 413,-512 413,-429 560,-429 560,-512\"/>\n",
       "<text text-anchor=\"middle\" x=\"486.5\" y=\"-496.8\" font-family=\"Times,serif\" font-size=\"14.00\" fill=\"#000000\">threw &lt;= 0.081</text>\n",
       "<text text-anchor=\"middle\" x=\"486.5\" y=\"-481.8\" font-family=\"Times,serif\" font-size=\"14.00\" fill=\"#000000\">gini = 0.178</text>\n",
       "<text text-anchor=\"middle\" x=\"486.5\" y=\"-466.8\" font-family=\"Times,serif\" font-size=\"14.00\" fill=\"#000000\">samples = 43643</text>\n",
       "<text text-anchor=\"middle\" x=\"486.5\" y=\"-451.8\" font-family=\"Times,serif\" font-size=\"14.00\" fill=\"#000000\">value = [4322, 39321]</text>\n",
       "<text text-anchor=\"middle\" x=\"486.5\" y=\"-436.8\" font-family=\"Times,serif\" font-size=\"14.00\" fill=\"#000000\">class = positive</text>\n",
       "</g>\n",
       "<!-- 1&#45;&gt;2 -->\n",
       "<g id=\"edge2\" class=\"edge\">\n",
       "<title>1&#45;&gt;2</title>\n",
       "<path fill=\"none\" stroke=\"#000000\" d=\"M578.8353,-547.8796C567.6584,-538.513 555.7038,-528.4948 544.2288,-518.8784\"/>\n",
       "<polygon fill=\"#000000\" stroke=\"#000000\" points=\"546.2893,-516.0386 536.3767,-512.2981 541.7931,-521.4037 546.2893,-516.0386\"/>\n",
       "</g>\n",
       "<!-- 647 -->\n",
       "<g id=\"node16\" class=\"node\">\n",
       "<title>647</title>\n",
       "<polygon fill=\"none\" stroke=\"#000000\" points=\"694.5,-504.5 578.5,-504.5 578.5,-436.5 694.5,-436.5 694.5,-504.5\"/>\n",
       "<text text-anchor=\"middle\" x=\"636.5\" y=\"-489.3\" font-family=\"Times,serif\" font-size=\"14.00\" fill=\"#000000\">gini = 0.211</text>\n",
       "<text text-anchor=\"middle\" x=\"636.5\" y=\"-474.3\" font-family=\"Times,serif\" font-size=\"14.00\" fill=\"#000000\">samples = 125</text>\n",
       "<text text-anchor=\"middle\" x=\"636.5\" y=\"-459.3\" font-family=\"Times,serif\" font-size=\"14.00\" fill=\"#000000\">value = [110, 15]</text>\n",
       "<text text-anchor=\"middle\" x=\"636.5\" y=\"-444.3\" font-family=\"Times,serif\" font-size=\"14.00\" fill=\"#000000\">class = negative</text>\n",
       "</g>\n",
       "<!-- 1&#45;&gt;647 -->\n",
       "<g id=\"edge15\" class=\"edge\">\n",
       "<title>1&#45;&gt;647</title>\n",
       "<path fill=\"none\" stroke=\"#000000\" d=\"M631.298,-547.8796C632.0151,-537.2134 632.7889,-525.7021 633.515,-514.9015\"/>\n",
       "<polygon fill=\"#000000\" stroke=\"#000000\" points=\"637.0144,-515.0272 634.1931,-504.8149 630.0301,-514.5576 637.0144,-515.0272\"/>\n",
       "</g>\n",
       "<!-- 3 -->\n",
       "<g id=\"node4\" class=\"node\">\n",
       "<title>3</title>\n",
       "<polygon fill=\"none\" stroke=\"#000000\" points=\"448,-393 301,-393 301,-310 448,-310 448,-393\"/>\n",
       "<text text-anchor=\"middle\" x=\"374.5\" y=\"-377.8\" font-family=\"Times,serif\" font-size=\"14.00\" fill=\"#000000\">great &lt;= 0.04</text>\n",
       "<text text-anchor=\"middle\" x=\"374.5\" y=\"-362.8\" font-family=\"Times,serif\" font-size=\"14.00\" fill=\"#000000\">gini = 0.175</text>\n",
       "<text text-anchor=\"middle\" x=\"374.5\" y=\"-347.8\" font-family=\"Times,serif\" font-size=\"14.00\" fill=\"#000000\">samples = 43505</text>\n",
       "<text text-anchor=\"middle\" x=\"374.5\" y=\"-332.8\" font-family=\"Times,serif\" font-size=\"14.00\" fill=\"#000000\">value = [4217, 39288]</text>\n",
       "<text text-anchor=\"middle\" x=\"374.5\" y=\"-317.8\" font-family=\"Times,serif\" font-size=\"14.00\" fill=\"#000000\">class = positive</text>\n",
       "</g>\n",
       "<!-- 2&#45;&gt;3 -->\n",
       "<g id=\"edge3\" class=\"edge\">\n",
       "<title>2&#45;&gt;3</title>\n",
       "<path fill=\"none\" stroke=\"#000000\" d=\"M447.3278,-428.8796C438.7665,-419.7832 429.6268,-410.0722 420.8168,-400.7116\"/>\n",
       "<polygon fill=\"#000000\" stroke=\"#000000\" points=\"423.2417,-398.1813 413.8394,-393.2981 418.1443,-402.9789 423.2417,-398.1813\"/>\n",
       "</g>\n",
       "<!-- 646 -->\n",
       "<g id=\"node15\" class=\"node\">\n",
       "<title>646</title>\n",
       "<polygon fill=\"none\" stroke=\"#000000\" points=\"583,-385.5 466,-385.5 466,-317.5 583,-317.5 583,-385.5\"/>\n",
       "<text text-anchor=\"middle\" x=\"524.5\" y=\"-370.3\" font-family=\"Times,serif\" font-size=\"14.00\" fill=\"#000000\">gini = 0.364</text>\n",
       "<text text-anchor=\"middle\" x=\"524.5\" y=\"-355.3\" font-family=\"Times,serif\" font-size=\"14.00\" fill=\"#000000\">samples = 138</text>\n",
       "<text text-anchor=\"middle\" x=\"524.5\" y=\"-340.3\" font-family=\"Times,serif\" font-size=\"14.00\" fill=\"#000000\">value = [105, 33]</text>\n",
       "<text text-anchor=\"middle\" x=\"524.5\" y=\"-325.3\" font-family=\"Times,serif\" font-size=\"14.00\" fill=\"#000000\">class = negative</text>\n",
       "</g>\n",
       "<!-- 2&#45;&gt;646 -->\n",
       "<g id=\"edge14\" class=\"edge\">\n",
       "<title>2&#45;&gt;646</title>\n",
       "<path fill=\"none\" stroke=\"#000000\" d=\"M499.7906,-428.8796C503.2317,-418.1034 506.9483,-406.4647 510.4279,-395.5677\"/>\n",
       "<polygon fill=\"#000000\" stroke=\"#000000\" points=\"513.8344,-396.4057 513.5423,-385.8149 507.1661,-394.2763 513.8344,-396.4057\"/>\n",
       "</g>\n",
       "<!-- 4 -->\n",
       "<g id=\"node5\" class=\"node\">\n",
       "<title>4</title>\n",
       "<polygon fill=\"none\" stroke=\"#000000\" points=\"298,-274 151,-274 151,-191 298,-191 298,-274\"/>\n",
       "<text text-anchor=\"middle\" x=\"224.5\" y=\"-258.8\" font-family=\"Times,serif\" font-size=\"14.00\" fill=\"#000000\">wast &lt;= 0.069</text>\n",
       "<text text-anchor=\"middle\" x=\"224.5\" y=\"-243.8\" font-family=\"Times,serif\" font-size=\"14.00\" fill=\"#000000\">gini = 0.209</text>\n",
       "<text text-anchor=\"middle\" x=\"224.5\" y=\"-228.8\" font-family=\"Times,serif\" font-size=\"14.00\" fill=\"#000000\">samples = 32350</text>\n",
       "<text text-anchor=\"middle\" x=\"224.5\" y=\"-213.8\" font-family=\"Times,serif\" font-size=\"14.00\" fill=\"#000000\">value = [3828, 28522]</text>\n",
       "<text text-anchor=\"middle\" x=\"224.5\" y=\"-198.8\" font-family=\"Times,serif\" font-size=\"14.00\" fill=\"#000000\">class = positive</text>\n",
       "</g>\n",
       "<!-- 3&#45;&gt;4 -->\n",
       "<g id=\"edge4\" class=\"edge\">\n",
       "<title>3&#45;&gt;4</title>\n",
       "<path fill=\"none\" stroke=\"#000000\" d=\"M322.0373,-309.8796C310.0479,-300.368 297.2113,-290.1843 284.9184,-280.432\"/>\n",
       "<polygon fill=\"#000000\" stroke=\"#000000\" points=\"286.9425,-277.5701 276.9331,-274.0969 282.5919,-283.054 286.9425,-277.5701\"/>\n",
       "</g>\n",
       "<!-- 553 -->\n",
       "<g id=\"node10\" class=\"node\">\n",
       "<title>553</title>\n",
       "<polygon fill=\"none\" stroke=\"#000000\" points=\"456.5,-274 316.5,-274 316.5,-191 456.5,-191 456.5,-274\"/>\n",
       "<text text-anchor=\"middle\" x=\"386.5\" y=\"-258.8\" font-family=\"Times,serif\" font-size=\"14.00\" fill=\"#000000\">terribl &lt;= 0.123</text>\n",
       "<text text-anchor=\"middle\" x=\"386.5\" y=\"-243.8\" font-family=\"Times,serif\" font-size=\"14.00\" fill=\"#000000\">gini = 0.067</text>\n",
       "<text text-anchor=\"middle\" x=\"386.5\" y=\"-228.8\" font-family=\"Times,serif\" font-size=\"14.00\" fill=\"#000000\">samples = 11155</text>\n",
       "<text text-anchor=\"middle\" x=\"386.5\" y=\"-213.8\" font-family=\"Times,serif\" font-size=\"14.00\" fill=\"#000000\">value = [389, 10766]</text>\n",
       "<text text-anchor=\"middle\" x=\"386.5\" y=\"-198.8\" font-family=\"Times,serif\" font-size=\"14.00\" fill=\"#000000\">class = positive</text>\n",
       "</g>\n",
       "<!-- 3&#45;&gt;553 -->\n",
       "<g id=\"edge9\" class=\"edge\">\n",
       "<title>3&#45;&gt;553</title>\n",
       "<path fill=\"none\" stroke=\"#000000\" d=\"M378.697,-309.8796C379.5235,-301.6838 380.4003,-292.9891 381.2562,-284.5013\"/>\n",
       "<polygon fill=\"#000000\" stroke=\"#000000\" points=\"384.764,-284.5988 382.2851,-274.2981 377.7993,-283.8964 384.764,-284.5988\"/>\n",
       "</g>\n",
       "<!-- 5 -->\n",
       "<g id=\"node6\" class=\"node\">\n",
       "<title>5</title>\n",
       "<polygon fill=\"none\" stroke=\"#000000\" points=\"147,-155 0,-155 0,-72 147,-72 147,-155\"/>\n",
       "<text text-anchor=\"middle\" x=\"73.5\" y=\"-139.8\" font-family=\"Times,serif\" font-size=\"14.00\" fill=\"#000000\">horribl &lt;= 0.016</text>\n",
       "<text text-anchor=\"middle\" x=\"73.5\" y=\"-124.8\" font-family=\"Times,serif\" font-size=\"14.00\" fill=\"#000000\">gini = 0.203</text>\n",
       "<text text-anchor=\"middle\" x=\"73.5\" y=\"-109.8\" font-family=\"Times,serif\" font-size=\"14.00\" fill=\"#000000\">samples = 32054</text>\n",
       "<text text-anchor=\"middle\" x=\"73.5\" y=\"-94.8\" font-family=\"Times,serif\" font-size=\"14.00\" fill=\"#000000\">value = [3666, 28388]</text>\n",
       "<text text-anchor=\"middle\" x=\"73.5\" y=\"-79.8\" font-family=\"Times,serif\" font-size=\"14.00\" fill=\"#000000\">class = positive</text>\n",
       "</g>\n",
       "<!-- 4&#45;&gt;5 -->\n",
       "<g id=\"edge5\" class=\"edge\">\n",
       "<title>4&#45;&gt;5</title>\n",
       "<path fill=\"none\" stroke=\"#000000\" d=\"M171.6875,-190.8796C159.6182,-181.368 146.6961,-171.1843 134.3212,-161.432\"/>\n",
       "<polygon fill=\"#000000\" stroke=\"#000000\" points=\"136.3032,-158.5377 126.2827,-155.0969 131.9704,-164.0356 136.3032,-158.5377\"/>\n",
       "</g>\n",
       "<!-- 552 -->\n",
       "<g id=\"node9\" class=\"node\">\n",
       "<title>552</title>\n",
       "<polygon fill=\"none\" stroke=\"#000000\" points=\"290,-147.5 165,-147.5 165,-79.5 290,-79.5 290,-147.5\"/>\n",
       "<text text-anchor=\"middle\" x=\"227.5\" y=\"-132.3\" font-family=\"Times,serif\" font-size=\"14.00\" fill=\"#000000\">gini = 0.496</text>\n",
       "<text text-anchor=\"middle\" x=\"227.5\" y=\"-117.3\" font-family=\"Times,serif\" font-size=\"14.00\" fill=\"#000000\">samples = 296</text>\n",
       "<text text-anchor=\"middle\" x=\"227.5\" y=\"-102.3\" font-family=\"Times,serif\" font-size=\"14.00\" fill=\"#000000\">value = [162, 134]</text>\n",
       "<text text-anchor=\"middle\" x=\"227.5\" y=\"-87.3\" font-family=\"Times,serif\" font-size=\"14.00\" fill=\"#000000\">class = negative</text>\n",
       "</g>\n",
       "<!-- 4&#45;&gt;552 -->\n",
       "<g id=\"edge8\" class=\"edge\">\n",
       "<title>4&#45;&gt;552</title>\n",
       "<path fill=\"none\" stroke=\"#000000\" d=\"M225.5493,-190.8796C225.8182,-180.2134 226.1084,-168.7021 226.3806,-157.9015\"/>\n",
       "<polygon fill=\"#000000\" stroke=\"#000000\" points=\"229.8817,-157.9 226.6349,-147.8149 222.8839,-157.7235 229.8817,-157.9\"/>\n",
       "</g>\n",
       "<!-- 6 -->\n",
       "<g id=\"node7\" class=\"node\">\n",
       "<title>6</title>\n",
       "<polygon fill=\"none\" stroke=\"#000000\" points=\"64.5,-36 10.5,-36 10.5,0 64.5,0 64.5,-36\"/>\n",
       "<text text-anchor=\"middle\" x=\"37.5\" y=\"-14.3\" font-family=\"Times,serif\" font-size=\"14.00\" fill=\"#000000\">(...)</text>\n",
       "</g>\n",
       "<!-- 5&#45;&gt;6 -->\n",
       "<g id=\"edge6\" class=\"edge\">\n",
       "<title>5&#45;&gt;6</title>\n",
       "<path fill=\"none\" stroke=\"#000000\" d=\"M57.8146,-71.8901C54.4739,-63.0279 51.025,-53.8788 47.9386,-45.6913\"/>\n",
       "<polygon fill=\"#000000\" stroke=\"#000000\" points=\"51.1877,-44.3878 44.3853,-36.2651 44.6376,-46.8569 51.1877,-44.3878\"/>\n",
       "</g>\n",
       "<!-- 551 -->\n",
       "<g id=\"node8\" class=\"node\">\n",
       "<title>551</title>\n",
       "<polygon fill=\"none\" stroke=\"#000000\" points=\"136.5,-36 82.5,-36 82.5,0 136.5,0 136.5,-36\"/>\n",
       "<text text-anchor=\"middle\" x=\"109.5\" y=\"-14.3\" font-family=\"Times,serif\" font-size=\"14.00\" fill=\"#000000\">(...)</text>\n",
       "</g>\n",
       "<!-- 5&#45;&gt;551 -->\n",
       "<g id=\"edge7\" class=\"edge\">\n",
       "<title>5&#45;&gt;551</title>\n",
       "<path fill=\"none\" stroke=\"#000000\" d=\"M89.1854,-71.8901C92.5261,-63.0279 95.975,-53.8788 99.0614,-45.6913\"/>\n",
       "<polygon fill=\"#000000\" stroke=\"#000000\" points=\"102.3624,-46.8569 102.6147,-36.2651 95.8123,-44.3878 102.3624,-46.8569\"/>\n",
       "</g>\n",
       "<!-- 554 -->\n",
       "<g id=\"node11\" class=\"node\">\n",
       "<title>554</title>\n",
       "<polygon fill=\"none\" stroke=\"#000000\" points=\"453.5,-155 313.5,-155 313.5,-72 453.5,-72 453.5,-155\"/>\n",
       "<text text-anchor=\"middle\" x=\"383.5\" y=\"-139.8\" font-family=\"Times,serif\" font-size=\"14.00\" fill=\"#000000\">horribl &lt;= 0.081</text>\n",
       "<text text-anchor=\"middle\" x=\"383.5\" y=\"-124.8\" font-family=\"Times,serif\" font-size=\"14.00\" fill=\"#000000\">gini = 0.065</text>\n",
       "<text text-anchor=\"middle\" x=\"383.5\" y=\"-109.8\" font-family=\"Times,serif\" font-size=\"14.00\" fill=\"#000000\">samples = 11125</text>\n",
       "<text text-anchor=\"middle\" x=\"383.5\" y=\"-94.8\" font-family=\"Times,serif\" font-size=\"14.00\" fill=\"#000000\">value = [372, 10753]</text>\n",
       "<text text-anchor=\"middle\" x=\"383.5\" y=\"-79.8\" font-family=\"Times,serif\" font-size=\"14.00\" fill=\"#000000\">class = positive</text>\n",
       "</g>\n",
       "<!-- 553&#45;&gt;554 -->\n",
       "<g id=\"edge10\" class=\"edge\">\n",
       "<title>553&#45;&gt;554</title>\n",
       "<path fill=\"none\" stroke=\"#000000\" d=\"M385.4507,-190.8796C385.2441,-182.6838 385.0249,-173.9891 384.811,-165.5013\"/>\n",
       "<polygon fill=\"#000000\" stroke=\"#000000\" points=\"388.3047,-165.2067 384.5537,-155.2981 381.307,-165.3831 388.3047,-165.2067\"/>\n",
       "</g>\n",
       "<!-- 645 -->\n",
       "<g id=\"node14\" class=\"node\">\n",
       "<title>645</title>\n",
       "<polygon fill=\"none\" stroke=\"#000000\" points=\"581.5,-147.5 471.5,-147.5 471.5,-79.5 581.5,-79.5 581.5,-147.5\"/>\n",
       "<text text-anchor=\"middle\" x=\"526.5\" y=\"-132.3\" font-family=\"Times,serif\" font-size=\"14.00\" fill=\"#000000\">gini = 0.491</text>\n",
       "<text text-anchor=\"middle\" x=\"526.5\" y=\"-117.3\" font-family=\"Times,serif\" font-size=\"14.00\" fill=\"#000000\">samples = 30</text>\n",
       "<text text-anchor=\"middle\" x=\"526.5\" y=\"-102.3\" font-family=\"Times,serif\" font-size=\"14.00\" fill=\"#000000\">value = [17, 13]</text>\n",
       "<text text-anchor=\"middle\" x=\"526.5\" y=\"-87.3\" font-family=\"Times,serif\" font-size=\"14.00\" fill=\"#000000\">class = negative</text>\n",
       "</g>\n",
       "<!-- 553&#45;&gt;645 -->\n",
       "<g id=\"edge13\" class=\"edge\">\n",
       "<title>553&#45;&gt;645</title>\n",
       "<path fill=\"none\" stroke=\"#000000\" d=\"M435.4652,-190.8796C449.3073,-179.1138 464.3592,-166.3197 478.1641,-154.5855\"/>\n",
       "<polygon fill=\"#000000\" stroke=\"#000000\" points=\"480.7769,-156.9582 486.1295,-147.8149 476.2433,-151.6247 480.7769,-156.9582\"/>\n",
       "</g>\n",
       "<!-- 555 -->\n",
       "<g id=\"node12\" class=\"node\">\n",
       "<title>555</title>\n",
       "<polygon fill=\"none\" stroke=\"#000000\" points=\"374.5,-36 320.5,-36 320.5,0 374.5,0 374.5,-36\"/>\n",
       "<text text-anchor=\"middle\" x=\"347.5\" y=\"-14.3\" font-family=\"Times,serif\" font-size=\"14.00\" fill=\"#000000\">(...)</text>\n",
       "</g>\n",
       "<!-- 554&#45;&gt;555 -->\n",
       "<g id=\"edge11\" class=\"edge\">\n",
       "<title>554&#45;&gt;555</title>\n",
       "<path fill=\"none\" stroke=\"#000000\" d=\"M367.8146,-71.8901C364.4739,-63.0279 361.025,-53.8788 357.9386,-45.6913\"/>\n",
       "<polygon fill=\"#000000\" stroke=\"#000000\" points=\"361.1877,-44.3878 354.3853,-36.2651 354.6376,-46.8569 361.1877,-44.3878\"/>\n",
       "</g>\n",
       "<!-- 644 -->\n",
       "<g id=\"node13\" class=\"node\">\n",
       "<title>644</title>\n",
       "<polygon fill=\"none\" stroke=\"#000000\" points=\"446.5,-36 392.5,-36 392.5,0 446.5,0 446.5,-36\"/>\n",
       "<text text-anchor=\"middle\" x=\"419.5\" y=\"-14.3\" font-family=\"Times,serif\" font-size=\"14.00\" fill=\"#000000\">(...)</text>\n",
       "</g>\n",
       "<!-- 554&#45;&gt;644 -->\n",
       "<g id=\"edge12\" class=\"edge\">\n",
       "<title>554&#45;&gt;644</title>\n",
       "<path fill=\"none\" stroke=\"#000000\" d=\"M399.1854,-71.8901C402.5261,-63.0279 405.975,-53.8788 409.0614,-45.6913\"/>\n",
       "<polygon fill=\"#000000\" stroke=\"#000000\" points=\"412.3624,-46.8569 412.6147,-36.2651 405.8123,-44.3878 412.3624,-46.8569\"/>\n",
       "</g>\n",
       "<!-- 649 -->\n",
       "<g id=\"node18\" class=\"node\">\n",
       "<title>649</title>\n",
       "<polygon fill=\"none\" stroke=\"#000000\" points=\"838,-512 713,-512 713,-429 838,-429 838,-512\"/>\n",
       "<text text-anchor=\"middle\" x=\"775.5\" y=\"-496.8\" font-family=\"Times,serif\" font-size=\"14.00\" fill=\"#000000\">great &lt;= 0.055</text>\n",
       "<text text-anchor=\"middle\" x=\"775.5\" y=\"-481.8\" font-family=\"Times,serif\" font-size=\"14.00\" fill=\"#000000\">gini = 0.499</text>\n",
       "<text text-anchor=\"middle\" x=\"775.5\" y=\"-466.8\" font-family=\"Times,serif\" font-size=\"14.00\" fill=\"#000000\">samples = 1066</text>\n",
       "<text text-anchor=\"middle\" x=\"775.5\" y=\"-451.8\" font-family=\"Times,serif\" font-size=\"14.00\" fill=\"#000000\">value = [510, 556]</text>\n",
       "<text text-anchor=\"middle\" x=\"775.5\" y=\"-436.8\" font-family=\"Times,serif\" font-size=\"14.00\" fill=\"#000000\">class = positive</text>\n",
       "</g>\n",
       "<!-- 648&#45;&gt;649 -->\n",
       "<g id=\"edge17\" class=\"edge\">\n",
       "<title>648&#45;&gt;649</title>\n",
       "<path fill=\"none\" stroke=\"#000000\" d=\"M780.0517,-547.8796C779.5696,-539.6838 779.0582,-530.9891 778.5589,-522.5013\"/>\n",
       "<polygon fill=\"#000000\" stroke=\"#000000\" points=\"782.04,-522.0753 777.9587,-512.2981 775.0521,-522.4864 782.04,-522.0753\"/>\n",
       "</g>\n",
       "<!-- 662 -->\n",
       "<g id=\"node27\" class=\"node\">\n",
       "<title>662</title>\n",
       "<polygon fill=\"none\" stroke=\"#000000\" points=\"973,-504.5 856,-504.5 856,-436.5 973,-436.5 973,-504.5\"/>\n",
       "<text text-anchor=\"middle\" x=\"914.5\" y=\"-489.3\" font-family=\"Times,serif\" font-size=\"14.00\" fill=\"#000000\">gini = 0.256</text>\n",
       "<text text-anchor=\"middle\" x=\"914.5\" y=\"-474.3\" font-family=\"Times,serif\" font-size=\"14.00\" fill=\"#000000\">samples = 166</text>\n",
       "<text text-anchor=\"middle\" x=\"914.5\" y=\"-459.3\" font-family=\"Times,serif\" font-size=\"14.00\" fill=\"#000000\">value = [25, 141]</text>\n",
       "<text text-anchor=\"middle\" x=\"914.5\" y=\"-444.3\" font-family=\"Times,serif\" font-size=\"14.00\" fill=\"#000000\">class = positive</text>\n",
       "</g>\n",
       "<!-- 648&#45;&gt;662 -->\n",
       "<g id=\"edge26\" class=\"edge\">\n",
       "<title>648&#45;&gt;662</title>\n",
       "<path fill=\"none\" stroke=\"#000000\" d=\"M828.6672,-547.8796C841.7183,-536.1138 855.9101,-523.3197 868.9261,-511.5855\"/>\n",
       "<polygon fill=\"#000000\" stroke=\"#000000\" points=\"871.3526,-514.1104 876.4364,-504.8149 866.6654,-508.9113 871.3526,-514.1104\"/>\n",
       "</g>\n",
       "<!-- 650 -->\n",
       "<g id=\"node19\" class=\"node\">\n",
       "<title>650</title>\n",
       "<polygon fill=\"none\" stroke=\"#000000\" points=\"801,-393 676,-393 676,-310 801,-310 801,-393\"/>\n",
       "<text text-anchor=\"middle\" x=\"738.5\" y=\"-377.8\" font-family=\"Times,serif\" font-size=\"14.00\" fill=\"#000000\">delici &lt;= 0.027</text>\n",
       "<text text-anchor=\"middle\" x=\"738.5\" y=\"-362.8\" font-family=\"Times,serif\" font-size=\"14.00\" fill=\"#000000\">gini = 0.498</text>\n",
       "<text text-anchor=\"middle\" x=\"738.5\" y=\"-347.8\" font-family=\"Times,serif\" font-size=\"14.00\" fill=\"#000000\">samples = 890</text>\n",
       "<text text-anchor=\"middle\" x=\"738.5\" y=\"-332.8\" font-family=\"Times,serif\" font-size=\"14.00\" fill=\"#000000\">value = [471, 419]</text>\n",
       "<text text-anchor=\"middle\" x=\"738.5\" y=\"-317.8\" font-family=\"Times,serif\" font-size=\"14.00\" fill=\"#000000\">class = negative</text>\n",
       "</g>\n",
       "<!-- 649&#45;&gt;650 -->\n",
       "<g id=\"edge18\" class=\"edge\">\n",
       "<title>649&#45;&gt;650</title>\n",
       "<path fill=\"none\" stroke=\"#000000\" d=\"M762.5592,-428.8796C759.9549,-420.5037 757.1886,-411.6067 754.4946,-402.942\"/>\n",
       "<polygon fill=\"#000000\" stroke=\"#000000\" points=\"757.8073,-401.808 751.496,-393.2981 751.123,-403.8863 757.8073,-401.808\"/>\n",
       "</g>\n",
       "<!-- 661 -->\n",
       "<g id=\"node26\" class=\"node\">\n",
       "<title>661</title>\n",
       "<polygon fill=\"none\" stroke=\"#000000\" points=\"936,-385.5 819,-385.5 819,-317.5 936,-317.5 936,-385.5\"/>\n",
       "<text text-anchor=\"middle\" x=\"877.5\" y=\"-370.3\" font-family=\"Times,serif\" font-size=\"14.00\" fill=\"#000000\">gini = 0.345</text>\n",
       "<text text-anchor=\"middle\" x=\"877.5\" y=\"-355.3\" font-family=\"Times,serif\" font-size=\"14.00\" fill=\"#000000\">samples = 176</text>\n",
       "<text text-anchor=\"middle\" x=\"877.5\" y=\"-340.3\" font-family=\"Times,serif\" font-size=\"14.00\" fill=\"#000000\">value = [39, 137]</text>\n",
       "<text text-anchor=\"middle\" x=\"877.5\" y=\"-325.3\" font-family=\"Times,serif\" font-size=\"14.00\" fill=\"#000000\">class = positive</text>\n",
       "</g>\n",
       "<!-- 649&#45;&gt;661 -->\n",
       "<g id=\"edge25\" class=\"edge\">\n",
       "<title>649&#45;&gt;661</title>\n",
       "<path fill=\"none\" stroke=\"#000000\" d=\"M811.1747,-428.8796C820.9769,-417.4436 831.6118,-405.0363 841.4357,-393.575\"/>\n",
       "<polygon fill=\"#000000\" stroke=\"#000000\" points=\"844.2367,-395.6853 848.0872,-385.8149 838.9218,-391.1297 844.2367,-395.6853\"/>\n",
       "</g>\n",
       "<!-- 651 -->\n",
       "<g id=\"node20\" class=\"node\">\n",
       "<title>651</title>\n",
       "<polygon fill=\"none\" stroke=\"#000000\" points=\"778,-274 653,-274 653,-191 778,-191 778,-274\"/>\n",
       "<text text-anchor=\"middle\" x=\"715.5\" y=\"-258.8\" font-family=\"Times,serif\" font-size=\"14.00\" fill=\"#000000\">wont &lt;= 0.054</text>\n",
       "<text text-anchor=\"middle\" x=\"715.5\" y=\"-243.8\" font-family=\"Times,serif\" font-size=\"14.00\" fill=\"#000000\">gini = 0.492</text>\n",
       "<text text-anchor=\"middle\" x=\"715.5\" y=\"-228.8\" font-family=\"Times,serif\" font-size=\"14.00\" fill=\"#000000\">samples = 821</text>\n",
       "<text text-anchor=\"middle\" x=\"715.5\" y=\"-213.8\" font-family=\"Times,serif\" font-size=\"14.00\" fill=\"#000000\">value = [461, 360]</text>\n",
       "<text text-anchor=\"middle\" x=\"715.5\" y=\"-198.8\" font-family=\"Times,serif\" font-size=\"14.00\" fill=\"#000000\">class = negative</text>\n",
       "</g>\n",
       "<!-- 650&#45;&gt;651 -->\n",
       "<g id=\"edge19\" class=\"edge\">\n",
       "<title>650&#45;&gt;651</title>\n",
       "<path fill=\"none\" stroke=\"#000000\" d=\"M730.4557,-309.8796C728.8543,-301.5938 727.1542,-292.798 725.4966,-284.2216\"/>\n",
       "<polygon fill=\"#000000\" stroke=\"#000000\" points=\"728.9128,-283.4522 723.5786,-274.2981 722.0399,-284.7806 728.9128,-283.4522\"/>\n",
       "</g>\n",
       "<!-- 660 -->\n",
       "<g id=\"node25\" class=\"node\">\n",
       "<title>660</title>\n",
       "<polygon fill=\"none\" stroke=\"#000000\" points=\"906.5,-266.5 796.5,-266.5 796.5,-198.5 906.5,-198.5 906.5,-266.5\"/>\n",
       "<text text-anchor=\"middle\" x=\"851.5\" y=\"-251.3\" font-family=\"Times,serif\" font-size=\"14.00\" fill=\"#000000\">gini = 0.248</text>\n",
       "<text text-anchor=\"middle\" x=\"851.5\" y=\"-236.3\" font-family=\"Times,serif\" font-size=\"14.00\" fill=\"#000000\">samples = 69</text>\n",
       "<text text-anchor=\"middle\" x=\"851.5\" y=\"-221.3\" font-family=\"Times,serif\" font-size=\"14.00\" fill=\"#000000\">value = [10, 59]</text>\n",
       "<text text-anchor=\"middle\" x=\"851.5\" y=\"-206.3\" font-family=\"Times,serif\" font-size=\"14.00\" fill=\"#000000\">class = positive</text>\n",
       "</g>\n",
       "<!-- 650&#45;&gt;660 -->\n",
       "<g id=\"edge24\" class=\"edge\">\n",
       "<title>650&#45;&gt;660</title>\n",
       "<path fill=\"none\" stroke=\"#000000\" d=\"M778.0219,-309.8796C788.9857,-298.3337 800.8897,-285.7976 811.8601,-274.2446\"/>\n",
       "<polygon fill=\"#000000\" stroke=\"#000000\" points=\"814.5673,-276.4766 818.9152,-266.8149 809.4913,-271.6564 814.5673,-276.4766\"/>\n",
       "</g>\n",
       "<!-- 652 -->\n",
       "<g id=\"node21\" class=\"node\">\n",
       "<title>652</title>\n",
       "<polygon fill=\"none\" stroke=\"#000000\" points=\"767,-155 642,-155 642,-72 767,-72 767,-155\"/>\n",
       "<text text-anchor=\"middle\" x=\"704.5\" y=\"-139.8\" font-family=\"Times,serif\" font-size=\"14.00\" fill=\"#000000\">tast &lt;= 0.153</text>\n",
       "<text text-anchor=\"middle\" x=\"704.5\" y=\"-124.8\" font-family=\"Times,serif\" font-size=\"14.00\" fill=\"#000000\">gini = 0.481</text>\n",
       "<text text-anchor=\"middle\" x=\"704.5\" y=\"-109.8\" font-family=\"Times,serif\" font-size=\"14.00\" fill=\"#000000\">samples = 729</text>\n",
       "<text text-anchor=\"middle\" x=\"704.5\" y=\"-94.8\" font-family=\"Times,serif\" font-size=\"14.00\" fill=\"#000000\">value = [436, 293]</text>\n",
       "<text text-anchor=\"middle\" x=\"704.5\" y=\"-79.8\" font-family=\"Times,serif\" font-size=\"14.00\" fill=\"#000000\">class = negative</text>\n",
       "</g>\n",
       "<!-- 651&#45;&gt;652 -->\n",
       "<g id=\"edge20\" class=\"edge\">\n",
       "<title>651&#45;&gt;652</title>\n",
       "<path fill=\"none\" stroke=\"#000000\" d=\"M711.6527,-190.8796C710.8951,-182.6838 710.0914,-173.9891 709.3068,-165.5013\"/>\n",
       "<polygon fill=\"#000000\" stroke=\"#000000\" points=\"712.7694,-164.9334 708.3637,-155.2981 705.7991,-165.5778 712.7694,-164.9334\"/>\n",
       "</g>\n",
       "<!-- 659 -->\n",
       "<g id=\"node24\" class=\"node\">\n",
       "<title>659</title>\n",
       "<polygon fill=\"none\" stroke=\"#000000\" points=\"895.5,-147.5 785.5,-147.5 785.5,-79.5 895.5,-79.5 895.5,-147.5\"/>\n",
       "<text text-anchor=\"middle\" x=\"840.5\" y=\"-132.3\" font-family=\"Times,serif\" font-size=\"14.00\" fill=\"#000000\">gini = 0.396</text>\n",
       "<text text-anchor=\"middle\" x=\"840.5\" y=\"-117.3\" font-family=\"Times,serif\" font-size=\"14.00\" fill=\"#000000\">samples = 92</text>\n",
       "<text text-anchor=\"middle\" x=\"840.5\" y=\"-102.3\" font-family=\"Times,serif\" font-size=\"14.00\" fill=\"#000000\">value = [25, 67]</text>\n",
       "<text text-anchor=\"middle\" x=\"840.5\" y=\"-87.3\" font-family=\"Times,serif\" font-size=\"14.00\" fill=\"#000000\">class = positive</text>\n",
       "</g>\n",
       "<!-- 651&#45;&gt;659 -->\n",
       "<g id=\"edge23\" class=\"edge\">\n",
       "<title>651&#45;&gt;659</title>\n",
       "<path fill=\"none\" stroke=\"#000000\" d=\"M759.2189,-190.8796C771.4625,-179.2237 784.7661,-166.5587 796.9971,-154.9148\"/>\n",
       "<polygon fill=\"#000000\" stroke=\"#000000\" points=\"799.6254,-157.245 804.4549,-147.8149 794.7988,-152.1751 799.6254,-157.245\"/>\n",
       "</g>\n",
       "<!-- 653 -->\n",
       "<g id=\"node22\" class=\"node\">\n",
       "<title>653</title>\n",
       "<polygon fill=\"none\" stroke=\"#000000\" points=\"695.5,-36 641.5,-36 641.5,0 695.5,0 695.5,-36\"/>\n",
       "<text text-anchor=\"middle\" x=\"668.5\" y=\"-14.3\" font-family=\"Times,serif\" font-size=\"14.00\" fill=\"#000000\">(...)</text>\n",
       "</g>\n",
       "<!-- 652&#45;&gt;653 -->\n",
       "<g id=\"edge21\" class=\"edge\">\n",
       "<title>652&#45;&gt;653</title>\n",
       "<path fill=\"none\" stroke=\"#000000\" d=\"M688.8146,-71.8901C685.4739,-63.0279 682.025,-53.8788 678.9386,-45.6913\"/>\n",
       "<polygon fill=\"#000000\" stroke=\"#000000\" points=\"682.1877,-44.3878 675.3853,-36.2651 675.6376,-46.8569 682.1877,-44.3878\"/>\n",
       "</g>\n",
       "<!-- 658 -->\n",
       "<g id=\"node23\" class=\"node\">\n",
       "<title>658</title>\n",
       "<polygon fill=\"none\" stroke=\"#000000\" points=\"767.5,-36 713.5,-36 713.5,0 767.5,0 767.5,-36\"/>\n",
       "<text text-anchor=\"middle\" x=\"740.5\" y=\"-14.3\" font-family=\"Times,serif\" font-size=\"14.00\" fill=\"#000000\">(...)</text>\n",
       "</g>\n",
       "<!-- 652&#45;&gt;658 -->\n",
       "<g id=\"edge22\" class=\"edge\">\n",
       "<title>652&#45;&gt;658</title>\n",
       "<path fill=\"none\" stroke=\"#000000\" d=\"M720.1854,-71.8901C723.5261,-63.0279 726.975,-53.8788 730.0614,-45.6913\"/>\n",
       "<polygon fill=\"#000000\" stroke=\"#000000\" points=\"733.3624,-46.8569 733.6147,-36.2651 726.8123,-44.3878 733.3624,-46.8569\"/>\n",
       "</g>\n",
       "</g>\n",
       "</svg>\n"
      ],
      "text/plain": [
       "<graphviz.files.Source at 0x7fee41b07c50>"
      ]
     },
     "execution_count": 63,
     "metadata": {
      "tags": []
     },
     "output_type": "execute_result"
    }
   ],
   "source": [
    "import graphviz\n",
    "dot_data = tree.export_graphviz(clf_model_bow, out_file=None,class_names=lst,max_depth=5,feature_names=bow_features)\n",
    "graph = graphviz.Source(dot_data) \n",
    "#graph.render(\"final\")\n",
    "graph"
   ]
  },
  {
   "cell_type": "code",
   "execution_count": 64,
   "metadata": {
    "colab": {
     "base_uri": "https://localhost:8080/",
     "height": 1346
    },
    "colab_type": "code",
    "id": "-zCY8IgL0sMk",
    "outputId": "213e5cc7-7d89-47cc-cd29-df77715546e2"
   },
   "outputs": [
    {
     "name": "stdout",
     "output_type": "stream",
     "text": [
      "-------------------- Confusion matrix --------------------\n"
     ]
    },
    {
     "data": {
      "image/png": "[encoded data removed]",
      "text/plain": [
       "<Figure size 1440x504 with 2 Axes>"
      ]
     },
     "metadata": {
      "tags": []
     },
     "output_type": "display_data"
    },
    {
     "name": "stdout",
     "output_type": "stream",
     "text": [
      "-------------------- Precision matrix (Columm Sum=1) --------------------\n"
     ]
    },
    {
     "data": {
      "image/png": "[encoded data removed]",
      "text/plain": [
       "<Figure size 1440x504 with 2 Axes>"
      ]
     },
     "metadata": {
      "tags": []
     },
     "output_type": "display_data"
    },
    {
     "name": "stdout",
     "output_type": "stream",
     "text": [
      "-------------------- Recall matrix (Row sum=1) --------------------\n"
     ]
    },
    {
     "data": {
      "image/png": "[encoded data removed]",
      "text/plain": [
       "<Figure size 1440x504 with 2 Axes>"
      ]
     },
     "metadata": {
      "tags": []
     },
     "output_type": "display_data"
    }
   ],
   "source": [
    "plot_confusion_matrix(Y_test,Y_predict_bow)"
   ]
  },
  {
   "cell_type": "markdown",
   "metadata": {
    "colab_type": "text",
    "id": "MgBYWu4SJHdx"
   },
   "source": [
    "# word2vec"
   ]
  },
  {
   "cell_type": "code",
   "execution_count": 0,
   "metadata": {
    "colab": {},
    "colab_type": "code",
    "id": "HAr0mVC9JUxZ"
   },
   "outputs": [],
   "source": [
    "import warnings\n",
    "warnings.filterwarnings(action='ignore', category=UserWarning, module='gensim')\n",
    "from gensim.models import Word2Vec\n",
    "from gensim.models import KeyedVectors\n",
    "import pickle"
   ]
  },
  {
   "cell_type": "code",
   "execution_count": 0,
   "metadata": {
    "colab": {},
    "colab_type": "code",
    "id": "ZGVA4spUJX4C"
   },
   "outputs": [],
   "source": [
    "final['CleanedText']=final['CleanedText'].str.decode(\"utf-8\")"
   ]
  },
  {
   "cell_type": "code",
   "execution_count": 0,
   "metadata": {
    "colab": {},
    "colab_type": "code",
    "id": "kJ_rZH-NJbeA"
   },
   "outputs": [],
   "source": [
    "X_train_word2vec=final.iloc[0:45000]\n",
    "Y_train_word2vec=final['Score_num'].iloc[0:45000]\n",
    "\n",
    "X_test_word2vec=final.iloc[45001:60000]\n",
    "Y_test_word2vec=final['Score_num'].iloc[45001:60000]"
   ]
  },
  {
   "cell_type": "code",
   "execution_count": 0,
   "metadata": {
    "colab": {},
    "colab_type": "code",
    "id": "lwy0JZuHJfeN"
   },
   "outputs": [],
   "source": [
    "list_of_sent_X_train_word2vec=[]\n",
    "list_of_sent_X_test_word2vec=[]\n",
    "\n",
    "for sent in X_train_word2vec['CleanedText'].values:\n",
    "    list_of_sent_X_train_word2vec.append(sent.split())\n",
    "    \n",
    "\n",
    "\n",
    "for sent in X_test_word2vec['CleanedText'].values:\n",
    "    list_of_sent_X_test_word2vec.append(sent.split())"
   ]
  },
  {
   "cell_type": "code",
   "execution_count": 0,
   "metadata": {
    "colab": {},
    "colab_type": "code",
    "id": "1B0vmRFwKjUp"
   },
   "outputs": [],
   "source": [
    "w2v_model=Word2Vec(list_of_sent_X_train_word2vec,min_count=5,size=50, workers=4)"
   ]
  },
  {
   "cell_type": "code",
   "execution_count": 0,
   "metadata": {
    "colab": {},
    "colab_type": "code",
    "id": "6ABj5ZL_Klnz"
   },
   "outputs": [],
   "source": [
    "sent_vectors_train = []; # the avg-w2v for each sentence/review is stored in this list\n",
    "for sent in list_of_sent_X_train_word2vec: # for each review/sentence\n",
    "    sent_vec = np.zeros(50) # as word vectors are of zero length\n",
    "    cnt_words =0; # num of words with a valid vector in the sentence/review\n",
    "    for word in sent: # for each word in a review/sentence\n",
    "        try:\n",
    "            vec = w2v_model.wv[word]\n",
    "            sent_vec += vec\n",
    "            cnt_words += 1\n",
    "        except:\n",
    "            pass\n",
    "    \n",
    "    sent_vec /= cnt_words\n",
    "    sent_vectors_train.append(sent_vec)"
   ]
  },
  {
   "cell_type": "code",
   "execution_count": 0,
   "metadata": {
    "colab": {},
    "colab_type": "code",
    "id": "dp0UBDxhKpvB"
   },
   "outputs": [],
   "source": [
    "sent_vectors_test = []; # the avg-w2v for each sentence/review is stored in this list\n",
    "for sent in list_of_sent_X_test_word2vec: # for each review/sentence\n",
    "    sent_vec = np.zeros(50) # as word vectors are of zero length\n",
    "    cnt_words =0; # num of words with a valid vector in the sentence/review\n",
    "    for word in sent: # for each word in a review/sentence\n",
    "        try:\n",
    "            vec = w2v_model.wv[word]\n",
    "            sent_vec += vec\n",
    "            cnt_words += 1\n",
    "        except:\n",
    "            pass\n",
    "    sent_vec /= cnt_words\n",
    "    sent_vectors_test.append(sent_vec)"
   ]
  },
  {
   "cell_type": "code",
   "execution_count": 0,
   "metadata": {
    "colab": {},
    "colab_type": "code",
    "id": "7pjRuCNCKtBY"
   },
   "outputs": [],
   "source": [
    "from sklearn.preprocessing import Normalizer\n",
    "transformer_word2vec = Normalizer().fit(sent_vectors_train)\n",
    "X_train_vect_norm_word2vec=transformer_word2vec.transform(sent_vectors_train)\n",
    "X_test_vect_norm_word2vec=transformer_word2vec.transform(sent_vectors_test)"
   ]
  },
  {
   "cell_type": "code",
   "execution_count": 73,
   "metadata": {
    "colab": {
     "base_uri": "https://localhost:8080/",
     "height": 68
    },
    "colab_type": "code",
    "id": "7Y7NlQhwKxcf",
    "outputId": "e4043d15-4f3d-4c3c-91bf-1886c69d2fa3"
   },
   "outputs": [
    {
     "name": "stdout",
     "output_type": "stream",
     "text": [
      "(45000, 50)\n",
      "(14999, 50)\n",
      "(45000,)\n"
     ]
    }
   ],
   "source": [
    "print(X_train_vect_norm_word2vec.shape)\n",
    "print(X_test_vect_norm_word2vec.shape)\n",
    "print(Y_train_word2vec.shape)"
   ]
  },
  {
   "cell_type": "code",
   "execution_count": 74,
   "metadata": {
    "colab": {
     "base_uri": "https://localhost:8080/",
     "height": 204
    },
    "colab_type": "code",
    "id": "6tLvNxnc4okn",
    "outputId": "429b6a91-e641-4cef-b1d8-347e49c1f95f"
   },
   "outputs": [
    {
     "data": {
      "text/plain": [
       "GridSearchCV(cv=5, error_score='raise-deprecating',\n",
       "       estimator=DecisionTreeClassifier(class_weight=None, criterion='gini', max_depth=None,\n",
       "            max_features=None, max_leaf_nodes=None,\n",
       "            min_impurity_decrease=0.0, min_impurity_split=None,\n",
       "            min_samples_leaf=1, min_samples_split=2,\n",
       "            min_weight_fraction_leaf=0.0, presort=False, random_state=None,\n",
       "            splitter='best'),\n",
       "       fit_params=None, iid='warn', n_jobs=None,\n",
       "       param_grid=[{'max_depth': [1, 5, 10, 50, 100, 500, 1000], 'min_samples_split': [5, 10, 100, 500]}],\n",
       "       pre_dispatch='2*n_jobs', refit=True, return_train_score='True',\n",
       "       scoring='roc_auc', verbose=0)"
      ]
     },
     "execution_count": 74,
     "metadata": {
      "tags": []
     },
     "output_type": "execute_result"
    }
   ],
   "source": [
    "tuned_parameters = [{'max_depth': [1,5,10,50,100,500,1000],'min_samples_split': [5,10,100,500]}]\n",
    "\n",
    "clf_word2vec = DecisionTreeClassifier(criterion='gini', splitter='best')\n",
    "\n",
    "model_auc_word2vec = GridSearchCV(clf_word2vec,tuned_parameters, cv=5,return_train_score='True',scoring='roc_auc')\n",
    "model_auc_word2vec.fit(X_train_vect_norm_word2vec, Y_train)"
   ]
  },
  {
   "cell_type": "code",
   "execution_count": 75,
   "metadata": {
    "colab": {
     "base_uri": "https://localhost:8080/",
     "height": 187
    },
    "colab_type": "code",
    "id": "BEW6ormm5GJe",
    "outputId": "9a72bd2e-8772-471e-ae0f-ba68d003859f"
   },
   "outputs": [
    {
     "name": "stdout",
     "output_type": "stream",
     "text": [
      "[0.64343132 0.64343132 0.64343132 0.64343132 0.80337314 0.80337314\n",
      " 0.80337314 0.80267455 0.89722744 0.89488309 0.87353863 0.84473233\n",
      " 0.99956732 0.99663582 0.94968346 0.88175831 0.9995438  0.99663448\n",
      " 0.949571   0.88184716 0.99955566 0.99665806 0.94962524 0.88171395\n",
      " 0.99956021 0.99666219 0.94967649 0.88167097]\n",
      "[0.64343132 0.64343132 0.64343132 0.64343132 0.80337314 0.80337314\n",
      " 0.80337314 0.80267455 0.89722744 0.89488309 0.87353863 0.84473233\n",
      " 0.99956732 0.99663582 0.94968346 0.88175831 0.9995438  0.99663448\n",
      " 0.949571   0.88184716 0.99955566 0.99665806 0.94962524 0.88171395\n",
      " 0.99956021 0.99666219 0.94967649 0.88167097]\n"
     ]
    }
   ],
   "source": [
    "cv_auc_train_word2vec = model_auc_word2vec.cv_results_['mean_train_score']\n",
    "cv_auc_cv_word2vec=model_auc_word2vec.cv_results_['mean_test_score']\n",
    "print(cv_auc_train_word2vec)\n",
    "print(cv_auc_train_word2vec)"
   ]
  },
  {
   "cell_type": "code",
   "execution_count": 76,
   "metadata": {
    "colab": {
     "base_uri": "https://localhost:8080/",
     "height": 51
    },
    "colab_type": "code",
    "id": "uVCQfcGl9tS0",
    "outputId": "f96f6fa2-6272-4494-ac64-81f7c85f9678"
   },
   "outputs": [
    {
     "name": "stdout",
     "output_type": "stream",
     "text": [
      "Score 0.7717101588371379\n",
      "Best parameters {'max_depth': 10, 'min_samples_split': 500}\n"
     ]
    }
   ],
   "source": [
    "print(\"Score\",model_auc_word2vec.score(X_test_vect_norm_word2vec,Y_test))\n",
    "print(\"Best parameters\",model_auc_word2vec.best_params_)"
   ]
  },
  {
   "cell_type": "code",
   "execution_count": 0,
   "metadata": {
    "colab": {},
    "colab_type": "code",
    "id": "wYg21V6Bw_XU"
   },
   "outputs": [],
   "source": [
    "df_train_word2vec = pd.DataFrame(\n",
    "    {'max_depth': max_depth,\n",
    "     'min_samples_split': min_samples_split,\n",
    "     'cv_auc_train_word2vec': cv_auc_train_word2vec\n",
    "    })"
   ]
  },
  {
   "cell_type": "code",
   "execution_count": 106,
   "metadata": {
    "colab": {
     "base_uri": "https://localhost:8080/",
     "height": 279
    },
    "colab_type": "code",
    "id": "3hARlRm1xEiv",
    "outputId": "aa459da3-182f-46e5-b13b-48f0ad74a248"
   },
   "outputs": [
    {
     "data": {
      "image/png": "[encoded data removed]",
      "text/plain": [
       "<Figure size 432x288 with 2 Axes>"
      ]
     },
     "metadata": {
      "tags": []
     },
     "output_type": "display_data"
    }
   ],
   "source": [
    "df_train_word2vec = df_train_word2vec.pivot(\"max_depth\", \"min_samples_split\", \"cv_auc_train_word2vec\")\n",
    "\n",
    "ax = sns.heatmap(df_train_word2vec,annot=True)"
   ]
  },
  {
   "cell_type": "code",
   "execution_count": 0,
   "metadata": {
    "colab": {},
    "colab_type": "code",
    "id": "aCq20JdZxHdp"
   },
   "outputs": [],
   "source": [
    "df_cv_word2vec = pd.DataFrame(\n",
    "    {'max_depth': max_depth,\n",
    "     'min_samples_split': min_samples_split,\n",
    "     'cv_auc_cv_word2vec': cv_auc_cv_word2vec\n",
    "    })"
   ]
  },
  {
   "cell_type": "code",
   "execution_count": 108,
   "metadata": {
    "colab": {
     "base_uri": "https://localhost:8080/",
     "height": 279
    },
    "colab_type": "code",
    "id": "Kq7FMJqfxLQd",
    "outputId": "525d111b-c8a9-4708-ec96-346882f56f84"
   },
   "outputs": [
    {
     "data": {
      "image/png": "[encoded data removed]",
      "text/plain": [
       "<Figure size 432x288 with 2 Axes>"
      ]
     },
     "metadata": {
      "tags": []
     },
     "output_type": "display_data"
    }
   ],
   "source": [
    "df_cv_word2vec = df_cv_word2vec.pivot(\"max_depth\", \"min_samples_split\", \"cv_auc_cv_word2vec\")\n",
    "\n",
    "ax = sns.heatmap(df_cv_word2vec,annot=True)"
   ]
  },
  {
   "cell_type": "code",
   "execution_count": 0,
   "metadata": {
    "colab": {},
    "colab_type": "code",
    "id": "s_GT8nVD9w48"
   },
   "outputs": [],
   "source": [
    "clf_model_word2vec = DecisionTreeClassifier(criterion='gini', splitter='best',max_depth=10,min_samples_split=500)\n",
    "\n",
    "clf_model_word2vec.fit(X_train_vect_norm_word2vec, Y_train)\n",
    "\n",
    "Y_predict_word2vec=clf_model_word2vec.predict(X_test_vect_norm_word2vec)\n",
    "Y_prob_word2vec=clf_model_word2vec.predict_proba(X_test_vect_norm_word2vec)"
   ]
  },
  {
   "cell_type": "code",
   "execution_count": 78,
   "metadata": {
    "colab": {
     "base_uri": "https://localhost:8080/",
     "height": 34
    },
    "colab_type": "code",
    "id": "VRK_UnjL_Ut5",
    "outputId": "d65f8d3a-d632-4779-8d8d-6ad9d0a805de"
   },
   "outputs": [
    {
     "name": "stdout",
     "output_type": "stream",
     "text": [
      "AUC 0.7717101588371379\n"
     ]
    }
   ],
   "source": [
    "fpr, tpr, thresholds = metrics.roc_curve(Y_test, Y_prob_word2vec[:,1])\n",
    "print(\"AUC\",metrics.auc(fpr, tpr))"
   ]
  },
  {
   "cell_type": "code",
   "execution_count": 79,
   "metadata": {
    "colab": {
     "base_uri": "https://localhost:8080/",
     "height": 1343
    },
    "colab_type": "code",
    "id": "wg7U_YvX_RYR",
    "outputId": "bf034f0c-da5d-4ec2-d0f7-c1ddd6786290"
   },
   "outputs": [
    {
     "name": "stdout",
     "output_type": "stream",
     "text": [
      "-------------------- Confusion matrix --------------------\n"
     ]
    },
    {
     "data": {
      "image/png": "[encoded data removed]",
      "text/plain": [
       "<Figure size 1440x504 with 2 Axes>"
      ]
     },
     "metadata": {
      "tags": []
     },
     "output_type": "display_data"
    },
    {
     "name": "stdout",
     "output_type": "stream",
     "text": [
      "-------------------- Precision matrix (Columm Sum=1) --------------------\n"
     ]
    },
    {
     "data": {
      "image/png": "[encoded data removed]",
      "text/plain": [
       "<Figure size 1440x504 with 2 Axes>"
      ]
     },
     "metadata": {
      "tags": []
     },
     "output_type": "display_data"
    },
    {
     "name": "stdout",
     "output_type": "stream",
     "text": [
      "-------------------- Recall matrix (Row sum=1) --------------------\n"
     ]
    },
    {
     "data": {
      "image/png": "[encoded data removed]",
      "text/plain": [
       "<Figure size 1440x504 with 2 Axes>"
      ]
     },
     "metadata": {
      "tags": []
     },
     "output_type": "display_data"
    }
   ],
   "source": [
    "plot_confusion_matrix(Y_test,Y_predict_word2vec)"
   ]
  },
  {
   "cell_type": "markdown",
   "metadata": {
    "colab_type": "text",
    "id": "v2SCnBMdK8a2"
   },
   "source": [
    "# tfidf word2vec"
   ]
  },
  {
   "cell_type": "code",
   "execution_count": 0,
   "metadata": {
    "colab": {},
    "colab_type": "code",
    "id": "3MzEZBiJK0s9"
   },
   "outputs": [],
   "source": [
    "tfidf_feat = count_vect.get_feature_names() # tfidf words/col-names\n",
    "# final_tf_idf is the sparse matrix with row= sentence, col=word and cell_val = tfidf\n",
    "\n",
    "tfidf_sent_vectors_train = []; # the tfidf-w2v for each sentence/review is stored in this list\n",
    "row=0;\n",
    "for sent in list_of_sent_X_train_word2vec: # for each review/sentence\n",
    "    sent_vec = np.zeros(50) # as word vectors are of zero length\n",
    "    weight_sum =0; # num of words with a valid vector in the sentence/review\n",
    "    for word in sent: # for each word in a review/sentence\n",
    "        try:\n",
    "            vec = w2v_model.wv[word]\n",
    "            # obtain the tf_idfidf of a word in a sentence/review\n",
    "            tf_idf = X_train_vect[row, tfidf_feat.index(word)]\n",
    "            sent_vec += (vec * tf_idf)\n",
    "            weight_sum += tf_idf\n",
    "            \n",
    "        except:\n",
    "            pass\n",
    "    try:    \n",
    "        sent_vec /= weight_sum\n",
    "    except ZeroDivisionError:\n",
    "        sent_vec=0\n",
    "        \n",
    "    tfidf_sent_vectors_train.append(sent_vec)\n",
    "    row += 1"
   ]
  },
  {
   "cell_type": "code",
   "execution_count": 0,
   "metadata": {
    "colab": {},
    "colab_type": "code",
    "id": "kJ_0ftqGLFfP"
   },
   "outputs": [],
   "source": [
    "tfidf_feat = count_vect.get_feature_names() # tfidf words/col-names\n",
    "# final_tf_idf is the sparse matrix with row= sentence, col=word and cell_val = tfidf\n",
    "\n",
    "tfidf_sent_vectors_test = []; # the tfidf-w2v for each sentence/review is stored in this list\n",
    "row=0;\n",
    "for sent in list_of_sent_X_test_word2vec: # for each review/sentence\n",
    "    sent_vec = np.zeros(50) # as word vectors are of zero length\n",
    "    weight_sum =0; # num of words with a valid vector in the sentence/review\n",
    "    for word in sent: # for each word in a review/sentence\n",
    "        try:\n",
    "            vec = w2v_model.wv[word]\n",
    "            # obtain the tf_idfidf of a word in a sentence/review\n",
    "            tf_idf = X_test_vect[row, tfidf_feat.index(word)]\n",
    "            sent_vec += (vec * tf_idf)\n",
    "            weight_sum += tf_idf\n",
    "        except:\n",
    "            pass\n",
    "    try:    \n",
    "        sent_vec /= weight_sum\n",
    "    except ZeroDivisionError:\n",
    "        sent_vec=0\n",
    "    #print(sent_vec)\n",
    "    tfidf_sent_vectors_test.append(sent_vec)\n",
    "    row += 1"
   ]
  },
  {
   "cell_type": "code",
   "execution_count": 82,
   "metadata": {
    "colab": {
     "base_uri": "https://localhost:8080/",
     "height": 34
    },
    "colab_type": "code",
    "id": "r6SJntiLLJsr",
    "outputId": "73f2758c-158a-4619-b5f1-d8e722b055d6"
   },
   "outputs": [
    {
     "name": "stdout",
     "output_type": "stream",
     "text": [
      "Normalizer(copy=True, norm='l2')\n"
     ]
    }
   ],
   "source": [
    "from sklearn.preprocessing import Normalizer\n",
    "transformer_tfidfword2vec = Normalizer().fit(tfidf_sent_vectors_train)\n",
    "print(transformer_word2vec)\n",
    "tfidf_sent_vectors_train_norm=transformer_tfidfword2vec.transform(tfidf_sent_vectors_train)\n"
   ]
  },
  {
   "cell_type": "code",
   "execution_count": 0,
   "metadata": {
    "colab": {},
    "colab_type": "code",
    "id": "OhYsNzIWLNfO"
   },
   "outputs": [],
   "source": [
    "tfidf_sent_vectors_test_norm=transformer_tfidfword2vec.transform(tfidf_sent_vectors_test)"
   ]
  },
  {
   "cell_type": "code",
   "execution_count": 84,
   "metadata": {
    "colab": {
     "base_uri": "https://localhost:8080/",
     "height": 204
    },
    "colab_type": "code",
    "id": "3A5zZiDFLPtt",
    "outputId": "6e695ccd-bd40-4da1-a0da-4a8afbeef31d"
   },
   "outputs": [
    {
     "data": {
      "text/plain": [
       "GridSearchCV(cv=5, error_score='raise-deprecating',\n",
       "       estimator=DecisionTreeClassifier(class_weight=None, criterion='gini', max_depth=None,\n",
       "            max_features=None, max_leaf_nodes=None,\n",
       "            min_impurity_decrease=0.0, min_impurity_split=None,\n",
       "            min_samples_leaf=1, min_samples_split=2,\n",
       "            min_weight_fraction_leaf=0.0, presort=False, random_state=None,\n",
       "            splitter='best'),\n",
       "       fit_params=None, iid='warn', n_jobs=None,\n",
       "       param_grid=[{'max_depth': [1, 5, 10, 50, 100, 500, 1000], 'min_samples_split': [5, 10, 100, 500]}],\n",
       "       pre_dispatch='2*n_jobs', refit=True, return_train_score='True',\n",
       "       scoring='roc_auc', verbose=0)"
      ]
     },
     "execution_count": 84,
     "metadata": {
      "tags": []
     },
     "output_type": "execute_result"
    }
   ],
   "source": [
    "tuned_parameters = [{'max_depth': [1,5,10,50,100,500,1000],'min_samples_split': [5,10,100,500]}]\n",
    "\n",
    "clf_tfidfword2vec = DecisionTreeClassifier(criterion='gini', splitter='best')\n",
    "\n",
    "clf_tfidfword2vec = GridSearchCV(clf_tfidfword2vec,tuned_parameters, cv=5,return_train_score='True',scoring='roc_auc')\n",
    "clf_tfidfword2vec.fit(tfidf_sent_vectors_train_norm, Y_train)"
   ]
  },
  {
   "cell_type": "code",
   "execution_count": 85,
   "metadata": {
    "colab": {
     "base_uri": "https://localhost:8080/",
     "height": 187
    },
    "colab_type": "code",
    "id": "2UDqOTfwEaPZ",
    "outputId": "e0d9a43e-2547-4261-e327-5eece39bb8a3"
   },
   "outputs": [
    {
     "name": "stdout",
     "output_type": "stream",
     "text": [
      "[0.6342033  0.6342033  0.6342033  0.6342033  0.77286285 0.77286285\n",
      " 0.7728192  0.77182396 0.87417759 0.87157041 0.85145384 0.82346345\n",
      " 0.99946535 0.99608124 0.94376473 0.869699   0.9994603  0.99608332\n",
      " 0.94379231 0.86956732 0.99945685 0.99611999 0.94380515 0.86962434\n",
      " 0.99946592 0.99611232 0.94384062 0.86943573]\n",
      "[0.6342033  0.6342033  0.6342033  0.6342033  0.77286285 0.77286285\n",
      " 0.7728192  0.77182396 0.87417759 0.87157041 0.85145384 0.82346345\n",
      " 0.99946535 0.99608124 0.94376473 0.869699   0.9994603  0.99608332\n",
      " 0.94379231 0.86956732 0.99945685 0.99611999 0.94380515 0.86962434\n",
      " 0.99946592 0.99611232 0.94384062 0.86943573]\n"
     ]
    }
   ],
   "source": [
    "cv_auc_train_tfidfword2vec = clf_tfidfword2vec.cv_results_['mean_train_score']\n",
    "cv_auc_cv_tfidfword2vec=clf_tfidfword2vec.cv_results_['mean_test_score']\n",
    "print(cv_auc_train_tfidfword2vec)\n",
    "print(cv_auc_train_tfidfword2vec)"
   ]
  },
  {
   "cell_type": "code",
   "execution_count": 86,
   "metadata": {
    "colab": {
     "base_uri": "https://localhost:8080/",
     "height": 51
    },
    "colab_type": "code",
    "id": "rLLVVU_cEfKa",
    "outputId": "ccb9065d-b60c-4434-cdb9-bee6dc7476ce"
   },
   "outputs": [
    {
     "name": "stdout",
     "output_type": "stream",
     "text": [
      "Score 0.7346055079273004\n",
      "Best parameters {'max_depth': 10, 'min_samples_split': 500}\n"
     ]
    }
   ],
   "source": [
    "print(\"Score\",model_auc_word2vec.score(tfidf_sent_vectors_test_norm,Y_test))\n",
    "print(\"Best parameters\",model_auc_word2vec.best_params_)"
   ]
  },
  {
   "cell_type": "code",
   "execution_count": 0,
   "metadata": {
    "colab": {},
    "colab_type": "code",
    "id": "LI1pd-qFyglq"
   },
   "outputs": [],
   "source": [
    "df_train_tfidfword2vec = pd.DataFrame(\n",
    "    {'max_depth': max_depth,\n",
    "     'min_samples_split': min_samples_split,\n",
    "     'cv_auc_train_tfidfword2vec': cv_auc_train_tfidfword2vec\n",
    "    })"
   ]
  },
  {
   "cell_type": "code",
   "execution_count": 110,
   "metadata": {
    "colab": {
     "base_uri": "https://localhost:8080/",
     "height": 279
    },
    "colab_type": "code",
    "id": "FU3pnrHRyliT",
    "outputId": "17ba90e8-9ef3-40c7-9403-b2944dd2b087"
   },
   "outputs": [
    {
     "data": {
      "image/png": "[encoded data removed]",
      "text/plain": [
       "<Figure size 432x288 with 2 Axes>"
      ]
     },
     "metadata": {
      "tags": []
     },
     "output_type": "display_data"
    }
   ],
   "source": [
    "df_train_tfidfword2vec = df_train_tfidfword2vec.pivot('max_depth','min_samples_split','cv_auc_train_tfidfword2vec')\n",
    "\n",
    "ax = sns.heatmap(df_train_tfidfword2vec,annot=True)"
   ]
  },
  {
   "cell_type": "code",
   "execution_count": 0,
   "metadata": {
    "colab": {},
    "colab_type": "code",
    "id": "rI4zXTIfyopc"
   },
   "outputs": [],
   "source": [
    "df_cv_tfidfword2vec = pd.DataFrame(\n",
    "    {'max_depth': max_depth,\n",
    "     'min_samples_split': min_samples_split,\n",
    "     'cv_auc_cv_tfidfword2vec': cv_auc_cv_tfidfword2vec\n",
    "    })"
   ]
  },
  {
   "cell_type": "code",
   "execution_count": 112,
   "metadata": {
    "colab": {
     "base_uri": "https://localhost:8080/",
     "height": 279
    },
    "colab_type": "code",
    "id": "zMAkIOqIysJ3",
    "outputId": "cc6e5217-8fa3-4be1-e22d-bb9a050e5fee"
   },
   "outputs": [
    {
     "data": {
      "image/png": "[encoded data removed]",
      "text/plain": [
       "<Figure size 432x288 with 2 Axes>"
      ]
     },
     "metadata": {
      "tags": []
     },
     "output_type": "display_data"
    }
   ],
   "source": [
    "df_cv_tfidfword2vec = df_cv_tfidfword2vec.pivot(\"max_depth\", \"min_samples_split\", \"cv_auc_cv_tfidfword2vec\")\n",
    "\n",
    "ax = sns.heatmap(df_cv_tfidfword2vec,annot=True)"
   ]
  },
  {
   "cell_type": "code",
   "execution_count": 0,
   "metadata": {
    "colab": {},
    "colab_type": "code",
    "id": "mkUdUKxiEj21"
   },
   "outputs": [],
   "source": [
    "clf_model_tfidfword2vec = DecisionTreeClassifier(criterion='gini', splitter='best',max_depth=10,min_samples_split=500)\n",
    "\n",
    "clf_model_tfidfword2vec.fit(tfidf_sent_vectors_train_norm, Y_train)\n",
    "\n",
    "Y_predict_tfidfword2vec=clf_model_tfidfword2vec.predict(tfidf_sent_vectors_test_norm)\n",
    "Y_prob_tfidfword2vec=clf_model_tfidfword2vec.predict_proba(tfidf_sent_vectors_test_norm)"
   ]
  },
  {
   "cell_type": "code",
   "execution_count": 88,
   "metadata": {
    "colab": {
     "base_uri": "https://localhost:8080/",
     "height": 34
    },
    "colab_type": "code",
    "id": "wSxJL0SlGPwX",
    "outputId": "1253b1bf-dc47-4fef-f7a4-bd15938c08c2"
   },
   "outputs": [
    {
     "name": "stdout",
     "output_type": "stream",
     "text": [
      "AUC 0.7474061018996392\n"
     ]
    }
   ],
   "source": [
    "fpr, tpr, thresholds = metrics.roc_curve(Y_test, Y_prob_tfidfword2vec[:,1])\n",
    "print(\"AUC\",metrics.auc(fpr, tpr))"
   ]
  },
  {
   "cell_type": "code",
   "execution_count": 89,
   "metadata": {
    "colab": {
     "base_uri": "https://localhost:8080/",
     "height": 1343
    },
    "colab_type": "code",
    "id": "IygKx8noGn-Y",
    "outputId": "63a6399d-a149-4b5d-e535-f36764980ecc"
   },
   "outputs": [
    {
     "name": "stdout",
     "output_type": "stream",
     "text": [
      "-------------------- Confusion matrix --------------------\n"
     ]
    },
    {
     "data": {
      "image/png": "[encoded data removed]",
      "text/plain": [
       "<Figure size 1440x504 with 2 Axes>"
      ]
     },
     "metadata": {
      "tags": []
     },
     "output_type": "display_data"
    },
    {
     "name": "stdout",
     "output_type": "stream",
     "text": [
      "-------------------- Precision matrix (Columm Sum=1) --------------------\n"
     ]
    },
    {
     "data": {
      "image/png": "[encoded data removed]",
      "text/plain": [
       "<Figure size 1440x504 with 2 Axes>"
      ]
     },
     "metadata": {
      "tags": []
     },
     "output_type": "display_data"
    },
    {
     "name": "stdout",
     "output_type": "stream",
     "text": [
      "-------------------- Recall matrix (Row sum=1) --------------------\n"
     ]
    },
    {
     "data": {
      "image/png": "[encoded data removed]",
      "text/plain": [
       "<Figure size 1440x504 with 2 Axes>"
      ]
     },
     "metadata": {
      "tags": []
     },
     "output_type": "display_data"
    }
   ],
   "source": [
    "plot_confusion_matrix(Y_test,Y_predict_tfidfword2vec)"
   ]
  },
  {
   "cell_type": "markdown",
   "metadata": {
    "colab_type": "text",
    "id": "lvz3J4sSGtJS"
   },
   "source": [
    "# conclusion"
   ]
  },
  {
   "cell_type": "code",
   "execution_count": 0,
   "metadata": {
    "colab": {},
    "colab_type": "code",
    "id": "mlBRN7umGvm1"
   },
   "outputs": [],
   "source": [
    "from prettytable import PrettyTable\n",
    "x = PrettyTable()"
   ]
  },
  {
   "cell_type": "code",
   "execution_count": 0,
   "metadata": {
    "colab": {},
    "colab_type": "code",
    "id": "S6R13bZYGzzk"
   },
   "outputs": [],
   "source": [
    "x.field_names = [\"Type of vectorizer\", \"max_depth\",\"min_samples_split\",\"auc\"]"
   ]
  },
  {
   "cell_type": "code",
   "execution_count": 0,
   "metadata": {
    "colab": {},
    "colab_type": "code",
    "id": "cA5k9TG9G2mH"
   },
   "outputs": [],
   "source": [
    "x.add_row([\"TFIDF\",\"50\",\"500\",\"0.793\"])\n",
    "x.add_row([\"BOW\",\"50\",\"500\",\"0.792\"])\n",
    "x.add_row([\"word2vec\",\"10\",\"500\",\"0.797\"])\n",
    "x.add_row([\"tfidf word2vec\",\"10\",\"500\",\"0.764\"])"
   ]
  },
  {
   "cell_type": "code",
   "execution_count": 116,
   "metadata": {
    "colab": {
     "base_uri": "https://localhost:8080/",
     "height": 153
    },
    "colab_type": "code",
    "id": "KbA9tLVXG5tz",
    "outputId": "da66f768-8002-4e32-a44f-93b108d755fa"
   },
   "outputs": [
    {
     "name": "stdout",
     "output_type": "stream",
     "text": [
      "+--------------------+-----------+-------------------+-------+\n",
      "| Type of vectorizer | max_depth | min_samples_split |  auc  |\n",
      "+--------------------+-----------+-------------------+-------+\n",
      "|       TFIDF        |     50    |        500        | 0.793 |\n",
      "|        BOW         |     50    |        500        | 0.792 |\n",
      "|      word2vec      |     10    |        500        | 0.797 |\n",
      "|   tfidf word2vec   |     10    |        500        | 0.764 |\n",
      "+--------------------+-----------+-------------------+-------+\n"
     ]
    }
   ],
   "source": [
    "print(x)"
   ]
  }
 ],
 "metadata": {
  "accelerator": "GPU",
  "colab": {
   "collapsed_sections": [],
   "name": "AmazonFineFoodReviewDT.ipynb",
   "provenance": [],
   "version": "0.3.2"
  },
  "kernelspec": {
   "display_name": "Python 3",
   "language": "python",
   "name": "python3"
  },
  "language_info": {
   "codemirror_mode": {
    "name": "ipython",
    "version": 3
   },
   "file_extension": ".py",
   "mimetype": "text/x-python",
   "name": "python",
   "nbconvert_exporter": "python",
   "pygments_lexer": "ipython3",
   "version": "3.6.4"
  }
 },
 "nbformat": 4,
 "nbformat_minor": 1
}
